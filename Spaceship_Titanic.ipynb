{
  "cells": [
    {
      "cell_type": "markdown",
      "metadata": {
        "id": "view-in-github",
        "colab_type": "text"
      },
      "source": [
        "<a href=\"https://colab.research.google.com/github/jaamike/Project1/blob/main/Spaceship_Titanic.ipynb\" target=\"_parent\"><img src=\"https://colab.research.google.com/assets/colab-badge.svg\" alt=\"Open In Colab\"/></a>"
      ]
    },
    {
      "cell_type": "markdown",
      "metadata": {
        "id": "hulC3QJ9EibQ"
      },
      "source": [
        "# Spaceship-Titanic project using ML"
      ]
    },
    {
      "cell_type": "markdown",
      "metadata": {
        "id": "LMHPAPT2pEdD"
      },
      "source": [
        "## 1. Problem Definition\n",
        "Predict which passengers are transported to an alternate dimension"
      ]
    },
    {
      "cell_type": "markdown",
      "metadata": {
        "id": "JNZ9L3h3pbHP"
      },
      "source": [
        "## 2. Data\n",
        "\n",
        "[from kaggle](https://www.kaggle.com/competitions/spaceship-titanic/data)\n",
        "\n",
        "there are 3 datasets:\n",
        "\n",
        "1.train.csv\n",
        "\n",
        "2.test.csv\n",
        "\n",
        "3.sample_submission.csv\n",
        " > The independent variables are passengers and the dependent variable is whether or not they are transported to an alternate dimension"
      ]
    },
    {
      "cell_type": "markdown",
      "metadata": {
        "id": "J2AD_02rrMAQ"
      },
      "source": [
        "## 3. Evaluation\n",
      ]
    },
    {
      "cell_type": "markdown",
      "metadata": {
        "id": "HNjfWCm8soFy"
      },
      "source": [
        "## 4. Features\n",
        "### Spaceship Titanic Data Dictionary\n",
        "* PassengerId - A unique Id for each passenger. Each Id takes the form gggg_pp where gggg indicates a group the passenger is travelling with and pp is their number within the group. People in a group are often family members, but not always.\n",
        "* HomePlanet - The planet the passenger departed from, typically their planet of permanent residence.\n",
        "* CryoSleep - Indicates whether the passenger elected to be put into suspended animation for the duration of the voyage. Passengers in cryosleep are confined to their cabins.\n",
        "* Cabin - The cabin number where the passenger is staying. Takes the form deck/num/side, where side can be either P for Port or S for Starboard.\n",
        "* Destination - The planet the passenger will be debarking to.\n",
        "*Age - The age of the passenger.\n",
        "*VIP - Whether the passenger has paid for special VIP service during the voyage.\n",
        "* RoomService, FoodCourt, ShoppingMall, Spa, VRDeck - Amount the passenger has billed at each of the Spaceship Titanic's many luxury amenities.\n",
        "* Name - The first and last names of the passenger.\n",
        "* Transported - Whether the passenger was transported to another dimension. This is the target, the column you are trying to predict."
      ]
    },
    {
      "cell_type": "markdown",
      "metadata": {
        "id": "dawDHJnfthpo"
      },
      "source": [
        "### Preparing the tools"
      ]
    },
    {
      "cell_type": "code",
      "execution_count": 1,
      "metadata": {
        "id": "j1LQ3MTMt747"
      },
      "outputs": [],
      "source": [
        "import numpy as np\n",
        "import pandas as pd\n",
        "import matplotlib.pyplot as plt\n",
        "import seaborn as sns\n",
        "%matplotlib inline\n",
        "\n",
        "from sklearn.linear_model import LogisticRegression\n",
        "from sklearn.neighbors import KNeighborsClassifier\n",
        "from sklearn.ensemble import RandomForestClassifier\n",
        "\n",
        "from sklearn.model_selection import train_test_split, cross_val_score\n",
        "from sklearn.model_selection import RandomizedSearchCV, GridSearchCV\n",
        "from sklearn.metrics import confusion_matrix, classification_report\n",
        "from sklearn.metrics import precision_score, recall_score, f1_score\n",
        "from sklearn.metrics import plot_roc_curve\n",
        "\n",
        "from sklearn.preprocessing import StandardScaler"
      ]
    },
    {
      "cell_type": "markdown",
      "metadata": {
        "id": "vm9XI5i5vQA6"
      },
      "source": [
        "### Import Data"
      ]
    },
    {
      "cell_type": "code",
      "execution_count": 2,
      "metadata": {
        "id": "WVRl8IxXvfki"
      },
      "outputs": [],
      "source": [
        "train = pd.read_csv(\"/content/drive/MyDrive/Project/Spaceship Titanic/train.csv\")\n",
        "test = pd.read_csv(\"/content/drive/MyDrive/Project/Spaceship Titanic/test.csv\")\n",
        "test_tmp = test.copy()\n",
        "train_tmp = test.copy()"
      ]
    },
    {
      "cell_type": "markdown",
      "metadata": {
        "id": "Z5egSSBOzkVs"
      },
      "source": [
        "### Data Exploration"
      ]
    },
    {
      "cell_type": "code",
      "source": [
        "test.head()"
      ],
      "metadata": {
        "colab": {
          "base_uri": "https://localhost:8080/",
          "height": 357
        },
        "id": "VGbKhNfZC2NT",
        "outputId": "8eff5f22-0842-4089-ef86-401ea2459a9f"
      },
      "execution_count": 3,
      "outputs": [
        {
          "output_type": "execute_result",
          "data": {
            "text/plain": [
              "  PassengerId HomePlanet CryoSleep  Cabin  Destination   Age    VIP  \\\n",
              "0     0013_01      Earth      True  G/3/S  TRAPPIST-1e  27.0  False   \n",
              "1     0018_01      Earth     False  F/4/S  TRAPPIST-1e  19.0  False   \n",
              "2     0019_01     Europa      True  C/0/S  55 Cancri e  31.0  False   \n",
              "3     0021_01     Europa     False  C/1/S  TRAPPIST-1e  38.0  False   \n",
              "4     0023_01      Earth     False  F/5/S  TRAPPIST-1e  20.0  False   \n",
              "\n",
              "   RoomService  FoodCourt  ShoppingMall     Spa  VRDeck              Name  \n",
              "0          0.0        0.0           0.0     0.0     0.0   Nelly Carsoning  \n",
              "1          0.0        9.0           0.0  2823.0     0.0    Lerome Peckers  \n",
              "2          0.0        0.0           0.0     0.0     0.0   Sabih Unhearfus  \n",
              "3          0.0     6652.0           0.0   181.0   585.0  Meratz Caltilter  \n",
              "4         10.0        0.0         635.0     0.0     0.0   Brence Harperez  "
            ],
            "text/html": [
              "\n",
              "  <div id=\"df-e53a5cad-25e4-4790-b924-aabfeaf07835\">\n",
              "    <div class=\"colab-df-container\">\n",
              "      <div>\n",
              "<style scoped>\n",
              "    .dataframe tbody tr th:only-of-type {\n",
              "        vertical-align: middle;\n",
              "    }\n",
              "\n",
              "    .dataframe tbody tr th {\n",
              "        vertical-align: top;\n",
              "    }\n",
              "\n",
              "    .dataframe thead th {\n",
              "        text-align: right;\n",
              "    }\n",
              "</style>\n",
              "<table border=\"1\" class=\"dataframe\">\n",
              "  <thead>\n",
              "    <tr style=\"text-align: right;\">\n",
              "      <th></th>\n",
              "      <th>PassengerId</th>\n",
              "      <th>HomePlanet</th>\n",
              "      <th>CryoSleep</th>\n",
              "      <th>Cabin</th>\n",
              "      <th>Destination</th>\n",
              "      <th>Age</th>\n",
              "      <th>VIP</th>\n",
              "      <th>RoomService</th>\n",
              "      <th>FoodCourt</th>\n",
              "      <th>ShoppingMall</th>\n",
              "      <th>Spa</th>\n",
              "      <th>VRDeck</th>\n",
              "      <th>Name</th>\n",
              "    </tr>\n",
              "  </thead>\n",
              "  <tbody>\n",
              "    <tr>\n",
              "      <th>0</th>\n",
              "      <td>0013_01</td>\n",
              "      <td>Earth</td>\n",
              "      <td>True</td>\n",
              "      <td>G/3/S</td>\n",
              "      <td>TRAPPIST-1e</td>\n",
              "      <td>27.0</td>\n",
              "      <td>False</td>\n",
              "      <td>0.0</td>\n",
              "      <td>0.0</td>\n",
              "      <td>0.0</td>\n",
              "      <td>0.0</td>\n",
              "      <td>0.0</td>\n",
              "      <td>Nelly Carsoning</td>\n",
              "    </tr>\n",
              "    <tr>\n",
              "      <th>1</th>\n",
              "      <td>0018_01</td>\n",
              "      <td>Earth</td>\n",
              "      <td>False</td>\n",
              "      <td>F/4/S</td>\n",
              "      <td>TRAPPIST-1e</td>\n",
              "      <td>19.0</td>\n",
              "      <td>False</td>\n",
              "      <td>0.0</td>\n",
              "      <td>9.0</td>\n",
              "      <td>0.0</td>\n",
              "      <td>2823.0</td>\n",
              "      <td>0.0</td>\n",
              "      <td>Lerome Peckers</td>\n",
              "    </tr>\n",
              "    <tr>\n",
              "      <th>2</th>\n",
              "      <td>0019_01</td>\n",
              "      <td>Europa</td>\n",
              "      <td>True</td>\n",
              "      <td>C/0/S</td>\n",
              "      <td>55 Cancri e</td>\n",
              "      <td>31.0</td>\n",
              "      <td>False</td>\n",
              "      <td>0.0</td>\n",
              "      <td>0.0</td>\n",
              "      <td>0.0</td>\n",
              "      <td>0.0</td>\n",
              "      <td>0.0</td>\n",
              "      <td>Sabih Unhearfus</td>\n",
              "    </tr>\n",
              "    <tr>\n",
              "      <th>3</th>\n",
              "      <td>0021_01</td>\n",
              "      <td>Europa</td>\n",
              "      <td>False</td>\n",
              "      <td>C/1/S</td>\n",
              "      <td>TRAPPIST-1e</td>\n",
              "      <td>38.0</td>\n",
              "      <td>False</td>\n",
              "      <td>0.0</td>\n",
              "      <td>6652.0</td>\n",
              "      <td>0.0</td>\n",
              "      <td>181.0</td>\n",
              "      <td>585.0</td>\n",
              "      <td>Meratz Caltilter</td>\n",
              "    </tr>\n",
              "    <tr>\n",
              "      <th>4</th>\n",
              "      <td>0023_01</td>\n",
              "      <td>Earth</td>\n",
              "      <td>False</td>\n",
              "      <td>F/5/S</td>\n",
              "      <td>TRAPPIST-1e</td>\n",
              "      <td>20.0</td>\n",
              "      <td>False</td>\n",
              "      <td>10.0</td>\n",
              "      <td>0.0</td>\n",
              "      <td>635.0</td>\n",
              "      <td>0.0</td>\n",
              "      <td>0.0</td>\n",
              "      <td>Brence Harperez</td>\n",
              "    </tr>\n",
              "  </tbody>\n",
              "</table>\n",
              "</div>\n",
              "      <button class=\"colab-df-convert\" onclick=\"convertToInteractive('df-e53a5cad-25e4-4790-b924-aabfeaf07835')\"\n",
              "              title=\"Convert this dataframe to an interactive table.\"\n",
              "              style=\"display:none;\">\n",
              "        \n",
              "  <svg xmlns=\"http://www.w3.org/2000/svg\" height=\"24px\"viewBox=\"0 0 24 24\"\n",
              "       width=\"24px\">\n",
              "    <path d=\"M0 0h24v24H0V0z\" fill=\"none\"/>\n",
              "    <path d=\"M18.56 5.44l.94 2.06.94-2.06 2.06-.94-2.06-.94-.94-2.06-.94 2.06-2.06.94zm-11 1L8.5 8.5l.94-2.06 2.06-.94-2.06-.94L8.5 2.5l-.94 2.06-2.06.94zm10 10l.94 2.06.94-2.06 2.06-.94-2.06-.94-.94-2.06-.94 2.06-2.06.94z\"/><path d=\"M17.41 7.96l-1.37-1.37c-.4-.4-.92-.59-1.43-.59-.52 0-1.04.2-1.43.59L10.3 9.45l-7.72 7.72c-.78.78-.78 2.05 0 2.83L4 21.41c.39.39.9.59 1.41.59.51 0 1.02-.2 1.41-.59l7.78-7.78 2.81-2.81c.8-.78.8-2.07 0-2.86zM5.41 20L4 18.59l7.72-7.72 1.47 1.35L5.41 20z\"/>\n",
              "  </svg>\n",
              "      </button>\n",
              "      \n",
              "  <style>\n",
              "    .colab-df-container {\n",
              "      display:flex;\n",
              "      flex-wrap:wrap;\n",
              "      gap: 12px;\n",
              "    }\n",
              "\n",
              "    .colab-df-convert {\n",
              "      background-color: #E8F0FE;\n",
              "      border: none;\n",
              "      border-radius: 50%;\n",
              "      cursor: pointer;\n",
              "      display: none;\n",
              "      fill: #1967D2;\n",
              "      height: 32px;\n",
              "      padding: 0 0 0 0;\n",
              "      width: 32px;\n",
              "    }\n",
              "\n",
              "    .colab-df-convert:hover {\n",
              "      background-color: #E2EBFA;\n",
              "      box-shadow: 0px 1px 2px rgba(60, 64, 67, 0.3), 0px 1px 3px 1px rgba(60, 64, 67, 0.15);\n",
              "      fill: #174EA6;\n",
              "    }\n",
              "\n",
              "    [theme=dark] .colab-df-convert {\n",
              "      background-color: #3B4455;\n",
              "      fill: #D2E3FC;\n",
              "    }\n",
              "\n",
              "    [theme=dark] .colab-df-convert:hover {\n",
              "      background-color: #434B5C;\n",
              "      box-shadow: 0px 1px 3px 1px rgba(0, 0, 0, 0.15);\n",
              "      filter: drop-shadow(0px 1px 2px rgba(0, 0, 0, 0.3));\n",
              "      fill: #FFFFFF;\n",
              "    }\n",
              "  </style>\n",
              "\n",
              "      <script>\n",
              "        const buttonEl =\n",
              "          document.querySelector('#df-e53a5cad-25e4-4790-b924-aabfeaf07835 button.colab-df-convert');\n",
              "        buttonEl.style.display =\n",
              "          google.colab.kernel.accessAllowed ? 'block' : 'none';\n",
              "\n",
              "        async function convertToInteractive(key) {\n",
              "          const element = document.querySelector('#df-e53a5cad-25e4-4790-b924-aabfeaf07835');\n",
              "          const dataTable =\n",
              "            await google.colab.kernel.invokeFunction('convertToInteractive',\n",
              "                                                     [key], {});\n",
              "          if (!dataTable) return;\n",
              "\n",
              "          const docLinkHtml = 'Like what you see? Visit the ' +\n",
              "            '<a target=\"_blank\" href=https://colab.research.google.com/notebooks/data_table.ipynb>data table notebook</a>'\n",
              "            + ' to learn more about interactive tables.';\n",
              "          element.innerHTML = '';\n",
              "          dataTable['output_type'] = 'display_data';\n",
              "          await google.colab.output.renderOutput(dataTable, element);\n",
              "          const docLink = document.createElement('div');\n",
              "          docLink.innerHTML = docLinkHtml;\n",
              "          element.appendChild(docLink);\n",
              "        }\n",
              "      </script>\n",
              "    </div>\n",
              "  </div>\n",
              "  "
            ]
          },
          "metadata": {},
          "execution_count": 3
        }
      ]
    },
    {
      "cell_type": "code",
      "execution_count": 4,
      "metadata": {
        "colab": {
          "base_uri": "https://localhost:8080/",
          "height": 587
        },
        "id": "VnsHSMADzhW9",
        "outputId": "69aaafb9-19ec-4fa8-acad-292575a81fb6"
      },
      "outputs": [
        {
          "output_type": "execute_result",
          "data": {
            "text/plain": [
              "                            0             1              2             3  \\\n",
              "PassengerId           0001_01       0002_01        0003_01       0003_02   \n",
              "HomePlanet             Europa         Earth         Europa        Europa   \n",
              "CryoSleep               False         False          False         False   \n",
              "Cabin                   B/0/P         F/0/S          A/0/S         A/0/S   \n",
              "Destination       TRAPPIST-1e   TRAPPIST-1e    TRAPPIST-1e   TRAPPIST-1e   \n",
              "Age                      39.0          24.0           58.0          33.0   \n",
              "VIP                     False         False           True         False   \n",
              "RoomService               0.0         109.0           43.0           0.0   \n",
              "FoodCourt                 0.0           9.0         3576.0        1283.0   \n",
              "ShoppingMall              0.0          25.0            0.0         371.0   \n",
              "Spa                       0.0         549.0         6715.0        3329.0   \n",
              "VRDeck                    0.0          44.0           49.0         193.0   \n",
              "Name          Maham Ofracculy  Juanna Vines  Altark Susent  Solam Susent   \n",
              "Transported             False          True          False         False   \n",
              "\n",
              "                              4                  5                   6  \\\n",
              "PassengerId             0004_01            0005_01             0006_01   \n",
              "HomePlanet                Earth              Earth               Earth   \n",
              "CryoSleep                 False              False               False   \n",
              "Cabin                     F/1/S              F/0/P               F/2/S   \n",
              "Destination         TRAPPIST-1e      PSO J318.5-22         TRAPPIST-1e   \n",
              "Age                        16.0               44.0                26.0   \n",
              "VIP                       False              False               False   \n",
              "RoomService               303.0                0.0                42.0   \n",
              "FoodCourt                  70.0              483.0              1539.0   \n",
              "ShoppingMall              151.0                0.0                 3.0   \n",
              "Spa                       565.0              291.0                 0.0   \n",
              "VRDeck                      2.0                0.0                 0.0   \n",
              "Name          Willy Santantines  Sandie Hinetthews  Billex Jacostaffey   \n",
              "Transported                True               True                True   \n",
              "\n",
              "                               7              8               9  \n",
              "PassengerId              0006_02        0007_01         0008_01  \n",
              "HomePlanet                 Earth          Earth          Europa  \n",
              "CryoSleep                   True          False            True  \n",
              "Cabin                      G/0/S          F/3/S           B/1/P  \n",
              "Destination          TRAPPIST-1e    TRAPPIST-1e     55 Cancri e  \n",
              "Age                         28.0           35.0            14.0  \n",
              "VIP                        False          False           False  \n",
              "RoomService                  0.0            0.0             0.0  \n",
              "FoodCourt                    0.0          785.0             0.0  \n",
              "ShoppingMall                 0.0           17.0             0.0  \n",
              "Spa                          0.0          216.0             0.0  \n",
              "VRDeck                       NaN            0.0             0.0  \n",
              "Name          Candra Jacostaffey  Andona Beston  Erraiam Flatic  \n",
              "Transported                 True           True            True  "
            ],
            "text/html": [
              "\n",
              "  <div id=\"df-f1908952-a79e-4764-b760-60db6efbe8b4\">\n",
              "    <div class=\"colab-df-container\">\n",
              "      <div>\n",
              "<style scoped>\n",
              "    .dataframe tbody tr th:only-of-type {\n",
              "        vertical-align: middle;\n",
              "    }\n",
              "\n",
              "    .dataframe tbody tr th {\n",
              "        vertical-align: top;\n",
              "    }\n",
              "\n",
              "    .dataframe thead th {\n",
              "        text-align: right;\n",
              "    }\n",
              "</style>\n",
              "<table border=\"1\" class=\"dataframe\">\n",
              "  <thead>\n",
              "    <tr style=\"text-align: right;\">\n",
              "      <th></th>\n",
              "      <th>0</th>\n",
              "      <th>1</th>\n",
              "      <th>2</th>\n",
              "      <th>3</th>\n",
              "      <th>4</th>\n",
              "      <th>5</th>\n",
              "      <th>6</th>\n",
              "      <th>7</th>\n",
              "      <th>8</th>\n",
              "      <th>9</th>\n",
              "    </tr>\n",
              "  </thead>\n",
              "  <tbody>\n",
              "    <tr>\n",
              "      <th>PassengerId</th>\n",
              "      <td>0001_01</td>\n",
              "      <td>0002_01</td>\n",
              "      <td>0003_01</td>\n",
              "      <td>0003_02</td>\n",
              "      <td>0004_01</td>\n",
              "      <td>0005_01</td>\n",
              "      <td>0006_01</td>\n",
              "      <td>0006_02</td>\n",
              "      <td>0007_01</td>\n",
              "      <td>0008_01</td>\n",
              "    </tr>\n",
              "    <tr>\n",
              "      <th>HomePlanet</th>\n",
              "      <td>Europa</td>\n",
              "      <td>Earth</td>\n",
              "      <td>Europa</td>\n",
              "      <td>Europa</td>\n",
              "      <td>Earth</td>\n",
              "      <td>Earth</td>\n",
              "      <td>Earth</td>\n",
              "      <td>Earth</td>\n",
              "      <td>Earth</td>\n",
              "      <td>Europa</td>\n",
              "    </tr>\n",
              "    <tr>\n",
              "      <th>CryoSleep</th>\n",
              "      <td>False</td>\n",
              "      <td>False</td>\n",
              "      <td>False</td>\n",
              "      <td>False</td>\n",
              "      <td>False</td>\n",
              "      <td>False</td>\n",
              "      <td>False</td>\n",
              "      <td>True</td>\n",
              "      <td>False</td>\n",
              "      <td>True</td>\n",
              "    </tr>\n",
              "    <tr>\n",
              "      <th>Cabin</th>\n",
              "      <td>B/0/P</td>\n",
              "      <td>F/0/S</td>\n",
              "      <td>A/0/S</td>\n",
              "      <td>A/0/S</td>\n",
              "      <td>F/1/S</td>\n",
              "      <td>F/0/P</td>\n",
              "      <td>F/2/S</td>\n",
              "      <td>G/0/S</td>\n",
              "      <td>F/3/S</td>\n",
              "      <td>B/1/P</td>\n",
              "    </tr>\n",
              "    <tr>\n",
              "      <th>Destination</th>\n",
              "      <td>TRAPPIST-1e</td>\n",
              "      <td>TRAPPIST-1e</td>\n",
              "      <td>TRAPPIST-1e</td>\n",
              "      <td>TRAPPIST-1e</td>\n",
              "      <td>TRAPPIST-1e</td>\n",
              "      <td>PSO J318.5-22</td>\n",
              "      <td>TRAPPIST-1e</td>\n",
              "      <td>TRAPPIST-1e</td>\n",
              "      <td>TRAPPIST-1e</td>\n",
              "      <td>55 Cancri e</td>\n",
              "    </tr>\n",
              "    <tr>\n",
              "      <th>Age</th>\n",
              "      <td>39.0</td>\n",
              "      <td>24.0</td>\n",
              "      <td>58.0</td>\n",
              "      <td>33.0</td>\n",
              "      <td>16.0</td>\n",
              "      <td>44.0</td>\n",
              "      <td>26.0</td>\n",
              "      <td>28.0</td>\n",
              "      <td>35.0</td>\n",
              "      <td>14.0</td>\n",
              "    </tr>\n",
              "    <tr>\n",
              "      <th>VIP</th>\n",
              "      <td>False</td>\n",
              "      <td>False</td>\n",
              "      <td>True</td>\n",
              "      <td>False</td>\n",
              "      <td>False</td>\n",
              "      <td>False</td>\n",
              "      <td>False</td>\n",
              "      <td>False</td>\n",
              "      <td>False</td>\n",
              "      <td>False</td>\n",
              "    </tr>\n",
              "    <tr>\n",
              "      <th>RoomService</th>\n",
              "      <td>0.0</td>\n",
              "      <td>109.0</td>\n",
              "      <td>43.0</td>\n",
              "      <td>0.0</td>\n",
              "      <td>303.0</td>\n",
              "      <td>0.0</td>\n",
              "      <td>42.0</td>\n",
              "      <td>0.0</td>\n",
              "      <td>0.0</td>\n",
              "      <td>0.0</td>\n",
              "    </tr>\n",
              "    <tr>\n",
              "      <th>FoodCourt</th>\n",
              "      <td>0.0</td>\n",
              "      <td>9.0</td>\n",
              "      <td>3576.0</td>\n",
              "      <td>1283.0</td>\n",
              "      <td>70.0</td>\n",
              "      <td>483.0</td>\n",
              "      <td>1539.0</td>\n",
              "      <td>0.0</td>\n",
              "      <td>785.0</td>\n",
              "      <td>0.0</td>\n",
              "    </tr>\n",
              "    <tr>\n",
              "      <th>ShoppingMall</th>\n",
              "      <td>0.0</td>\n",
              "      <td>25.0</td>\n",
              "      <td>0.0</td>\n",
              "      <td>371.0</td>\n",
              "      <td>151.0</td>\n",
              "      <td>0.0</td>\n",
              "      <td>3.0</td>\n",
              "      <td>0.0</td>\n",
              "      <td>17.0</td>\n",
              "      <td>0.0</td>\n",
              "    </tr>\n",
              "    <tr>\n",
              "      <th>Spa</th>\n",
              "      <td>0.0</td>\n",
              "      <td>549.0</td>\n",
              "      <td>6715.0</td>\n",
              "      <td>3329.0</td>\n",
              "      <td>565.0</td>\n",
              "      <td>291.0</td>\n",
              "      <td>0.0</td>\n",
              "      <td>0.0</td>\n",
              "      <td>216.0</td>\n",
              "      <td>0.0</td>\n",
              "    </tr>\n",
              "    <tr>\n",
              "      <th>VRDeck</th>\n",
              "      <td>0.0</td>\n",
              "      <td>44.0</td>\n",
              "      <td>49.0</td>\n",
              "      <td>193.0</td>\n",
              "      <td>2.0</td>\n",
              "      <td>0.0</td>\n",
              "      <td>0.0</td>\n",
              "      <td>NaN</td>\n",
              "      <td>0.0</td>\n",
              "      <td>0.0</td>\n",
              "    </tr>\n",
              "    <tr>\n",
              "      <th>Name</th>\n",
              "      <td>Maham Ofracculy</td>\n",
              "      <td>Juanna Vines</td>\n",
              "      <td>Altark Susent</td>\n",
              "      <td>Solam Susent</td>\n",
              "      <td>Willy Santantines</td>\n",
              "      <td>Sandie Hinetthews</td>\n",
              "      <td>Billex Jacostaffey</td>\n",
              "      <td>Candra Jacostaffey</td>\n",
              "      <td>Andona Beston</td>\n",
              "      <td>Erraiam Flatic</td>\n",
              "    </tr>\n",
              "    <tr>\n",
              "      <th>Transported</th>\n",
              "      <td>False</td>\n",
              "      <td>True</td>\n",
              "      <td>False</td>\n",
              "      <td>False</td>\n",
              "      <td>True</td>\n",
              "      <td>True</td>\n",
              "      <td>True</td>\n",
              "      <td>True</td>\n",
              "      <td>True</td>\n",
              "      <td>True</td>\n",
              "    </tr>\n",
              "  </tbody>\n",
              "</table>\n",
              "</div>\n",
              "      <button class=\"colab-df-convert\" onclick=\"convertToInteractive('df-f1908952-a79e-4764-b760-60db6efbe8b4')\"\n",
              "              title=\"Convert this dataframe to an interactive table.\"\n",
              "              style=\"display:none;\">\n",
              "        \n",
              "  <svg xmlns=\"http://www.w3.org/2000/svg\" height=\"24px\"viewBox=\"0 0 24 24\"\n",
              "       width=\"24px\">\n",
              "    <path d=\"M0 0h24v24H0V0z\" fill=\"none\"/>\n",
              "    <path d=\"M18.56 5.44l.94 2.06.94-2.06 2.06-.94-2.06-.94-.94-2.06-.94 2.06-2.06.94zm-11 1L8.5 8.5l.94-2.06 2.06-.94-2.06-.94L8.5 2.5l-.94 2.06-2.06.94zm10 10l.94 2.06.94-2.06 2.06-.94-2.06-.94-.94-2.06-.94 2.06-2.06.94z\"/><path d=\"M17.41 7.96l-1.37-1.37c-.4-.4-.92-.59-1.43-.59-.52 0-1.04.2-1.43.59L10.3 9.45l-7.72 7.72c-.78.78-.78 2.05 0 2.83L4 21.41c.39.39.9.59 1.41.59.51 0 1.02-.2 1.41-.59l7.78-7.78 2.81-2.81c.8-.78.8-2.07 0-2.86zM5.41 20L4 18.59l7.72-7.72 1.47 1.35L5.41 20z\"/>\n",
              "  </svg>\n",
              "      </button>\n",
              "      \n",
              "  <style>\n",
              "    .colab-df-container {\n",
              "      display:flex;\n",
              "      flex-wrap:wrap;\n",
              "      gap: 12px;\n",
              "    }\n",
              "\n",
              "    .colab-df-convert {\n",
              "      background-color: #E8F0FE;\n",
              "      border: none;\n",
              "      border-radius: 50%;\n",
              "      cursor: pointer;\n",
              "      display: none;\n",
              "      fill: #1967D2;\n",
              "      height: 32px;\n",
              "      padding: 0 0 0 0;\n",
              "      width: 32px;\n",
              "    }\n",
              "\n",
              "    .colab-df-convert:hover {\n",
              "      background-color: #E2EBFA;\n",
              "      box-shadow: 0px 1px 2px rgba(60, 64, 67, 0.3), 0px 1px 3px 1px rgba(60, 64, 67, 0.15);\n",
              "      fill: #174EA6;\n",
              "    }\n",
              "\n",
              "    [theme=dark] .colab-df-convert {\n",
              "      background-color: #3B4455;\n",
              "      fill: #D2E3FC;\n",
              "    }\n",
              "\n",
              "    [theme=dark] .colab-df-convert:hover {\n",
              "      background-color: #434B5C;\n",
              "      box-shadow: 0px 1px 3px 1px rgba(0, 0, 0, 0.15);\n",
              "      filter: drop-shadow(0px 1px 2px rgba(0, 0, 0, 0.3));\n",
              "      fill: #FFFFFF;\n",
              "    }\n",
              "  </style>\n",
              "\n",
              "      <script>\n",
              "        const buttonEl =\n",
              "          document.querySelector('#df-f1908952-a79e-4764-b760-60db6efbe8b4 button.colab-df-convert');\n",
              "        buttonEl.style.display =\n",
              "          google.colab.kernel.accessAllowed ? 'block' : 'none';\n",
              "\n",
              "        async function convertToInteractive(key) {\n",
              "          const element = document.querySelector('#df-f1908952-a79e-4764-b760-60db6efbe8b4');\n",
              "          const dataTable =\n",
              "            await google.colab.kernel.invokeFunction('convertToInteractive',\n",
              "                                                     [key], {});\n",
              "          if (!dataTable) return;\n",
              "\n",
              "          const docLinkHtml = 'Like what you see? Visit the ' +\n",
              "            '<a target=\"_blank\" href=https://colab.research.google.com/notebooks/data_table.ipynb>data table notebook</a>'\n",
              "            + ' to learn more about interactive tables.';\n",
              "          element.innerHTML = '';\n",
              "          dataTable['output_type'] = 'display_data';\n",
              "          await google.colab.output.renderOutput(dataTable, element);\n",
              "          const docLink = document.createElement('div');\n",
              "          docLink.innerHTML = docLinkHtml;\n",
              "          element.appendChild(docLink);\n",
              "        }\n",
              "      </script>\n",
              "    </div>\n",
              "  </div>\n",
              "  "
            ]
          },
          "metadata": {},
          "execution_count": 4
        }
      ],
      "source": [
        "train.head(10).T"
      ]
    },
    {
      "cell_type": "code",
      "execution_count": 5,
      "metadata": {
        "colab": {
          "base_uri": "https://localhost:8080/"
        },
        "id": "s_8smc1zzqbZ",
        "outputId": "a8a5b5fe-ccb5-4d36-d618-35f65b1f9cb4"
      },
      "outputs": [
        {
          "output_type": "execute_result",
          "data": {
            "text/plain": [
              "True     4378\n",
              "False    4315\n",
              "Name: Transported, dtype: int64"
            ]
          },
          "metadata": {},
          "execution_count": 5
        }
      ],
      "source": [
        "train.Transported.value_counts()"
      ]
    },
    {
      "cell_type": "code",
      "execution_count": 6,
      "metadata": {
        "colab": {
          "base_uri": "https://localhost:8080/"
        },
        "id": "sA-C6p5-0agi",
        "outputId": "e4eb6318-10dc-48f9-ac5e-cd860ced80b8"
      },
      "outputs": [
        {
          "output_type": "execute_result",
          "data": {
            "text/plain": [
              "True     0.503624\n",
              "False    0.496376\n",
              "Name: Transported, dtype: float64"
            ]
          },
          "metadata": {},
          "execution_count": 6
        }
      ],
      "source": [
        "train.Transported.value_counts(normalize=True)"
      ]
    },
    {
      "cell_type": "code",
      "execution_count": 7,
      "metadata": {
        "colab": {
          "base_uri": "https://localhost:8080/"
        },
        "id": "CtEpC4wn0q_S",
        "outputId": "09a27ffa-6761-47ea-d69a-d348582876ad"
      },
      "outputs": [
        {
          "output_type": "stream",
          "name": "stdout",
          "text": [
            "<class 'pandas.core.frame.DataFrame'>\n",
            "RangeIndex: 8693 entries, 0 to 8692\n",
            "Data columns (total 14 columns):\n",
            " #   Column        Non-Null Count  Dtype  \n",
            "---  ------        --------------  -----  \n",
            " 0   PassengerId   8693 non-null   object \n",
            " 1   HomePlanet    8492 non-null   object \n",
            " 2   CryoSleep     8476 non-null   object \n",
            " 3   Cabin         8494 non-null   object \n",
            " 4   Destination   8511 non-null   object \n",
            " 5   Age           8514 non-null   float64\n",
            " 6   VIP           8490 non-null   object \n",
            " 7   RoomService   8512 non-null   float64\n",
            " 8   FoodCourt     8510 non-null   float64\n",
            " 9   ShoppingMall  8485 non-null   float64\n",
            " 10  Spa           8510 non-null   float64\n",
            " 11  VRDeck        8505 non-null   float64\n",
            " 12  Name          8493 non-null   object \n",
            " 13  Transported   8693 non-null   bool   \n",
            "dtypes: bool(1), float64(6), object(7)\n",
            "memory usage: 891.5+ KB\n"
          ]
        }
      ],
      "source": [
        "train.info()"
      ]
    },
    {
      "cell_type": "code",
      "execution_count": 8,
      "metadata": {
        "colab": {
          "base_uri": "https://localhost:8080/",
          "height": 457
        },
        "id": "gpZshavwiy03",
        "outputId": "682c7c88-3cb7-4684-c24b-f3d1b682e323"
      },
      "outputs": [
        {
          "output_type": "execute_result",
          "data": {
            "text/plain": [
              "                            0               1                2  \\\n",
              "PassengerId           0013_01         0018_01          0019_01   \n",
              "HomePlanet              Earth           Earth           Europa   \n",
              "CryoSleep                True           False             True   \n",
              "Cabin                   G/3/S           F/4/S            C/0/S   \n",
              "Destination       TRAPPIST-1e     TRAPPIST-1e      55 Cancri e   \n",
              "Age                      27.0            19.0             31.0   \n",
              "VIP                     False           False            False   \n",
              "RoomService               0.0             0.0              0.0   \n",
              "FoodCourt                 0.0             9.0              0.0   \n",
              "ShoppingMall              0.0             0.0              0.0   \n",
              "Spa                       0.0          2823.0              0.0   \n",
              "VRDeck                    0.0             0.0              0.0   \n",
              "Name          Nelly Carsoning  Lerome Peckers  Sabih Unhearfus   \n",
              "\n",
              "                             3                4  \n",
              "PassengerId            0021_01          0023_01  \n",
              "HomePlanet              Europa            Earth  \n",
              "CryoSleep                False            False  \n",
              "Cabin                    C/1/S            F/5/S  \n",
              "Destination        TRAPPIST-1e      TRAPPIST-1e  \n",
              "Age                       38.0             20.0  \n",
              "VIP                      False            False  \n",
              "RoomService                0.0             10.0  \n",
              "FoodCourt               6652.0              0.0  \n",
              "ShoppingMall               0.0            635.0  \n",
              "Spa                      181.0              0.0  \n",
              "VRDeck                   585.0              0.0  \n",
              "Name          Meratz Caltilter  Brence Harperez  "
            ],
            "text/html": [
              "\n",
              "  <div id=\"df-b35f0d58-1a43-45e7-9d55-b076c13a4ba0\">\n",
              "    <div class=\"colab-df-container\">\n",
              "      <div>\n",
              "<style scoped>\n",
              "    .dataframe tbody tr th:only-of-type {\n",
              "        vertical-align: middle;\n",
              "    }\n",
              "\n",
              "    .dataframe tbody tr th {\n",
              "        vertical-align: top;\n",
              "    }\n",
              "\n",
              "    .dataframe thead th {\n",
              "        text-align: right;\n",
              "    }\n",
              "</style>\n",
              "<table border=\"1\" class=\"dataframe\">\n",
              "  <thead>\n",
              "    <tr style=\"text-align: right;\">\n",
              "      <th></th>\n",
              "      <th>0</th>\n",
              "      <th>1</th>\n",
              "      <th>2</th>\n",
              "      <th>3</th>\n",
              "      <th>4</th>\n",
              "    </tr>\n",
              "  </thead>\n",
              "  <tbody>\n",
              "    <tr>\n",
              "      <th>PassengerId</th>\n",
              "      <td>0013_01</td>\n",
              "      <td>0018_01</td>\n",
              "      <td>0019_01</td>\n",
              "      <td>0021_01</td>\n",
              "      <td>0023_01</td>\n",
              "    </tr>\n",
              "    <tr>\n",
              "      <th>HomePlanet</th>\n",
              "      <td>Earth</td>\n",
              "      <td>Earth</td>\n",
              "      <td>Europa</td>\n",
              "      <td>Europa</td>\n",
              "      <td>Earth</td>\n",
              "    </tr>\n",
              "    <tr>\n",
              "      <th>CryoSleep</th>\n",
              "      <td>True</td>\n",
              "      <td>False</td>\n",
              "      <td>True</td>\n",
              "      <td>False</td>\n",
              "      <td>False</td>\n",
              "    </tr>\n",
              "    <tr>\n",
              "      <th>Cabin</th>\n",
              "      <td>G/3/S</td>\n",
              "      <td>F/4/S</td>\n",
              "      <td>C/0/S</td>\n",
              "      <td>C/1/S</td>\n",
              "      <td>F/5/S</td>\n",
              "    </tr>\n",
              "    <tr>\n",
              "      <th>Destination</th>\n",
              "      <td>TRAPPIST-1e</td>\n",
              "      <td>TRAPPIST-1e</td>\n",
              "      <td>55 Cancri e</td>\n",
              "      <td>TRAPPIST-1e</td>\n",
              "      <td>TRAPPIST-1e</td>\n",
              "    </tr>\n",
              "    <tr>\n",
              "      <th>Age</th>\n",
              "      <td>27.0</td>\n",
              "      <td>19.0</td>\n",
              "      <td>31.0</td>\n",
              "      <td>38.0</td>\n",
              "      <td>20.0</td>\n",
              "    </tr>\n",
              "    <tr>\n",
              "      <th>VIP</th>\n",
              "      <td>False</td>\n",
              "      <td>False</td>\n",
              "      <td>False</td>\n",
              "      <td>False</td>\n",
              "      <td>False</td>\n",
              "    </tr>\n",
              "    <tr>\n",
              "      <th>RoomService</th>\n",
              "      <td>0.0</td>\n",
              "      <td>0.0</td>\n",
              "      <td>0.0</td>\n",
              "      <td>0.0</td>\n",
              "      <td>10.0</td>\n",
              "    </tr>\n",
              "    <tr>\n",
              "      <th>FoodCourt</th>\n",
              "      <td>0.0</td>\n",
              "      <td>9.0</td>\n",
              "      <td>0.0</td>\n",
              "      <td>6652.0</td>\n",
              "      <td>0.0</td>\n",
              "    </tr>\n",
              "    <tr>\n",
              "      <th>ShoppingMall</th>\n",
              "      <td>0.0</td>\n",
              "      <td>0.0</td>\n",
              "      <td>0.0</td>\n",
              "      <td>0.0</td>\n",
              "      <td>635.0</td>\n",
              "    </tr>\n",
              "    <tr>\n",
              "      <th>Spa</th>\n",
              "      <td>0.0</td>\n",
              "      <td>2823.0</td>\n",
              "      <td>0.0</td>\n",
              "      <td>181.0</td>\n",
              "      <td>0.0</td>\n",
              "    </tr>\n",
              "    <tr>\n",
              "      <th>VRDeck</th>\n",
              "      <td>0.0</td>\n",
              "      <td>0.0</td>\n",
              "      <td>0.0</td>\n",
              "      <td>585.0</td>\n",
              "      <td>0.0</td>\n",
              "    </tr>\n",
              "    <tr>\n",
              "      <th>Name</th>\n",
              "      <td>Nelly Carsoning</td>\n",
              "      <td>Lerome Peckers</td>\n",
              "      <td>Sabih Unhearfus</td>\n",
              "      <td>Meratz Caltilter</td>\n",
              "      <td>Brence Harperez</td>\n",
              "    </tr>\n",
              "  </tbody>\n",
              "</table>\n",
              "</div>\n",
              "      <button class=\"colab-df-convert\" onclick=\"convertToInteractive('df-b35f0d58-1a43-45e7-9d55-b076c13a4ba0')\"\n",
              "              title=\"Convert this dataframe to an interactive table.\"\n",
              "              style=\"display:none;\">\n",
              "        \n",
              "  <svg xmlns=\"http://www.w3.org/2000/svg\" height=\"24px\"viewBox=\"0 0 24 24\"\n",
              "       width=\"24px\">\n",
              "    <path d=\"M0 0h24v24H0V0z\" fill=\"none\"/>\n",
              "    <path d=\"M18.56 5.44l.94 2.06.94-2.06 2.06-.94-2.06-.94-.94-2.06-.94 2.06-2.06.94zm-11 1L8.5 8.5l.94-2.06 2.06-.94-2.06-.94L8.5 2.5l-.94 2.06-2.06.94zm10 10l.94 2.06.94-2.06 2.06-.94-2.06-.94-.94-2.06-.94 2.06-2.06.94z\"/><path d=\"M17.41 7.96l-1.37-1.37c-.4-.4-.92-.59-1.43-.59-.52 0-1.04.2-1.43.59L10.3 9.45l-7.72 7.72c-.78.78-.78 2.05 0 2.83L4 21.41c.39.39.9.59 1.41.59.51 0 1.02-.2 1.41-.59l7.78-7.78 2.81-2.81c.8-.78.8-2.07 0-2.86zM5.41 20L4 18.59l7.72-7.72 1.47 1.35L5.41 20z\"/>\n",
              "  </svg>\n",
              "      </button>\n",
              "      \n",
              "  <style>\n",
              "    .colab-df-container {\n",
              "      display:flex;\n",
              "      flex-wrap:wrap;\n",
              "      gap: 12px;\n",
              "    }\n",
              "\n",
              "    .colab-df-convert {\n",
              "      background-color: #E8F0FE;\n",
              "      border: none;\n",
              "      border-radius: 50%;\n",
              "      cursor: pointer;\n",
              "      display: none;\n",
              "      fill: #1967D2;\n",
              "      height: 32px;\n",
              "      padding: 0 0 0 0;\n",
              "      width: 32px;\n",
              "    }\n",
              "\n",
              "    .colab-df-convert:hover {\n",
              "      background-color: #E2EBFA;\n",
              "      box-shadow: 0px 1px 2px rgba(60, 64, 67, 0.3), 0px 1px 3px 1px rgba(60, 64, 67, 0.15);\n",
              "      fill: #174EA6;\n",
              "    }\n",
              "\n",
              "    [theme=dark] .colab-df-convert {\n",
              "      background-color: #3B4455;\n",
              "      fill: #D2E3FC;\n",
              "    }\n",
              "\n",
              "    [theme=dark] .colab-df-convert:hover {\n",
              "      background-color: #434B5C;\n",
              "      box-shadow: 0px 1px 3px 1px rgba(0, 0, 0, 0.15);\n",
              "      filter: drop-shadow(0px 1px 2px rgba(0, 0, 0, 0.3));\n",
              "      fill: #FFFFFF;\n",
              "    }\n",
              "  </style>\n",
              "\n",
              "      <script>\n",
              "        const buttonEl =\n",
              "          document.querySelector('#df-b35f0d58-1a43-45e7-9d55-b076c13a4ba0 button.colab-df-convert');\n",
              "        buttonEl.style.display =\n",
              "          google.colab.kernel.accessAllowed ? 'block' : 'none';\n",
              "\n",
              "        async function convertToInteractive(key) {\n",
              "          const element = document.querySelector('#df-b35f0d58-1a43-45e7-9d55-b076c13a4ba0');\n",
              "          const dataTable =\n",
              "            await google.colab.kernel.invokeFunction('convertToInteractive',\n",
              "                                                     [key], {});\n",
              "          if (!dataTable) return;\n",
              "\n",
              "          const docLinkHtml = 'Like what you see? Visit the ' +\n",
              "            '<a target=\"_blank\" href=https://colab.research.google.com/notebooks/data_table.ipynb>data table notebook</a>'\n",
              "            + ' to learn more about interactive tables.';\n",
              "          element.innerHTML = '';\n",
              "          dataTable['output_type'] = 'display_data';\n",
              "          await google.colab.output.renderOutput(dataTable, element);\n",
              "          const docLink = document.createElement('div');\n",
              "          docLink.innerHTML = docLinkHtml;\n",
              "          element.appendChild(docLink);\n",
              "        }\n",
              "      </script>\n",
              "    </div>\n",
              "  </div>\n",
              "  "
            ]
          },
          "metadata": {},
          "execution_count": 8
        }
      ],
      "source": [
        "test.head().T"
      ]
    },
    {
      "cell_type": "code",
      "execution_count": 9,
      "metadata": {
        "colab": {
          "base_uri": "https://localhost:8080/",
          "height": 300
        },
        "id": "3ulPuieb00kl",
        "outputId": "ecdeea4e-a89f-4da6-e573-d4cccba9ec37"
      },
      "outputs": [
        {
          "output_type": "execute_result",
          "data": {
            "text/plain": [
              "               Age   RoomService     FoodCourt  ShoppingMall           Spa  \\\n",
              "count  8514.000000   8512.000000   8510.000000   8485.000000   8510.000000   \n",
              "mean     28.827930    224.687617    458.077203    173.729169    311.138778   \n",
              "std      14.489021    666.717663   1611.489240    604.696458   1136.705535   \n",
              "min       0.000000      0.000000      0.000000      0.000000      0.000000   \n",
              "25%      19.000000      0.000000      0.000000      0.000000      0.000000   \n",
              "50%      27.000000      0.000000      0.000000      0.000000      0.000000   \n",
              "75%      38.000000     47.000000     76.000000     27.000000     59.000000   \n",
              "max      79.000000  14327.000000  29813.000000  23492.000000  22408.000000   \n",
              "\n",
              "             VRDeck  \n",
              "count   8505.000000  \n",
              "mean     304.854791  \n",
              "std     1145.717189  \n",
              "min        0.000000  \n",
              "25%        0.000000  \n",
              "50%        0.000000  \n",
              "75%       46.000000  \n",
              "max    24133.000000  "
            ],
            "text/html": [
              "\n",
              "  <div id=\"df-148f8e4f-916e-48c0-875d-d0ac8b01f6f0\">\n",
              "    <div class=\"colab-df-container\">\n",
              "      <div>\n",
              "<style scoped>\n",
              "    .dataframe tbody tr th:only-of-type {\n",
              "        vertical-align: middle;\n",
              "    }\n",
              "\n",
              "    .dataframe tbody tr th {\n",
              "        vertical-align: top;\n",
              "    }\n",
              "\n",
              "    .dataframe thead th {\n",
              "        text-align: right;\n",
              "    }\n",
              "</style>\n",
              "<table border=\"1\" class=\"dataframe\">\n",
              "  <thead>\n",
              "    <tr style=\"text-align: right;\">\n",
              "      <th></th>\n",
              "      <th>Age</th>\n",
              "      <th>RoomService</th>\n",
              "      <th>FoodCourt</th>\n",
              "      <th>ShoppingMall</th>\n",
              "      <th>Spa</th>\n",
              "      <th>VRDeck</th>\n",
              "    </tr>\n",
              "  </thead>\n",
              "  <tbody>\n",
              "    <tr>\n",
              "      <th>count</th>\n",
              "      <td>8514.000000</td>\n",
              "      <td>8512.000000</td>\n",
              "      <td>8510.000000</td>\n",
              "      <td>8485.000000</td>\n",
              "      <td>8510.000000</td>\n",
              "      <td>8505.000000</td>\n",
              "    </tr>\n",
              "    <tr>\n",
              "      <th>mean</th>\n",
              "      <td>28.827930</td>\n",
              "      <td>224.687617</td>\n",
              "      <td>458.077203</td>\n",
              "      <td>173.729169</td>\n",
              "      <td>311.138778</td>\n",
              "      <td>304.854791</td>\n",
              "    </tr>\n",
              "    <tr>\n",
              "      <th>std</th>\n",
              "      <td>14.489021</td>\n",
              "      <td>666.717663</td>\n",
              "      <td>1611.489240</td>\n",
              "      <td>604.696458</td>\n",
              "      <td>1136.705535</td>\n",
              "      <td>1145.717189</td>\n",
              "    </tr>\n",
              "    <tr>\n",
              "      <th>min</th>\n",
              "      <td>0.000000</td>\n",
              "      <td>0.000000</td>\n",
              "      <td>0.000000</td>\n",
              "      <td>0.000000</td>\n",
              "      <td>0.000000</td>\n",
              "      <td>0.000000</td>\n",
              "    </tr>\n",
              "    <tr>\n",
              "      <th>25%</th>\n",
              "      <td>19.000000</td>\n",
              "      <td>0.000000</td>\n",
              "      <td>0.000000</td>\n",
              "      <td>0.000000</td>\n",
              "      <td>0.000000</td>\n",
              "      <td>0.000000</td>\n",
              "    </tr>\n",
              "    <tr>\n",
              "      <th>50%</th>\n",
              "      <td>27.000000</td>\n",
              "      <td>0.000000</td>\n",
              "      <td>0.000000</td>\n",
              "      <td>0.000000</td>\n",
              "      <td>0.000000</td>\n",
              "      <td>0.000000</td>\n",
              "    </tr>\n",
              "    <tr>\n",
              "      <th>75%</th>\n",
              "      <td>38.000000</td>\n",
              "      <td>47.000000</td>\n",
              "      <td>76.000000</td>\n",
              "      <td>27.000000</td>\n",
              "      <td>59.000000</td>\n",
              "      <td>46.000000</td>\n",
              "    </tr>\n",
              "    <tr>\n",
              "      <th>max</th>\n",
              "      <td>79.000000</td>\n",
              "      <td>14327.000000</td>\n",
              "      <td>29813.000000</td>\n",
              "      <td>23492.000000</td>\n",
              "      <td>22408.000000</td>\n",
              "      <td>24133.000000</td>\n",
              "    </tr>\n",
              "  </tbody>\n",
              "</table>\n",
              "</div>\n",
              "      <button class=\"colab-df-convert\" onclick=\"convertToInteractive('df-148f8e4f-916e-48c0-875d-d0ac8b01f6f0')\"\n",
              "              title=\"Convert this dataframe to an interactive table.\"\n",
              "              style=\"display:none;\">\n",
              "        \n",
              "  <svg xmlns=\"http://www.w3.org/2000/svg\" height=\"24px\"viewBox=\"0 0 24 24\"\n",
              "       width=\"24px\">\n",
              "    <path d=\"M0 0h24v24H0V0z\" fill=\"none\"/>\n",
              "    <path d=\"M18.56 5.44l.94 2.06.94-2.06 2.06-.94-2.06-.94-.94-2.06-.94 2.06-2.06.94zm-11 1L8.5 8.5l.94-2.06 2.06-.94-2.06-.94L8.5 2.5l-.94 2.06-2.06.94zm10 10l.94 2.06.94-2.06 2.06-.94-2.06-.94-.94-2.06-.94 2.06-2.06.94z\"/><path d=\"M17.41 7.96l-1.37-1.37c-.4-.4-.92-.59-1.43-.59-.52 0-1.04.2-1.43.59L10.3 9.45l-7.72 7.72c-.78.78-.78 2.05 0 2.83L4 21.41c.39.39.9.59 1.41.59.51 0 1.02-.2 1.41-.59l7.78-7.78 2.81-2.81c.8-.78.8-2.07 0-2.86zM5.41 20L4 18.59l7.72-7.72 1.47 1.35L5.41 20z\"/>\n",
              "  </svg>\n",
              "      </button>\n",
              "      \n",
              "  <style>\n",
              "    .colab-df-container {\n",
              "      display:flex;\n",
              "      flex-wrap:wrap;\n",
              "      gap: 12px;\n",
              "    }\n",
              "\n",
              "    .colab-df-convert {\n",
              "      background-color: #E8F0FE;\n",
              "      border: none;\n",
              "      border-radius: 50%;\n",
              "      cursor: pointer;\n",
              "      display: none;\n",
              "      fill: #1967D2;\n",
              "      height: 32px;\n",
              "      padding: 0 0 0 0;\n",
              "      width: 32px;\n",
              "    }\n",
              "\n",
              "    .colab-df-convert:hover {\n",
              "      background-color: #E2EBFA;\n",
              "      box-shadow: 0px 1px 2px rgba(60, 64, 67, 0.3), 0px 1px 3px 1px rgba(60, 64, 67, 0.15);\n",
              "      fill: #174EA6;\n",
              "    }\n",
              "\n",
              "    [theme=dark] .colab-df-convert {\n",
              "      background-color: #3B4455;\n",
              "      fill: #D2E3FC;\n",
              "    }\n",
              "\n",
              "    [theme=dark] .colab-df-convert:hover {\n",
              "      background-color: #434B5C;\n",
              "      box-shadow: 0px 1px 3px 1px rgba(0, 0, 0, 0.15);\n",
              "      filter: drop-shadow(0px 1px 2px rgba(0, 0, 0, 0.3));\n",
              "      fill: #FFFFFF;\n",
              "    }\n",
              "  </style>\n",
              "\n",
              "      <script>\n",
              "        const buttonEl =\n",
              "          document.querySelector('#df-148f8e4f-916e-48c0-875d-d0ac8b01f6f0 button.colab-df-convert');\n",
              "        buttonEl.style.display =\n",
              "          google.colab.kernel.accessAllowed ? 'block' : 'none';\n",
              "\n",
              "        async function convertToInteractive(key) {\n",
              "          const element = document.querySelector('#df-148f8e4f-916e-48c0-875d-d0ac8b01f6f0');\n",
              "          const dataTable =\n",
              "            await google.colab.kernel.invokeFunction('convertToInteractive',\n",
              "                                                     [key], {});\n",
              "          if (!dataTable) return;\n",
              "\n",
              "          const docLinkHtml = 'Like what you see? Visit the ' +\n",
              "            '<a target=\"_blank\" href=https://colab.research.google.com/notebooks/data_table.ipynb>data table notebook</a>'\n",
              "            + ' to learn more about interactive tables.';\n",
              "          element.innerHTML = '';\n",
              "          dataTable['output_type'] = 'display_data';\n",
              "          await google.colab.output.renderOutput(dataTable, element);\n",
              "          const docLink = document.createElement('div');\n",
              "          docLink.innerHTML = docLinkHtml;\n",
              "          element.appendChild(docLink);\n",
              "        }\n",
              "      </script>\n",
              "    </div>\n",
              "  </div>\n",
              "  "
            ]
          },
          "metadata": {},
          "execution_count": 9
        }
      ],
      "source": [
        "train.describe()"
      ]
    },
    {
      "cell_type": "code",
      "execution_count": 10,
      "metadata": {
        "colab": {
          "base_uri": "https://localhost:8080/",
          "height": 143
        },
        "id": "l8DH3lUT7ufd",
        "outputId": "ec7fe0e8-51c6-429a-dee9-b28d9feb63c8"
      },
      "outputs": [
        {
          "output_type": "execute_result",
          "data": {
            "text/plain": [
              "CryoSleep    False  True\n",
              "Transported             \n",
              "False         3650   554\n",
              "True          1789  2483"
            ],
            "text/html": [
              "\n",
              "  <div id=\"df-1c79ca8c-f839-4fc8-805d-719989ad81ac\">\n",
              "    <div class=\"colab-df-container\">\n",
              "      <div>\n",
              "<style scoped>\n",
              "    .dataframe tbody tr th:only-of-type {\n",
              "        vertical-align: middle;\n",
              "    }\n",
              "\n",
              "    .dataframe tbody tr th {\n",
              "        vertical-align: top;\n",
              "    }\n",
              "\n",
              "    .dataframe thead th {\n",
              "        text-align: right;\n",
              "    }\n",
              "</style>\n",
              "<table border=\"1\" class=\"dataframe\">\n",
              "  <thead>\n",
              "    <tr style=\"text-align: right;\">\n",
              "      <th>CryoSleep</th>\n",
              "      <th>False</th>\n",
              "      <th>True</th>\n",
              "    </tr>\n",
              "    <tr>\n",
              "      <th>Transported</th>\n",
              "      <th></th>\n",
              "      <th></th>\n",
              "    </tr>\n",
              "  </thead>\n",
              "  <tbody>\n",
              "    <tr>\n",
              "      <th>False</th>\n",
              "      <td>3650</td>\n",
              "      <td>554</td>\n",
              "    </tr>\n",
              "    <tr>\n",
              "      <th>True</th>\n",
              "      <td>1789</td>\n",
              "      <td>2483</td>\n",
              "    </tr>\n",
              "  </tbody>\n",
              "</table>\n",
              "</div>\n",
              "      <button class=\"colab-df-convert\" onclick=\"convertToInteractive('df-1c79ca8c-f839-4fc8-805d-719989ad81ac')\"\n",
              "              title=\"Convert this dataframe to an interactive table.\"\n",
              "              style=\"display:none;\">\n",
              "        \n",
              "  <svg xmlns=\"http://www.w3.org/2000/svg\" height=\"24px\"viewBox=\"0 0 24 24\"\n",
              "       width=\"24px\">\n",
              "    <path d=\"M0 0h24v24H0V0z\" fill=\"none\"/>\n",
              "    <path d=\"M18.56 5.44l.94 2.06.94-2.06 2.06-.94-2.06-.94-.94-2.06-.94 2.06-2.06.94zm-11 1L8.5 8.5l.94-2.06 2.06-.94-2.06-.94L8.5 2.5l-.94 2.06-2.06.94zm10 10l.94 2.06.94-2.06 2.06-.94-2.06-.94-.94-2.06-.94 2.06-2.06.94z\"/><path d=\"M17.41 7.96l-1.37-1.37c-.4-.4-.92-.59-1.43-.59-.52 0-1.04.2-1.43.59L10.3 9.45l-7.72 7.72c-.78.78-.78 2.05 0 2.83L4 21.41c.39.39.9.59 1.41.59.51 0 1.02-.2 1.41-.59l7.78-7.78 2.81-2.81c.8-.78.8-2.07 0-2.86zM5.41 20L4 18.59l7.72-7.72 1.47 1.35L5.41 20z\"/>\n",
              "  </svg>\n",
              "      </button>\n",
              "      \n",
              "  <style>\n",
              "    .colab-df-container {\n",
              "      display:flex;\n",
              "      flex-wrap:wrap;\n",
              "      gap: 12px;\n",
              "    }\n",
              "\n",
              "    .colab-df-convert {\n",
              "      background-color: #E8F0FE;\n",
              "      border: none;\n",
              "      border-radius: 50%;\n",
              "      cursor: pointer;\n",
              "      display: none;\n",
              "      fill: #1967D2;\n",
              "      height: 32px;\n",
              "      padding: 0 0 0 0;\n",
              "      width: 32px;\n",
              "    }\n",
              "\n",
              "    .colab-df-convert:hover {\n",
              "      background-color: #E2EBFA;\n",
              "      box-shadow: 0px 1px 2px rgba(60, 64, 67, 0.3), 0px 1px 3px 1px rgba(60, 64, 67, 0.15);\n",
              "      fill: #174EA6;\n",
              "    }\n",
              "\n",
              "    [theme=dark] .colab-df-convert {\n",
              "      background-color: #3B4455;\n",
              "      fill: #D2E3FC;\n",
              "    }\n",
              "\n",
              "    [theme=dark] .colab-df-convert:hover {\n",
              "      background-color: #434B5C;\n",
              "      box-shadow: 0px 1px 3px 1px rgba(0, 0, 0, 0.15);\n",
              "      filter: drop-shadow(0px 1px 2px rgba(0, 0, 0, 0.3));\n",
              "      fill: #FFFFFF;\n",
              "    }\n",
              "  </style>\n",
              "\n",
              "      <script>\n",
              "        const buttonEl =\n",
              "          document.querySelector('#df-1c79ca8c-f839-4fc8-805d-719989ad81ac button.colab-df-convert');\n",
              "        buttonEl.style.display =\n",
              "          google.colab.kernel.accessAllowed ? 'block' : 'none';\n",
              "\n",
              "        async function convertToInteractive(key) {\n",
              "          const element = document.querySelector('#df-1c79ca8c-f839-4fc8-805d-719989ad81ac');\n",
              "          const dataTable =\n",
              "            await google.colab.kernel.invokeFunction('convertToInteractive',\n",
              "                                                     [key], {});\n",
              "          if (!dataTable) return;\n",
              "\n",
              "          const docLinkHtml = 'Like what you see? Visit the ' +\n",
              "            '<a target=\"_blank\" href=https://colab.research.google.com/notebooks/data_table.ipynb>data table notebook</a>'\n",
              "            + ' to learn more about interactive tables.';\n",
              "          element.innerHTML = '';\n",
              "          dataTable['output_type'] = 'display_data';\n",
              "          await google.colab.output.renderOutput(dataTable, element);\n",
              "          const docLink = document.createElement('div');\n",
              "          docLink.innerHTML = docLinkHtml;\n",
              "          element.appendChild(docLink);\n",
              "        }\n",
              "      </script>\n",
              "    </div>\n",
              "  </div>\n",
              "  "
            ]
          },
          "metadata": {},
          "execution_count": 10
        }
      ],
      "source": [
        "pd.crosstab(train.Transported,train.CryoSleep)"
      ]
    },
    {
      "cell_type": "code",
      "execution_count": 11,
      "metadata": {
        "colab": {
          "base_uri": "https://localhost:8080/",
          "height": 403
        },
        "id": "09kyfGG34TVK",
        "outputId": "28c13629-0409-4a85-a296-3b0fb4436d3b"
      },
      "outputs": [
        {
          "output_type": "display_data",
          "data": {
            "text/plain": [
              "<Figure size 720x432 with 1 Axes>"
            ],
            "image/png": "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\n"
          },
          "metadata": {
            "needs_background": "light"
          }
        }
      ],
      "source": [
        "pd.crosstab(train.Transported, train.CryoSleep).plot(kind='bar',\n",
        "                                                     figsize=(10,6),\n",
        "                                                     color=['salmon','lightblue']);"
      ]
    },
    {
      "cell_type": "code",
      "execution_count": 12,
      "metadata": {
        "colab": {
          "base_uri": "https://localhost:8080/",
          "height": 143
        },
        "id": "P_mL04xJ7kzx",
        "outputId": "e330ecb8-bf58-482c-b130-f387aca275af"
      },
      "outputs": [
        {
          "output_type": "execute_result",
          "data": {
            "text/plain": [
              "VIP          False  True\n",
              "Transported             \n",
              "False         4093   123\n",
              "True          4198    76"
            ],
            "text/html": [
              "\n",
              "  <div id=\"df-2fa39d62-1065-4a8d-90f9-f2eab48b4591\">\n",
              "    <div class=\"colab-df-container\">\n",
              "      <div>\n",
              "<style scoped>\n",
              "    .dataframe tbody tr th:only-of-type {\n",
              "        vertical-align: middle;\n",
              "    }\n",
              "\n",
              "    .dataframe tbody tr th {\n",
              "        vertical-align: top;\n",
              "    }\n",
              "\n",
              "    .dataframe thead th {\n",
              "        text-align: right;\n",
              "    }\n",
              "</style>\n",
              "<table border=\"1\" class=\"dataframe\">\n",
              "  <thead>\n",
              "    <tr style=\"text-align: right;\">\n",
              "      <th>VIP</th>\n",
              "      <th>False</th>\n",
              "      <th>True</th>\n",
              "    </tr>\n",
              "    <tr>\n",
              "      <th>Transported</th>\n",
              "      <th></th>\n",
              "      <th></th>\n",
              "    </tr>\n",
              "  </thead>\n",
              "  <tbody>\n",
              "    <tr>\n",
              "      <th>False</th>\n",
              "      <td>4093</td>\n",
              "      <td>123</td>\n",
              "    </tr>\n",
              "    <tr>\n",
              "      <th>True</th>\n",
              "      <td>4198</td>\n",
              "      <td>76</td>\n",
              "    </tr>\n",
              "  </tbody>\n",
              "</table>\n",
              "</div>\n",
              "      <button class=\"colab-df-convert\" onclick=\"convertToInteractive('df-2fa39d62-1065-4a8d-90f9-f2eab48b4591')\"\n",
              "              title=\"Convert this dataframe to an interactive table.\"\n",
              "              style=\"display:none;\">\n",
              "        \n",
              "  <svg xmlns=\"http://www.w3.org/2000/svg\" height=\"24px\"viewBox=\"0 0 24 24\"\n",
              "       width=\"24px\">\n",
              "    <path d=\"M0 0h24v24H0V0z\" fill=\"none\"/>\n",
              "    <path d=\"M18.56 5.44l.94 2.06.94-2.06 2.06-.94-2.06-.94-.94-2.06-.94 2.06-2.06.94zm-11 1L8.5 8.5l.94-2.06 2.06-.94-2.06-.94L8.5 2.5l-.94 2.06-2.06.94zm10 10l.94 2.06.94-2.06 2.06-.94-2.06-.94-.94-2.06-.94 2.06-2.06.94z\"/><path d=\"M17.41 7.96l-1.37-1.37c-.4-.4-.92-.59-1.43-.59-.52 0-1.04.2-1.43.59L10.3 9.45l-7.72 7.72c-.78.78-.78 2.05 0 2.83L4 21.41c.39.39.9.59 1.41.59.51 0 1.02-.2 1.41-.59l7.78-7.78 2.81-2.81c.8-.78.8-2.07 0-2.86zM5.41 20L4 18.59l7.72-7.72 1.47 1.35L5.41 20z\"/>\n",
              "  </svg>\n",
              "      </button>\n",
              "      \n",
              "  <style>\n",
              "    .colab-df-container {\n",
              "      display:flex;\n",
              "      flex-wrap:wrap;\n",
              "      gap: 12px;\n",
              "    }\n",
              "\n",
              "    .colab-df-convert {\n",
              "      background-color: #E8F0FE;\n",
              "      border: none;\n",
              "      border-radius: 50%;\n",
              "      cursor: pointer;\n",
              "      display: none;\n",
              "      fill: #1967D2;\n",
              "      height: 32px;\n",
              "      padding: 0 0 0 0;\n",
              "      width: 32px;\n",
              "    }\n",
              "\n",
              "    .colab-df-convert:hover {\n",
              "      background-color: #E2EBFA;\n",
              "      box-shadow: 0px 1px 2px rgba(60, 64, 67, 0.3), 0px 1px 3px 1px rgba(60, 64, 67, 0.15);\n",
              "      fill: #174EA6;\n",
              "    }\n",
              "\n",
              "    [theme=dark] .colab-df-convert {\n",
              "      background-color: #3B4455;\n",
              "      fill: #D2E3FC;\n",
              "    }\n",
              "\n",
              "    [theme=dark] .colab-df-convert:hover {\n",
              "      background-color: #434B5C;\n",
              "      box-shadow: 0px 1px 3px 1px rgba(0, 0, 0, 0.15);\n",
              "      filter: drop-shadow(0px 1px 2px rgba(0, 0, 0, 0.3));\n",
              "      fill: #FFFFFF;\n",
              "    }\n",
              "  </style>\n",
              "\n",
              "      <script>\n",
              "        const buttonEl =\n",
              "          document.querySelector('#df-2fa39d62-1065-4a8d-90f9-f2eab48b4591 button.colab-df-convert');\n",
              "        buttonEl.style.display =\n",
              "          google.colab.kernel.accessAllowed ? 'block' : 'none';\n",
              "\n",
              "        async function convertToInteractive(key) {\n",
              "          const element = document.querySelector('#df-2fa39d62-1065-4a8d-90f9-f2eab48b4591');\n",
              "          const dataTable =\n",
              "            await google.colab.kernel.invokeFunction('convertToInteractive',\n",
              "                                                     [key], {});\n",
              "          if (!dataTable) return;\n",
              "\n",
              "          const docLinkHtml = 'Like what you see? Visit the ' +\n",
              "            '<a target=\"_blank\" href=https://colab.research.google.com/notebooks/data_table.ipynb>data table notebook</a>'\n",
              "            + ' to learn more about interactive tables.';\n",
              "          element.innerHTML = '';\n",
              "          dataTable['output_type'] = 'display_data';\n",
              "          await google.colab.output.renderOutput(dataTable, element);\n",
              "          const docLink = document.createElement('div');\n",
              "          docLink.innerHTML = docLinkHtml;\n",
              "          element.appendChild(docLink);\n",
              "        }\n",
              "      </script>\n",
              "    </div>\n",
              "  </div>\n",
              "  "
            ]
          },
          "metadata": {},
          "execution_count": 12
        }
      ],
      "source": [
        "pd.crosstab(train.Transported,train.VIP)"
      ]
    },
    {
      "cell_type": "code",
      "execution_count": 13,
      "metadata": {
        "colab": {
          "base_uri": "https://localhost:8080/",
          "height": 403
        },
        "id": "k4PJNllk6Y3A",
        "outputId": "73bc27a5-7f7a-4758-a06c-75e77a68ac3d"
      },
      "outputs": [
        {
          "output_type": "display_data",
          "data": {
            "text/plain": [
              "<Figure size 720x432 with 1 Axes>"
            ],
            "image/png": "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\n"
          },
          "metadata": {
            "needs_background": "light"
          }
        }
      ],
      "source": [
        "pd.crosstab(train.Transported, train.VIP).plot(kind='bar',\n",
        "                                                     figsize=(10,6),\n",
        "                                                     color=['salmon','lightblue']);"
      ]
    },
    {
      "cell_type": "code",
      "execution_count": 14,
      "metadata": {
        "colab": {
          "base_uri": "https://localhost:8080/",
          "height": 175
        },
        "id": "yPdk_K1d8aAM",
        "outputId": "b06377e4-1ebd-4766-9dc2-03c5e0bd8203"
      },
      "outputs": [
        {
          "output_type": "execute_result",
          "data": {
            "text/plain": [
              "Transported  False  True\n",
              "HomePlanet              \n",
              "Earth         2651  1951\n",
              "Europa         727  1404\n",
              "Mars           839   920"
            ],
            "text/html": [
              "\n",
              "  <div id=\"df-2c3e37dc-e082-48b6-a407-616fe976e1ef\">\n",
              "    <div class=\"colab-df-container\">\n",
              "      <div>\n",
              "<style scoped>\n",
              "    .dataframe tbody tr th:only-of-type {\n",
              "        vertical-align: middle;\n",
              "    }\n",
              "\n",
              "    .dataframe tbody tr th {\n",
              "        vertical-align: top;\n",
              "    }\n",
              "\n",
              "    .dataframe thead th {\n",
              "        text-align: right;\n",
              "    }\n",
              "</style>\n",
              "<table border=\"1\" class=\"dataframe\">\n",
              "  <thead>\n",
              "    <tr style=\"text-align: right;\">\n",
              "      <th>Transported</th>\n",
              "      <th>False</th>\n",
              "      <th>True</th>\n",
              "    </tr>\n",
              "    <tr>\n",
              "      <th>HomePlanet</th>\n",
              "      <th></th>\n",
              "      <th></th>\n",
              "    </tr>\n",
              "  </thead>\n",
              "  <tbody>\n",
              "    <tr>\n",
              "      <th>Earth</th>\n",
              "      <td>2651</td>\n",
              "      <td>1951</td>\n",
              "    </tr>\n",
              "    <tr>\n",
              "      <th>Europa</th>\n",
              "      <td>727</td>\n",
              "      <td>1404</td>\n",
              "    </tr>\n",
              "    <tr>\n",
              "      <th>Mars</th>\n",
              "      <td>839</td>\n",
              "      <td>920</td>\n",
              "    </tr>\n",
              "  </tbody>\n",
              "</table>\n",
              "</div>\n",
              "      <button class=\"colab-df-convert\" onclick=\"convertToInteractive('df-2c3e37dc-e082-48b6-a407-616fe976e1ef')\"\n",
              "              title=\"Convert this dataframe to an interactive table.\"\n",
              "              style=\"display:none;\">\n",
              "        \n",
              "  <svg xmlns=\"http://www.w3.org/2000/svg\" height=\"24px\"viewBox=\"0 0 24 24\"\n",
              "       width=\"24px\">\n",
              "    <path d=\"M0 0h24v24H0V0z\" fill=\"none\"/>\n",
              "    <path d=\"M18.56 5.44l.94 2.06.94-2.06 2.06-.94-2.06-.94-.94-2.06-.94 2.06-2.06.94zm-11 1L8.5 8.5l.94-2.06 2.06-.94-2.06-.94L8.5 2.5l-.94 2.06-2.06.94zm10 10l.94 2.06.94-2.06 2.06-.94-2.06-.94-.94-2.06-.94 2.06-2.06.94z\"/><path d=\"M17.41 7.96l-1.37-1.37c-.4-.4-.92-.59-1.43-.59-.52 0-1.04.2-1.43.59L10.3 9.45l-7.72 7.72c-.78.78-.78 2.05 0 2.83L4 21.41c.39.39.9.59 1.41.59.51 0 1.02-.2 1.41-.59l7.78-7.78 2.81-2.81c.8-.78.8-2.07 0-2.86zM5.41 20L4 18.59l7.72-7.72 1.47 1.35L5.41 20z\"/>\n",
              "  </svg>\n",
              "      </button>\n",
              "      \n",
              "  <style>\n",
              "    .colab-df-container {\n",
              "      display:flex;\n",
              "      flex-wrap:wrap;\n",
              "      gap: 12px;\n",
              "    }\n",
              "\n",
              "    .colab-df-convert {\n",
              "      background-color: #E8F0FE;\n",
              "      border: none;\n",
              "      border-radius: 50%;\n",
              "      cursor: pointer;\n",
              "      display: none;\n",
              "      fill: #1967D2;\n",
              "      height: 32px;\n",
              "      padding: 0 0 0 0;\n",
              "      width: 32px;\n",
              "    }\n",
              "\n",
              "    .colab-df-convert:hover {\n",
              "      background-color: #E2EBFA;\n",
              "      box-shadow: 0px 1px 2px rgba(60, 64, 67, 0.3), 0px 1px 3px 1px rgba(60, 64, 67, 0.15);\n",
              "      fill: #174EA6;\n",
              "    }\n",
              "\n",
              "    [theme=dark] .colab-df-convert {\n",
              "      background-color: #3B4455;\n",
              "      fill: #D2E3FC;\n",
              "    }\n",
              "\n",
              "    [theme=dark] .colab-df-convert:hover {\n",
              "      background-color: #434B5C;\n",
              "      box-shadow: 0px 1px 3px 1px rgba(0, 0, 0, 0.15);\n",
              "      filter: drop-shadow(0px 1px 2px rgba(0, 0, 0, 0.3));\n",
              "      fill: #FFFFFF;\n",
              "    }\n",
              "  </style>\n",
              "\n",
              "      <script>\n",
              "        const buttonEl =\n",
              "          document.querySelector('#df-2c3e37dc-e082-48b6-a407-616fe976e1ef button.colab-df-convert');\n",
              "        buttonEl.style.display =\n",
              "          google.colab.kernel.accessAllowed ? 'block' : 'none';\n",
              "\n",
              "        async function convertToInteractive(key) {\n",
              "          const element = document.querySelector('#df-2c3e37dc-e082-48b6-a407-616fe976e1ef');\n",
              "          const dataTable =\n",
              "            await google.colab.kernel.invokeFunction('convertToInteractive',\n",
              "                                                     [key], {});\n",
              "          if (!dataTable) return;\n",
              "\n",
              "          const docLinkHtml = 'Like what you see? Visit the ' +\n",
              "            '<a target=\"_blank\" href=https://colab.research.google.com/notebooks/data_table.ipynb>data table notebook</a>'\n",
              "            + ' to learn more about interactive tables.';\n",
              "          element.innerHTML = '';\n",
              "          dataTable['output_type'] = 'display_data';\n",
              "          await google.colab.output.renderOutput(dataTable, element);\n",
              "          const docLink = document.createElement('div');\n",
              "          docLink.innerHTML = docLinkHtml;\n",
              "          element.appendChild(docLink);\n",
              "        }\n",
              "      </script>\n",
              "    </div>\n",
              "  </div>\n",
              "  "
            ]
          },
          "metadata": {},
          "execution_count": 14
        }
      ],
      "source": [
        "pd.crosstab(train.HomePlanet,train.Transported)"
      ]
    },
    {
      "cell_type": "code",
      "execution_count": 15,
      "metadata": {
        "colab": {
          "base_uri": "https://localhost:8080/",
          "height": 404
        },
        "id": "5xx6lrOT9Ad3",
        "outputId": "d71d76bd-95e6-48fc-de7f-df54e86188c0"
      },
      "outputs": [
        {
          "output_type": "display_data",
          "data": {
            "text/plain": [
              "<Figure size 720x432 with 1 Axes>"
            ],
            "image/png": "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\n"
          },
          "metadata": {
            "needs_background": "light"
          }
        }
      ],
      "source": [
        "pd.crosstab(train.HomePlanet,train.Transported).plot(kind='bar',\n",
        "                                                     figsize=(10,6),\n",
        "                                                     color=[\"lightblue\",\"salmon\"])\n",
        "plt.title(\"Transported frequency and HomePlanet\")\n",
        "plt.xlabel('HomePlanet')\n",
        "plt.ylabel('Frequency')\n",
        "plt.legend([\"Not transport\", \"Transport\"])\n",
        "plt.xticks(rotation=0);\n"
      ]
    },
    {
      "cell_type": "code",
      "execution_count": 16,
      "metadata": {
        "colab": {
          "base_uri": "https://localhost:8080/",
          "height": 175
        },
        "id": "au_oLupi-ReX",
        "outputId": "c0577caf-b358-47b9-808b-61105b2c983c"
      },
      "outputs": [
        {
          "output_type": "execute_result",
          "data": {
            "text/plain": [
              "Transported    False  True\n",
              "Destination               \n",
              "55 Cancri e      702  1098\n",
              "PSO J318.5-22    395   401\n",
              "TRAPPIST-1e     3128  2787"
            ],
            "text/html": [
              "\n",
              "  <div id=\"df-5f39b976-1616-4fc3-9b0f-3b194109e544\">\n",
              "    <div class=\"colab-df-container\">\n",
              "      <div>\n",
              "<style scoped>\n",
              "    .dataframe tbody tr th:only-of-type {\n",
              "        vertical-align: middle;\n",
              "    }\n",
              "\n",
              "    .dataframe tbody tr th {\n",
              "        vertical-align: top;\n",
              "    }\n",
              "\n",
              "    .dataframe thead th {\n",
              "        text-align: right;\n",
              "    }\n",
              "</style>\n",
              "<table border=\"1\" class=\"dataframe\">\n",
              "  <thead>\n",
              "    <tr style=\"text-align: right;\">\n",
              "      <th>Transported</th>\n",
              "      <th>False</th>\n",
              "      <th>True</th>\n",
              "    </tr>\n",
              "    <tr>\n",
              "      <th>Destination</th>\n",
              "      <th></th>\n",
              "      <th></th>\n",
              "    </tr>\n",
              "  </thead>\n",
              "  <tbody>\n",
              "    <tr>\n",
              "      <th>55 Cancri e</th>\n",
              "      <td>702</td>\n",
              "      <td>1098</td>\n",
              "    </tr>\n",
              "    <tr>\n",
              "      <th>PSO J318.5-22</th>\n",
              "      <td>395</td>\n",
              "      <td>401</td>\n",
              "    </tr>\n",
              "    <tr>\n",
              "      <th>TRAPPIST-1e</th>\n",
              "      <td>3128</td>\n",
              "      <td>2787</td>\n",
              "    </tr>\n",
              "  </tbody>\n",
              "</table>\n",
              "</div>\n",
              "      <button class=\"colab-df-convert\" onclick=\"convertToInteractive('df-5f39b976-1616-4fc3-9b0f-3b194109e544')\"\n",
              "              title=\"Convert this dataframe to an interactive table.\"\n",
              "              style=\"display:none;\">\n",
              "        \n",
              "  <svg xmlns=\"http://www.w3.org/2000/svg\" height=\"24px\"viewBox=\"0 0 24 24\"\n",
              "       width=\"24px\">\n",
              "    <path d=\"M0 0h24v24H0V0z\" fill=\"none\"/>\n",
              "    <path d=\"M18.56 5.44l.94 2.06.94-2.06 2.06-.94-2.06-.94-.94-2.06-.94 2.06-2.06.94zm-11 1L8.5 8.5l.94-2.06 2.06-.94-2.06-.94L8.5 2.5l-.94 2.06-2.06.94zm10 10l.94 2.06.94-2.06 2.06-.94-2.06-.94-.94-2.06-.94 2.06-2.06.94z\"/><path d=\"M17.41 7.96l-1.37-1.37c-.4-.4-.92-.59-1.43-.59-.52 0-1.04.2-1.43.59L10.3 9.45l-7.72 7.72c-.78.78-.78 2.05 0 2.83L4 21.41c.39.39.9.59 1.41.59.51 0 1.02-.2 1.41-.59l7.78-7.78 2.81-2.81c.8-.78.8-2.07 0-2.86zM5.41 20L4 18.59l7.72-7.72 1.47 1.35L5.41 20z\"/>\n",
              "  </svg>\n",
              "      </button>\n",
              "      \n",
              "  <style>\n",
              "    .colab-df-container {\n",
              "      display:flex;\n",
              "      flex-wrap:wrap;\n",
              "      gap: 12px;\n",
              "    }\n",
              "\n",
              "    .colab-df-convert {\n",
              "      background-color: #E8F0FE;\n",
              "      border: none;\n",
              "      border-radius: 50%;\n",
              "      cursor: pointer;\n",
              "      display: none;\n",
              "      fill: #1967D2;\n",
              "      height: 32px;\n",
              "      padding: 0 0 0 0;\n",
              "      width: 32px;\n",
              "    }\n",
              "\n",
              "    .colab-df-convert:hover {\n",
              "      background-color: #E2EBFA;\n",
              "      box-shadow: 0px 1px 2px rgba(60, 64, 67, 0.3), 0px 1px 3px 1px rgba(60, 64, 67, 0.15);\n",
              "      fill: #174EA6;\n",
              "    }\n",
              "\n",
              "    [theme=dark] .colab-df-convert {\n",
              "      background-color: #3B4455;\n",
              "      fill: #D2E3FC;\n",
              "    }\n",
              "\n",
              "    [theme=dark] .colab-df-convert:hover {\n",
              "      background-color: #434B5C;\n",
              "      box-shadow: 0px 1px 3px 1px rgba(0, 0, 0, 0.15);\n",
              "      filter: drop-shadow(0px 1px 2px rgba(0, 0, 0, 0.3));\n",
              "      fill: #FFFFFF;\n",
              "    }\n",
              "  </style>\n",
              "\n",
              "      <script>\n",
              "        const buttonEl =\n",
              "          document.querySelector('#df-5f39b976-1616-4fc3-9b0f-3b194109e544 button.colab-df-convert');\n",
              "        buttonEl.style.display =\n",
              "          google.colab.kernel.accessAllowed ? 'block' : 'none';\n",
              "\n",
              "        async function convertToInteractive(key) {\n",
              "          const element = document.querySelector('#df-5f39b976-1616-4fc3-9b0f-3b194109e544');\n",
              "          const dataTable =\n",
              "            await google.colab.kernel.invokeFunction('convertToInteractive',\n",
              "                                                     [key], {});\n",
              "          if (!dataTable) return;\n",
              "\n",
              "          const docLinkHtml = 'Like what you see? Visit the ' +\n",
              "            '<a target=\"_blank\" href=https://colab.research.google.com/notebooks/data_table.ipynb>data table notebook</a>'\n",
              "            + ' to learn more about interactive tables.';\n",
              "          element.innerHTML = '';\n",
              "          dataTable['output_type'] = 'display_data';\n",
              "          await google.colab.output.renderOutput(dataTable, element);\n",
              "          const docLink = document.createElement('div');\n",
              "          docLink.innerHTML = docLinkHtml;\n",
              "          element.appendChild(docLink);\n",
              "        }\n",
              "      </script>\n",
              "    </div>\n",
              "  </div>\n",
              "  "
            ]
          },
          "metadata": {},
          "execution_count": 16
        }
      ],
      "source": [
        "pd.crosstab(train.Destination,train.Transported)"
      ]
    },
    {
      "cell_type": "code",
      "execution_count": 17,
      "metadata": {
        "colab": {
          "base_uri": "https://localhost:8080/",
          "height": 404
        },
        "id": "UiphUeXf-wyl",
        "outputId": "37009473-6858-4ebe-c453-dfb1ef9d96ca"
      },
      "outputs": [
        {
          "output_type": "display_data",
          "data": {
            "text/plain": [
              "<Figure size 720x432 with 1 Axes>"
            ],
            "image/png": "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\n"
          },
          "metadata": {
            "needs_background": "light"
          }
        }
      ],
      "source": [
        "pd.crosstab(train.Destination,train.Transported).plot(kind='bar',\n",
        "                                                     figsize=(10,6),\n",
        "                                                     color=[\"lightblue\",\"salmon\"])\n",
        "plt.title(\"Transported frequency and Destination\")\n",
        "plt.xlabel('Destination')\n",
        "plt.ylabel('Frequency')\n",
        "plt.legend([\"Not transport\", \"Transport\"])\n",
        "plt.xticks(rotation=0);\n"
      ]
    },
    {
      "cell_type": "markdown",
      "metadata": {
        "id": "5zej1Ekx_B8X"
      },
      "source": [
        "### Correlation matrix"
      ]
    },
    {
      "cell_type": "code",
      "execution_count": 18,
      "metadata": {
        "colab": {
          "base_uri": "https://localhost:8080/",
          "height": 596
        },
        "id": "cKJEGXNL_SJ4",
        "outputId": "85f082ef-b76e-456f-87e4-01c6be5b9b08"
      },
      "outputs": [
        {
          "output_type": "display_data",
          "data": {
            "text/plain": [
              "<Figure size 1080x720 with 2 Axes>"
            ],
            "image/png": "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\n"
          },
          "metadata": {
            "needs_background": "light"
          }
        }
      ],
      "source": [
        "corr_matrix = train.corr()\n",
        "plt.figure(figsize=(15,10))\n",
        "sns.heatmap(corr_matrix,\n",
        "            annot=True,\n",
        "            linewidths=0.5,\n",
        "            fmt='.2f',\n",
        "            cmap='YlGnBu');"
      ]
    },
    {
      "cell_type": "code",
      "execution_count": 19,
      "metadata": {
        "colab": {
          "base_uri": "https://localhost:8080/"
        },
        "id": "w_tZUVqe_y6W",
        "outputId": "1254195a-bca7-447d-ed85-b42ad05f63e4"
      },
      "outputs": [
        {
          "output_type": "execute_result",
          "data": {
            "text/plain": [
              "PassengerId       0\n",
              "HomePlanet      201\n",
              "CryoSleep       217\n",
              "Cabin           199\n",
              "Destination     182\n",
              "Age             179\n",
              "VIP             203\n",
              "RoomService     181\n",
              "FoodCourt       183\n",
              "ShoppingMall    208\n",
              "Spa             183\n",
              "VRDeck          188\n",
              "Name            200\n",
              "Transported       0\n",
              "dtype: int64"
            ]
          },
          "metadata": {},
          "execution_count": 19
        }
      ],
      "source": [
        "train.isna().sum()"
      ]
    },
    {
      "cell_type": "code",
      "execution_count": 20,
      "metadata": {
        "colab": {
          "base_uri": "https://localhost:8080/",
          "height": 488
        },
        "id": "gWsbWpSNFeOJ",
        "outputId": "1385fa82-ca96-4595-e029-3c732b114fed"
      },
      "outputs": [
        {
          "output_type": "execute_result",
          "data": {
            "text/plain": [
              "              Total   Percent\n",
              "CryoSleep       217  2.496261\n",
              "ShoppingMall    208  2.392730\n",
              "VIP             203  2.335212\n",
              "HomePlanet      201  2.312205\n",
              "Name            200  2.300702\n",
              "Cabin           199  2.289198\n",
              "VRDeck          188  2.162660\n",
              "FoodCourt       183  2.105142\n",
              "Spa             183  2.105142\n",
              "Destination     182  2.093639\n",
              "RoomService     181  2.082135\n",
              "Age             179  2.059128\n",
              "PassengerId       0  0.000000\n",
              "Transported       0  0.000000"
            ],
            "text/html": [
              "\n",
              "  <div id=\"df-267ccb56-cc0a-49c7-bf31-a8f6b08b4878\">\n",
              "    <div class=\"colab-df-container\">\n",
              "      <div>\n",
              "<style scoped>\n",
              "    .dataframe tbody tr th:only-of-type {\n",
              "        vertical-align: middle;\n",
              "    }\n",
              "\n",
              "    .dataframe tbody tr th {\n",
              "        vertical-align: top;\n",
              "    }\n",
              "\n",
              "    .dataframe thead th {\n",
              "        text-align: right;\n",
              "    }\n",
              "</style>\n",
              "<table border=\"1\" class=\"dataframe\">\n",
              "  <thead>\n",
              "    <tr style=\"text-align: right;\">\n",
              "      <th></th>\n",
              "      <th>Total</th>\n",
              "      <th>Percent</th>\n",
              "    </tr>\n",
              "  </thead>\n",
              "  <tbody>\n",
              "    <tr>\n",
              "      <th>CryoSleep</th>\n",
              "      <td>217</td>\n",
              "      <td>2.496261</td>\n",
              "    </tr>\n",
              "    <tr>\n",
              "      <th>ShoppingMall</th>\n",
              "      <td>208</td>\n",
              "      <td>2.392730</td>\n",
              "    </tr>\n",
              "    <tr>\n",
              "      <th>VIP</th>\n",
              "      <td>203</td>\n",
              "      <td>2.335212</td>\n",
              "    </tr>\n",
              "    <tr>\n",
              "      <th>HomePlanet</th>\n",
              "      <td>201</td>\n",
              "      <td>2.312205</td>\n",
              "    </tr>\n",
              "    <tr>\n",
              "      <th>Name</th>\n",
              "      <td>200</td>\n",
              "      <td>2.300702</td>\n",
              "    </tr>\n",
              "    <tr>\n",
              "      <th>Cabin</th>\n",
              "      <td>199</td>\n",
              "      <td>2.289198</td>\n",
              "    </tr>\n",
              "    <tr>\n",
              "      <th>VRDeck</th>\n",
              "      <td>188</td>\n",
              "      <td>2.162660</td>\n",
              "    </tr>\n",
              "    <tr>\n",
              "      <th>FoodCourt</th>\n",
              "      <td>183</td>\n",
              "      <td>2.105142</td>\n",
              "    </tr>\n",
              "    <tr>\n",
              "      <th>Spa</th>\n",
              "      <td>183</td>\n",
              "      <td>2.105142</td>\n",
              "    </tr>\n",
              "    <tr>\n",
              "      <th>Destination</th>\n",
              "      <td>182</td>\n",
              "      <td>2.093639</td>\n",
              "    </tr>\n",
              "    <tr>\n",
              "      <th>RoomService</th>\n",
              "      <td>181</td>\n",
              "      <td>2.082135</td>\n",
              "    </tr>\n",
              "    <tr>\n",
              "      <th>Age</th>\n",
              "      <td>179</td>\n",
              "      <td>2.059128</td>\n",
              "    </tr>\n",
              "    <tr>\n",
              "      <th>PassengerId</th>\n",
              "      <td>0</td>\n",
              "      <td>0.000000</td>\n",
              "    </tr>\n",
              "    <tr>\n",
              "      <th>Transported</th>\n",
              "      <td>0</td>\n",
              "      <td>0.000000</td>\n",
              "    </tr>\n",
              "  </tbody>\n",
              "</table>\n",
              "</div>\n",
              "      <button class=\"colab-df-convert\" onclick=\"convertToInteractive('df-267ccb56-cc0a-49c7-bf31-a8f6b08b4878')\"\n",
              "              title=\"Convert this dataframe to an interactive table.\"\n",
              "              style=\"display:none;\">\n",
              "        \n",
              "  <svg xmlns=\"http://www.w3.org/2000/svg\" height=\"24px\"viewBox=\"0 0 24 24\"\n",
              "       width=\"24px\">\n",
              "    <path d=\"M0 0h24v24H0V0z\" fill=\"none\"/>\n",
              "    <path d=\"M18.56 5.44l.94 2.06.94-2.06 2.06-.94-2.06-.94-.94-2.06-.94 2.06-2.06.94zm-11 1L8.5 8.5l.94-2.06 2.06-.94-2.06-.94L8.5 2.5l-.94 2.06-2.06.94zm10 10l.94 2.06.94-2.06 2.06-.94-2.06-.94-.94-2.06-.94 2.06-2.06.94z\"/><path d=\"M17.41 7.96l-1.37-1.37c-.4-.4-.92-.59-1.43-.59-.52 0-1.04.2-1.43.59L10.3 9.45l-7.72 7.72c-.78.78-.78 2.05 0 2.83L4 21.41c.39.39.9.59 1.41.59.51 0 1.02-.2 1.41-.59l7.78-7.78 2.81-2.81c.8-.78.8-2.07 0-2.86zM5.41 20L4 18.59l7.72-7.72 1.47 1.35L5.41 20z\"/>\n",
              "  </svg>\n",
              "      </button>\n",
              "      \n",
              "  <style>\n",
              "    .colab-df-container {\n",
              "      display:flex;\n",
              "      flex-wrap:wrap;\n",
              "      gap: 12px;\n",
              "    }\n",
              "\n",
              "    .colab-df-convert {\n",
              "      background-color: #E8F0FE;\n",
              "      border: none;\n",
              "      border-radius: 50%;\n",
              "      cursor: pointer;\n",
              "      display: none;\n",
              "      fill: #1967D2;\n",
              "      height: 32px;\n",
              "      padding: 0 0 0 0;\n",
              "      width: 32px;\n",
              "    }\n",
              "\n",
              "    .colab-df-convert:hover {\n",
              "      background-color: #E2EBFA;\n",
              "      box-shadow: 0px 1px 2px rgba(60, 64, 67, 0.3), 0px 1px 3px 1px rgba(60, 64, 67, 0.15);\n",
              "      fill: #174EA6;\n",
              "    }\n",
              "\n",
              "    [theme=dark] .colab-df-convert {\n",
              "      background-color: #3B4455;\n",
              "      fill: #D2E3FC;\n",
              "    }\n",
              "\n",
              "    [theme=dark] .colab-df-convert:hover {\n",
              "      background-color: #434B5C;\n",
              "      box-shadow: 0px 1px 3px 1px rgba(0, 0, 0, 0.15);\n",
              "      filter: drop-shadow(0px 1px 2px rgba(0, 0, 0, 0.3));\n",
              "      fill: #FFFFFF;\n",
              "    }\n",
              "  </style>\n",
              "\n",
              "      <script>\n",
              "        const buttonEl =\n",
              "          document.querySelector('#df-267ccb56-cc0a-49c7-bf31-a8f6b08b4878 button.colab-df-convert');\n",
              "        buttonEl.style.display =\n",
              "          google.colab.kernel.accessAllowed ? 'block' : 'none';\n",
              "\n",
              "        async function convertToInteractive(key) {\n",
              "          const element = document.querySelector('#df-267ccb56-cc0a-49c7-bf31-a8f6b08b4878');\n",
              "          const dataTable =\n",
              "            await google.colab.kernel.invokeFunction('convertToInteractive',\n",
              "                                                     [key], {});\n",
              "          if (!dataTable) return;\n",
              "\n",
              "          const docLinkHtml = 'Like what you see? Visit the ' +\n",
              "            '<a target=\"_blank\" href=https://colab.research.google.com/notebooks/data_table.ipynb>data table notebook</a>'\n",
              "            + ' to learn more about interactive tables.';\n",
              "          element.innerHTML = '';\n",
              "          dataTable['output_type'] = 'display_data';\n",
              "          await google.colab.output.renderOutput(dataTable, element);\n",
              "          const docLink = document.createElement('div');\n",
              "          docLink.innerHTML = docLinkHtml;\n",
              "          element.appendChild(docLink);\n",
              "        }\n",
              "      </script>\n",
              "    </div>\n",
              "  </div>\n",
              "  "
            ]
          },
          "metadata": {},
          "execution_count": 20
        }
      ],
      "source": [
        "total = train.isnull().sum().sort_values(ascending=False)\n",
        "percent = (train.isnull().sum()/train.isnull().count()).sort_values(ascending=False)*100\n",
        "missing_data = pd.concat([total, percent], axis=1, keys=['Total','Percent'])\n",
        "missing_data.head(20)"
      ]
    },
    {
      "cell_type": "code",
      "execution_count": 21,
      "metadata": {
        "id": "fas3OIVLFzdk"
      },
      "outputs": [],
      "source": [
        "def  preprocess_data(df):\n",
        "      #df.drop(['Spa','VRDeck','FoodCourt'],axis=1,inplace=True)\n",
        "      for label, content in df.items():\n",
        "          if pd.api.types.is_numeric_dtype(content):\n",
        "              if pd.isnull(content).sum():\n",
        "                  df[label+\"_is_missing\"] = pd.isnull(content)\n",
        "                  df[label] = content.fillna(content.median())\n",
        "\n",
        "          if not pd.api.types.is_numeric_dtype(content):\n",
        "              df[label+\"_is_missing\"] = pd.isnull(content)\n",
        "              df[label] = pd.Categorical(content).codes+1\n",
        "      return df"
      ]
    },
    {
      "cell_type": "code",
      "execution_count": 22,
      "metadata": {
        "colab": {
          "base_uri": "https://localhost:8080/",
          "height": 488
        },
        "id": "D5ri3_STGDuX",
        "outputId": "d2cca509-317d-4db7-f393-c0d02457eb54"
      },
      "outputs": [
        {
          "output_type": "execute_result",
          "data": {
            "text/plain": [
              "      PassengerId  HomePlanet  CryoSleep  Cabin  Destination   Age  VIP  \\\n",
              "0               1           2          1    150            3  39.0    1   \n",
              "1               2           1          1   2185            3  24.0    1   \n",
              "2               3           2          1      2            3  58.0    2   \n",
              "3               4           2          1      2            3  33.0    1   \n",
              "4               5           1          1   2187            3  16.0    1   \n",
              "...           ...         ...        ...    ...          ...   ...  ...   \n",
              "8688         8689           2          1    147            1  41.0    2   \n",
              "8689         8690           1          2   5281            2  18.0    1   \n",
              "8690         8691           1          1   5286            3  26.0    1   \n",
              "8691         8692           2          1   2132            1  32.0    1   \n",
              "8692         8693           2          1   2132            3  44.0    1   \n",
              "\n",
              "      RoomService  FoodCourt  ShoppingMall  ...  Cabin_is_missing  \\\n",
              "0             0.0        0.0           0.0  ...             False   \n",
              "1           109.0        9.0          25.0  ...             False   \n",
              "2            43.0     3576.0           0.0  ...             False   \n",
              "3             0.0     1283.0         371.0  ...             False   \n",
              "4           303.0       70.0         151.0  ...             False   \n",
              "...           ...        ...           ...  ...               ...   \n",
              "8688          0.0     6819.0           0.0  ...             False   \n",
              "8689          0.0        0.0           0.0  ...             False   \n",
              "8690          0.0        0.0        1872.0  ...             False   \n",
              "8691          0.0     1049.0           0.0  ...             False   \n",
              "8692        126.0     4688.0           0.0  ...             False   \n",
              "\n",
              "      Destination_is_missing  Age_is_missing  VIP_is_missing  \\\n",
              "0                      False           False           False   \n",
              "1                      False           False           False   \n",
              "2                      False           False           False   \n",
              "3                      False           False           False   \n",
              "4                      False           False           False   \n",
              "...                      ...             ...             ...   \n",
              "8688                   False           False           False   \n",
              "8689                   False           False           False   \n",
              "8690                   False           False           False   \n",
              "8691                   False           False           False   \n",
              "8692                   False           False           False   \n",
              "\n",
              "      RoomService_is_missing  FoodCourt_is_missing  ShoppingMall_is_missing  \\\n",
              "0                      False                 False                    False   \n",
              "1                      False                 False                    False   \n",
              "2                      False                 False                    False   \n",
              "3                      False                 False                    False   \n",
              "4                      False                 False                    False   \n",
              "...                      ...                   ...                      ...   \n",
              "8688                   False                 False                    False   \n",
              "8689                   False                 False                    False   \n",
              "8690                   False                 False                    False   \n",
              "8691                   False                 False                    False   \n",
              "8692                   False                 False                    False   \n",
              "\n",
              "      Spa_is_missing  VRDeck_is_missing  Name_is_missing  \n",
              "0              False              False            False  \n",
              "1              False              False            False  \n",
              "2              False              False            False  \n",
              "3              False              False            False  \n",
              "4              False              False            False  \n",
              "...              ...                ...              ...  \n",
              "8688           False              False            False  \n",
              "8689           False              False            False  \n",
              "8690           False              False            False  \n",
              "8691           False              False            False  \n",
              "8692           False              False            False  \n",
              "\n",
              "[8693 rows x 27 columns]"
            ],
            "text/html": [
              "\n",
              "  <div id=\"df-d36ed62c-05a6-43dc-831e-058a3177df70\">\n",
              "    <div class=\"colab-df-container\">\n",
              "      <div>\n",
              "<style scoped>\n",
              "    .dataframe tbody tr th:only-of-type {\n",
              "        vertical-align: middle;\n",
              "    }\n",
              "\n",
              "    .dataframe tbody tr th {\n",
              "        vertical-align: top;\n",
              "    }\n",
              "\n",
              "    .dataframe thead th {\n",
              "        text-align: right;\n",
              "    }\n",
              "</style>\n",
              "<table border=\"1\" class=\"dataframe\">\n",
              "  <thead>\n",
              "    <tr style=\"text-align: right;\">\n",
              "      <th></th>\n",
              "      <th>PassengerId</th>\n",
              "      <th>HomePlanet</th>\n",
              "      <th>CryoSleep</th>\n",
              "      <th>Cabin</th>\n",
              "      <th>Destination</th>\n",
              "      <th>Age</th>\n",
              "      <th>VIP</th>\n",
              "      <th>RoomService</th>\n",
              "      <th>FoodCourt</th>\n",
              "      <th>ShoppingMall</th>\n",
              "      <th>...</th>\n",
              "      <th>Cabin_is_missing</th>\n",
              "      <th>Destination_is_missing</th>\n",
              "      <th>Age_is_missing</th>\n",
              "      <th>VIP_is_missing</th>\n",
              "      <th>RoomService_is_missing</th>\n",
              "      <th>FoodCourt_is_missing</th>\n",
              "      <th>ShoppingMall_is_missing</th>\n",
              "      <th>Spa_is_missing</th>\n",
              "      <th>VRDeck_is_missing</th>\n",
              "      <th>Name_is_missing</th>\n",
              "    </tr>\n",
              "  </thead>\n",
              "  <tbody>\n",
              "    <tr>\n",
              "      <th>0</th>\n",
              "      <td>1</td>\n",
              "      <td>2</td>\n",
              "      <td>1</td>\n",
              "      <td>150</td>\n",
              "      <td>3</td>\n",
              "      <td>39.0</td>\n",
              "      <td>1</td>\n",
              "      <td>0.0</td>\n",
              "      <td>0.0</td>\n",
              "      <td>0.0</td>\n",
              "      <td>...</td>\n",
              "      <td>False</td>\n",
              "      <td>False</td>\n",
              "      <td>False</td>\n",
              "      <td>False</td>\n",
              "      <td>False</td>\n",
              "      <td>False</td>\n",
              "      <td>False</td>\n",
              "      <td>False</td>\n",
              "      <td>False</td>\n",
              "      <td>False</td>\n",
              "    </tr>\n",
              "    <tr>\n",
              "      <th>1</th>\n",
              "      <td>2</td>\n",
              "      <td>1</td>\n",
              "      <td>1</td>\n",
              "      <td>2185</td>\n",
              "      <td>3</td>\n",
              "      <td>24.0</td>\n",
              "      <td>1</td>\n",
              "      <td>109.0</td>\n",
              "      <td>9.0</td>\n",
              "      <td>25.0</td>\n",
              "      <td>...</td>\n",
              "      <td>False</td>\n",
              "      <td>False</td>\n",
              "      <td>False</td>\n",
              "      <td>False</td>\n",
              "      <td>False</td>\n",
              "      <td>False</td>\n",
              "      <td>False</td>\n",
              "      <td>False</td>\n",
              "      <td>False</td>\n",
              "      <td>False</td>\n",
              "    </tr>\n",
              "    <tr>\n",
              "      <th>2</th>\n",
              "      <td>3</td>\n",
              "      <td>2</td>\n",
              "      <td>1</td>\n",
              "      <td>2</td>\n",
              "      <td>3</td>\n",
              "      <td>58.0</td>\n",
              "      <td>2</td>\n",
              "      <td>43.0</td>\n",
              "      <td>3576.0</td>\n",
              "      <td>0.0</td>\n",
              "      <td>...</td>\n",
              "      <td>False</td>\n",
              "      <td>False</td>\n",
              "      <td>False</td>\n",
              "      <td>False</td>\n",
              "      <td>False</td>\n",
              "      <td>False</td>\n",
              "      <td>False</td>\n",
              "      <td>False</td>\n",
              "      <td>False</td>\n",
              "      <td>False</td>\n",
              "    </tr>\n",
              "    <tr>\n",
              "      <th>3</th>\n",
              "      <td>4</td>\n",
              "      <td>2</td>\n",
              "      <td>1</td>\n",
              "      <td>2</td>\n",
              "      <td>3</td>\n",
              "      <td>33.0</td>\n",
              "      <td>1</td>\n",
              "      <td>0.0</td>\n",
              "      <td>1283.0</td>\n",
              "      <td>371.0</td>\n",
              "      <td>...</td>\n",
              "      <td>False</td>\n",
              "      <td>False</td>\n",
              "      <td>False</td>\n",
              "      <td>False</td>\n",
              "      <td>False</td>\n",
              "      <td>False</td>\n",
              "      <td>False</td>\n",
              "      <td>False</td>\n",
              "      <td>False</td>\n",
              "      <td>False</td>\n",
              "    </tr>\n",
              "    <tr>\n",
              "      <th>4</th>\n",
              "      <td>5</td>\n",
              "      <td>1</td>\n",
              "      <td>1</td>\n",
              "      <td>2187</td>\n",
              "      <td>3</td>\n",
              "      <td>16.0</td>\n",
              "      <td>1</td>\n",
              "      <td>303.0</td>\n",
              "      <td>70.0</td>\n",
              "      <td>151.0</td>\n",
              "      <td>...</td>\n",
              "      <td>False</td>\n",
              "      <td>False</td>\n",
              "      <td>False</td>\n",
              "      <td>False</td>\n",
              "      <td>False</td>\n",
              "      <td>False</td>\n",
              "      <td>False</td>\n",
              "      <td>False</td>\n",
              "      <td>False</td>\n",
              "      <td>False</td>\n",
              "    </tr>\n",
              "    <tr>\n",
              "      <th>...</th>\n",
              "      <td>...</td>\n",
              "      <td>...</td>\n",
              "      <td>...</td>\n",
              "      <td>...</td>\n",
              "      <td>...</td>\n",
              "      <td>...</td>\n",
              "      <td>...</td>\n",
              "      <td>...</td>\n",
              "      <td>...</td>\n",
              "      <td>...</td>\n",
              "      <td>...</td>\n",
              "      <td>...</td>\n",
              "      <td>...</td>\n",
              "      <td>...</td>\n",
              "      <td>...</td>\n",
              "      <td>...</td>\n",
              "      <td>...</td>\n",
              "      <td>...</td>\n",
              "      <td>...</td>\n",
              "      <td>...</td>\n",
              "      <td>...</td>\n",
              "    </tr>\n",
              "    <tr>\n",
              "      <th>8688</th>\n",
              "      <td>8689</td>\n",
              "      <td>2</td>\n",
              "      <td>1</td>\n",
              "      <td>147</td>\n",
              "      <td>1</td>\n",
              "      <td>41.0</td>\n",
              "      <td>2</td>\n",
              "      <td>0.0</td>\n",
              "      <td>6819.0</td>\n",
              "      <td>0.0</td>\n",
              "      <td>...</td>\n",
              "      <td>False</td>\n",
              "      <td>False</td>\n",
              "      <td>False</td>\n",
              "      <td>False</td>\n",
              "      <td>False</td>\n",
              "      <td>False</td>\n",
              "      <td>False</td>\n",
              "      <td>False</td>\n",
              "      <td>False</td>\n",
              "      <td>False</td>\n",
              "    </tr>\n",
              "    <tr>\n",
              "      <th>8689</th>\n",
              "      <td>8690</td>\n",
              "      <td>1</td>\n",
              "      <td>2</td>\n",
              "      <td>5281</td>\n",
              "      <td>2</td>\n",
              "      <td>18.0</td>\n",
              "      <td>1</td>\n",
              "      <td>0.0</td>\n",
              "      <td>0.0</td>\n",
              "      <td>0.0</td>\n",
              "      <td>...</td>\n",
              "      <td>False</td>\n",
              "      <td>False</td>\n",
              "      <td>False</td>\n",
              "      <td>False</td>\n",
              "      <td>False</td>\n",
              "      <td>False</td>\n",
              "      <td>False</td>\n",
              "      <td>False</td>\n",
              "      <td>False</td>\n",
              "      <td>False</td>\n",
              "    </tr>\n",
              "    <tr>\n",
              "      <th>8690</th>\n",
              "      <td>8691</td>\n",
              "      <td>1</td>\n",
              "      <td>1</td>\n",
              "      <td>5286</td>\n",
              "      <td>3</td>\n",
              "      <td>26.0</td>\n",
              "      <td>1</td>\n",
              "      <td>0.0</td>\n",
              "      <td>0.0</td>\n",
              "      <td>1872.0</td>\n",
              "      <td>...</td>\n",
              "      <td>False</td>\n",
              "      <td>False</td>\n",
              "      <td>False</td>\n",
              "      <td>False</td>\n",
              "      <td>False</td>\n",
              "      <td>False</td>\n",
              "      <td>False</td>\n",
              "      <td>False</td>\n",
              "      <td>False</td>\n",
              "      <td>False</td>\n",
              "    </tr>\n",
              "    <tr>\n",
              "      <th>8691</th>\n",
              "      <td>8692</td>\n",
              "      <td>2</td>\n",
              "      <td>1</td>\n",
              "      <td>2132</td>\n",
              "      <td>1</td>\n",
              "      <td>32.0</td>\n",
              "      <td>1</td>\n",
              "      <td>0.0</td>\n",
              "      <td>1049.0</td>\n",
              "      <td>0.0</td>\n",
              "      <td>...</td>\n",
              "      <td>False</td>\n",
              "      <td>False</td>\n",
              "      <td>False</td>\n",
              "      <td>False</td>\n",
              "      <td>False</td>\n",
              "      <td>False</td>\n",
              "      <td>False</td>\n",
              "      <td>False</td>\n",
              "      <td>False</td>\n",
              "      <td>False</td>\n",
              "    </tr>\n",
              "    <tr>\n",
              "      <th>8692</th>\n",
              "      <td>8693</td>\n",
              "      <td>2</td>\n",
              "      <td>1</td>\n",
              "      <td>2132</td>\n",
              "      <td>3</td>\n",
              "      <td>44.0</td>\n",
              "      <td>1</td>\n",
              "      <td>126.0</td>\n",
              "      <td>4688.0</td>\n",
              "      <td>0.0</td>\n",
              "      <td>...</td>\n",
              "      <td>False</td>\n",
              "      <td>False</td>\n",
              "      <td>False</td>\n",
              "      <td>False</td>\n",
              "      <td>False</td>\n",
              "      <td>False</td>\n",
              "      <td>False</td>\n",
              "      <td>False</td>\n",
              "      <td>False</td>\n",
              "      <td>False</td>\n",
              "    </tr>\n",
              "  </tbody>\n",
              "</table>\n",
              "<p>8693 rows × 27 columns</p>\n",
              "</div>\n",
              "      <button class=\"colab-df-convert\" onclick=\"convertToInteractive('df-d36ed62c-05a6-43dc-831e-058a3177df70')\"\n",
              "              title=\"Convert this dataframe to an interactive table.\"\n",
              "              style=\"display:none;\">\n",
              "        \n",
              "  <svg xmlns=\"http://www.w3.org/2000/svg\" height=\"24px\"viewBox=\"0 0 24 24\"\n",
              "       width=\"24px\">\n",
              "    <path d=\"M0 0h24v24H0V0z\" fill=\"none\"/>\n",
              "    <path d=\"M18.56 5.44l.94 2.06.94-2.06 2.06-.94-2.06-.94-.94-2.06-.94 2.06-2.06.94zm-11 1L8.5 8.5l.94-2.06 2.06-.94-2.06-.94L8.5 2.5l-.94 2.06-2.06.94zm10 10l.94 2.06.94-2.06 2.06-.94-2.06-.94-.94-2.06-.94 2.06-2.06.94z\"/><path d=\"M17.41 7.96l-1.37-1.37c-.4-.4-.92-.59-1.43-.59-.52 0-1.04.2-1.43.59L10.3 9.45l-7.72 7.72c-.78.78-.78 2.05 0 2.83L4 21.41c.39.39.9.59 1.41.59.51 0 1.02-.2 1.41-.59l7.78-7.78 2.81-2.81c.8-.78.8-2.07 0-2.86zM5.41 20L4 18.59l7.72-7.72 1.47 1.35L5.41 20z\"/>\n",
              "  </svg>\n",
              "      </button>\n",
              "      \n",
              "  <style>\n",
              "    .colab-df-container {\n",
              "      display:flex;\n",
              "      flex-wrap:wrap;\n",
              "      gap: 12px;\n",
              "    }\n",
              "\n",
              "    .colab-df-convert {\n",
              "      background-color: #E8F0FE;\n",
              "      border: none;\n",
              "      border-radius: 50%;\n",
              "      cursor: pointer;\n",
              "      display: none;\n",
              "      fill: #1967D2;\n",
              "      height: 32px;\n",
              "      padding: 0 0 0 0;\n",
              "      width: 32px;\n",
              "    }\n",
              "\n",
              "    .colab-df-convert:hover {\n",
              "      background-color: #E2EBFA;\n",
              "      box-shadow: 0px 1px 2px rgba(60, 64, 67, 0.3), 0px 1px 3px 1px rgba(60, 64, 67, 0.15);\n",
              "      fill: #174EA6;\n",
              "    }\n",
              "\n",
              "    [theme=dark] .colab-df-convert {\n",
              "      background-color: #3B4455;\n",
              "      fill: #D2E3FC;\n",
              "    }\n",
              "\n",
              "    [theme=dark] .colab-df-convert:hover {\n",
              "      background-color: #434B5C;\n",
              "      box-shadow: 0px 1px 3px 1px rgba(0, 0, 0, 0.15);\n",
              "      filter: drop-shadow(0px 1px 2px rgba(0, 0, 0, 0.3));\n",
              "      fill: #FFFFFF;\n",
              "    }\n",
              "  </style>\n",
              "\n",
              "      <script>\n",
              "        const buttonEl =\n",
              "          document.querySelector('#df-d36ed62c-05a6-43dc-831e-058a3177df70 button.colab-df-convert');\n",
              "        buttonEl.style.display =\n",
              "          google.colab.kernel.accessAllowed ? 'block' : 'none';\n",
              "\n",
              "        async function convertToInteractive(key) {\n",
              "          const element = document.querySelector('#df-d36ed62c-05a6-43dc-831e-058a3177df70');\n",
              "          const dataTable =\n",
              "            await google.colab.kernel.invokeFunction('convertToInteractive',\n",
              "                                                     [key], {});\n",
              "          if (!dataTable) return;\n",
              "\n",
              "          const docLinkHtml = 'Like what you see? Visit the ' +\n",
              "            '<a target=\"_blank\" href=https://colab.research.google.com/notebooks/data_table.ipynb>data table notebook</a>'\n",
              "            + ' to learn more about interactive tables.';\n",
              "          element.innerHTML = '';\n",
              "          dataTable['output_type'] = 'display_data';\n",
              "          await google.colab.output.renderOutput(dataTable, element);\n",
              "          const docLink = document.createElement('div');\n",
              "          docLink.innerHTML = docLinkHtml;\n",
              "          element.appendChild(docLink);\n",
              "        }\n",
              "      </script>\n",
              "    </div>\n",
              "  </div>\n",
              "  "
            ]
          },
          "metadata": {},
          "execution_count": 22
        }
      ],
      "source": [
        "preprocess_data(train)"
      ]
    },
    {
      "cell_type": "code",
      "execution_count": 23,
      "metadata": {
        "colab": {
          "base_uri": "https://localhost:8080/",
          "height": 488
        },
        "id": "kAyGilufGNmC",
        "outputId": "68705e0f-f64a-4598-afd5-a205c7771752"
      },
      "outputs": [
        {
          "output_type": "execute_result",
          "data": {
            "text/plain": [
              "      PassengerId  HomePlanet  CryoSleep  Cabin  Destination   Age  VIP  \\\n",
              "0               1           1          2   2785            3  27.0    1   \n",
              "1               2           1          1   1868            3  19.0    1   \n",
              "2               3           2          2    258            1  31.0    1   \n",
              "3               4           2          1    260            3  38.0    1   \n",
              "4               5           1          1   1941            3  20.0    1   \n",
              "...           ...         ...        ...    ...          ...   ...  ...   \n",
              "4272         4273           1          2   2680            3  34.0    1   \n",
              "4273         4274           1          1      0            3  42.0    1   \n",
              "4274         4275           3          2    603            1  26.0    1   \n",
              "4275         4276           2          1    604            0  26.0    1   \n",
              "4276         4277           1          2   2681            2  43.0    1   \n",
              "\n",
              "      RoomService  FoodCourt  ShoppingMall  ...  Cabin_is_missing  \\\n",
              "0             0.0        0.0           0.0  ...             False   \n",
              "1             0.0        9.0           0.0  ...             False   \n",
              "2             0.0        0.0           0.0  ...             False   \n",
              "3             0.0     6652.0           0.0  ...             False   \n",
              "4            10.0        0.0         635.0  ...             False   \n",
              "...           ...        ...           ...  ...               ...   \n",
              "4272          0.0        0.0           0.0  ...             False   \n",
              "4273          0.0      847.0          17.0  ...              True   \n",
              "4274          0.0        0.0           0.0  ...             False   \n",
              "4275          0.0     2680.0           0.0  ...             False   \n",
              "4276          0.0        0.0           0.0  ...             False   \n",
              "\n",
              "      Destination_is_missing  Age_is_missing  VIP_is_missing  \\\n",
              "0                      False           False           False   \n",
              "1                      False           False           False   \n",
              "2                      False           False           False   \n",
              "3                      False           False           False   \n",
              "4                      False           False           False   \n",
              "...                      ...             ...             ...   \n",
              "4272                   False           False           False   \n",
              "4273                   False           False           False   \n",
              "4274                   False            True           False   \n",
              "4275                    True            True           False   \n",
              "4276                   False           False           False   \n",
              "\n",
              "      RoomService_is_missing  FoodCourt_is_missing  ShoppingMall_is_missing  \\\n",
              "0                      False                 False                    False   \n",
              "1                      False                 False                    False   \n",
              "2                      False                 False                    False   \n",
              "3                      False                 False                    False   \n",
              "4                      False                 False                    False   \n",
              "...                      ...                   ...                      ...   \n",
              "4272                   False                 False                    False   \n",
              "4273                   False                 False                    False   \n",
              "4274                   False                 False                    False   \n",
              "4275                   False                 False                    False   \n",
              "4276                   False                 False                    False   \n",
              "\n",
              "      Spa_is_missing  VRDeck_is_missing  Name_is_missing  \n",
              "0              False              False            False  \n",
              "1              False              False            False  \n",
              "2              False              False            False  \n",
              "3              False              False            False  \n",
              "4              False              False            False  \n",
              "...              ...                ...              ...  \n",
              "4272           False              False            False  \n",
              "4273           False              False            False  \n",
              "4274           False              False            False  \n",
              "4275           False              False            False  \n",
              "4276           False              False            False  \n",
              "\n",
              "[4277 rows x 26 columns]"
            ],
            "text/html": [
              "\n",
              "  <div id=\"df-e0d4ed4e-1206-4043-8c07-616fbb40d35c\">\n",
              "    <div class=\"colab-df-container\">\n",
              "      <div>\n",
              "<style scoped>\n",
              "    .dataframe tbody tr th:only-of-type {\n",
              "        vertical-align: middle;\n",
              "    }\n",
              "\n",
              "    .dataframe tbody tr th {\n",
              "        vertical-align: top;\n",
              "    }\n",
              "\n",
              "    .dataframe thead th {\n",
              "        text-align: right;\n",
              "    }\n",
              "</style>\n",
              "<table border=\"1\" class=\"dataframe\">\n",
              "  <thead>\n",
              "    <tr style=\"text-align: right;\">\n",
              "      <th></th>\n",
              "      <th>PassengerId</th>\n",
              "      <th>HomePlanet</th>\n",
              "      <th>CryoSleep</th>\n",
              "      <th>Cabin</th>\n",
              "      <th>Destination</th>\n",
              "      <th>Age</th>\n",
              "      <th>VIP</th>\n",
              "      <th>RoomService</th>\n",
              "      <th>FoodCourt</th>\n",
              "      <th>ShoppingMall</th>\n",
              "      <th>...</th>\n",
              "      <th>Cabin_is_missing</th>\n",
              "      <th>Destination_is_missing</th>\n",
              "      <th>Age_is_missing</th>\n",
              "      <th>VIP_is_missing</th>\n",
              "      <th>RoomService_is_missing</th>\n",
              "      <th>FoodCourt_is_missing</th>\n",
              "      <th>ShoppingMall_is_missing</th>\n",
              "      <th>Spa_is_missing</th>\n",
              "      <th>VRDeck_is_missing</th>\n",
              "      <th>Name_is_missing</th>\n",
              "    </tr>\n",
              "  </thead>\n",
              "  <tbody>\n",
              "    <tr>\n",
              "      <th>0</th>\n",
              "      <td>1</td>\n",
              "      <td>1</td>\n",
              "      <td>2</td>\n",
              "      <td>2785</td>\n",
              "      <td>3</td>\n",
              "      <td>27.0</td>\n",
              "      <td>1</td>\n",
              "      <td>0.0</td>\n",
              "      <td>0.0</td>\n",
              "      <td>0.0</td>\n",
              "      <td>...</td>\n",
              "      <td>False</td>\n",
              "      <td>False</td>\n",
              "      <td>False</td>\n",
              "      <td>False</td>\n",
              "      <td>False</td>\n",
              "      <td>False</td>\n",
              "      <td>False</td>\n",
              "      <td>False</td>\n",
              "      <td>False</td>\n",
              "      <td>False</td>\n",
              "    </tr>\n",
              "    <tr>\n",
              "      <th>1</th>\n",
              "      <td>2</td>\n",
              "      <td>1</td>\n",
              "      <td>1</td>\n",
              "      <td>1868</td>\n",
              "      <td>3</td>\n",
              "      <td>19.0</td>\n",
              "      <td>1</td>\n",
              "      <td>0.0</td>\n",
              "      <td>9.0</td>\n",
              "      <td>0.0</td>\n",
              "      <td>...</td>\n",
              "      <td>False</td>\n",
              "      <td>False</td>\n",
              "      <td>False</td>\n",
              "      <td>False</td>\n",
              "      <td>False</td>\n",
              "      <td>False</td>\n",
              "      <td>False</td>\n",
              "      <td>False</td>\n",
              "      <td>False</td>\n",
              "      <td>False</td>\n",
              "    </tr>\n",
              "    <tr>\n",
              "      <th>2</th>\n",
              "      <td>3</td>\n",
              "      <td>2</td>\n",
              "      <td>2</td>\n",
              "      <td>258</td>\n",
              "      <td>1</td>\n",
              "      <td>31.0</td>\n",
              "      <td>1</td>\n",
              "      <td>0.0</td>\n",
              "      <td>0.0</td>\n",
              "      <td>0.0</td>\n",
              "      <td>...</td>\n",
              "      <td>False</td>\n",
              "      <td>False</td>\n",
              "      <td>False</td>\n",
              "      <td>False</td>\n",
              "      <td>False</td>\n",
              "      <td>False</td>\n",
              "      <td>False</td>\n",
              "      <td>False</td>\n",
              "      <td>False</td>\n",
              "      <td>False</td>\n",
              "    </tr>\n",
              "    <tr>\n",
              "      <th>3</th>\n",
              "      <td>4</td>\n",
              "      <td>2</td>\n",
              "      <td>1</td>\n",
              "      <td>260</td>\n",
              "      <td>3</td>\n",
              "      <td>38.0</td>\n",
              "      <td>1</td>\n",
              "      <td>0.0</td>\n",
              "      <td>6652.0</td>\n",
              "      <td>0.0</td>\n",
              "      <td>...</td>\n",
              "      <td>False</td>\n",
              "      <td>False</td>\n",
              "      <td>False</td>\n",
              "      <td>False</td>\n",
              "      <td>False</td>\n",
              "      <td>False</td>\n",
              "      <td>False</td>\n",
              "      <td>False</td>\n",
              "      <td>False</td>\n",
              "      <td>False</td>\n",
              "    </tr>\n",
              "    <tr>\n",
              "      <th>4</th>\n",
              "      <td>5</td>\n",
              "      <td>1</td>\n",
              "      <td>1</td>\n",
              "      <td>1941</td>\n",
              "      <td>3</td>\n",
              "      <td>20.0</td>\n",
              "      <td>1</td>\n",
              "      <td>10.0</td>\n",
              "      <td>0.0</td>\n",
              "      <td>635.0</td>\n",
              "      <td>...</td>\n",
              "      <td>False</td>\n",
              "      <td>False</td>\n",
              "      <td>False</td>\n",
              "      <td>False</td>\n",
              "      <td>False</td>\n",
              "      <td>False</td>\n",
              "      <td>False</td>\n",
              "      <td>False</td>\n",
              "      <td>False</td>\n",
              "      <td>False</td>\n",
              "    </tr>\n",
              "    <tr>\n",
              "      <th>...</th>\n",
              "      <td>...</td>\n",
              "      <td>...</td>\n",
              "      <td>...</td>\n",
              "      <td>...</td>\n",
              "      <td>...</td>\n",
              "      <td>...</td>\n",
              "      <td>...</td>\n",
              "      <td>...</td>\n",
              "      <td>...</td>\n",
              "      <td>...</td>\n",
              "      <td>...</td>\n",
              "      <td>...</td>\n",
              "      <td>...</td>\n",
              "      <td>...</td>\n",
              "      <td>...</td>\n",
              "      <td>...</td>\n",
              "      <td>...</td>\n",
              "      <td>...</td>\n",
              "      <td>...</td>\n",
              "      <td>...</td>\n",
              "      <td>...</td>\n",
              "    </tr>\n",
              "    <tr>\n",
              "      <th>4272</th>\n",
              "      <td>4273</td>\n",
              "      <td>1</td>\n",
              "      <td>2</td>\n",
              "      <td>2680</td>\n",
              "      <td>3</td>\n",
              "      <td>34.0</td>\n",
              "      <td>1</td>\n",
              "      <td>0.0</td>\n",
              "      <td>0.0</td>\n",
              "      <td>0.0</td>\n",
              "      <td>...</td>\n",
              "      <td>False</td>\n",
              "      <td>False</td>\n",
              "      <td>False</td>\n",
              "      <td>False</td>\n",
              "      <td>False</td>\n",
              "      <td>False</td>\n",
              "      <td>False</td>\n",
              "      <td>False</td>\n",
              "      <td>False</td>\n",
              "      <td>False</td>\n",
              "    </tr>\n",
              "    <tr>\n",
              "      <th>4273</th>\n",
              "      <td>4274</td>\n",
              "      <td>1</td>\n",
              "      <td>1</td>\n",
              "      <td>0</td>\n",
              "      <td>3</td>\n",
              "      <td>42.0</td>\n",
              "      <td>1</td>\n",
              "      <td>0.0</td>\n",
              "      <td>847.0</td>\n",
              "      <td>17.0</td>\n",
              "      <td>...</td>\n",
              "      <td>True</td>\n",
              "      <td>False</td>\n",
              "      <td>False</td>\n",
              "      <td>False</td>\n",
              "      <td>False</td>\n",
              "      <td>False</td>\n",
              "      <td>False</td>\n",
              "      <td>False</td>\n",
              "      <td>False</td>\n",
              "      <td>False</td>\n",
              "    </tr>\n",
              "    <tr>\n",
              "      <th>4274</th>\n",
              "      <td>4275</td>\n",
              "      <td>3</td>\n",
              "      <td>2</td>\n",
              "      <td>603</td>\n",
              "      <td>1</td>\n",
              "      <td>26.0</td>\n",
              "      <td>1</td>\n",
              "      <td>0.0</td>\n",
              "      <td>0.0</td>\n",
              "      <td>0.0</td>\n",
              "      <td>...</td>\n",
              "      <td>False</td>\n",
              "      <td>False</td>\n",
              "      <td>True</td>\n",
              "      <td>False</td>\n",
              "      <td>False</td>\n",
              "      <td>False</td>\n",
              "      <td>False</td>\n",
              "      <td>False</td>\n",
              "      <td>False</td>\n",
              "      <td>False</td>\n",
              "    </tr>\n",
              "    <tr>\n",
              "      <th>4275</th>\n",
              "      <td>4276</td>\n",
              "      <td>2</td>\n",
              "      <td>1</td>\n",
              "      <td>604</td>\n",
              "      <td>0</td>\n",
              "      <td>26.0</td>\n",
              "      <td>1</td>\n",
              "      <td>0.0</td>\n",
              "      <td>2680.0</td>\n",
              "      <td>0.0</td>\n",
              "      <td>...</td>\n",
              "      <td>False</td>\n",
              "      <td>True</td>\n",
              "      <td>True</td>\n",
              "      <td>False</td>\n",
              "      <td>False</td>\n",
              "      <td>False</td>\n",
              "      <td>False</td>\n",
              "      <td>False</td>\n",
              "      <td>False</td>\n",
              "      <td>False</td>\n",
              "    </tr>\n",
              "    <tr>\n",
              "      <th>4276</th>\n",
              "      <td>4277</td>\n",
              "      <td>1</td>\n",
              "      <td>2</td>\n",
              "      <td>2681</td>\n",
              "      <td>2</td>\n",
              "      <td>43.0</td>\n",
              "      <td>1</td>\n",
              "      <td>0.0</td>\n",
              "      <td>0.0</td>\n",
              "      <td>0.0</td>\n",
              "      <td>...</td>\n",
              "      <td>False</td>\n",
              "      <td>False</td>\n",
              "      <td>False</td>\n",
              "      <td>False</td>\n",
              "      <td>False</td>\n",
              "      <td>False</td>\n",
              "      <td>False</td>\n",
              "      <td>False</td>\n",
              "      <td>False</td>\n",
              "      <td>False</td>\n",
              "    </tr>\n",
              "  </tbody>\n",
              "</table>\n",
              "<p>4277 rows × 26 columns</p>\n",
              "</div>\n",
              "      <button class=\"colab-df-convert\" onclick=\"convertToInteractive('df-e0d4ed4e-1206-4043-8c07-616fbb40d35c')\"\n",
              "              title=\"Convert this dataframe to an interactive table.\"\n",
              "              style=\"display:none;\">\n",
              "        \n",
              "  <svg xmlns=\"http://www.w3.org/2000/svg\" height=\"24px\"viewBox=\"0 0 24 24\"\n",
              "       width=\"24px\">\n",
              "    <path d=\"M0 0h24v24H0V0z\" fill=\"none\"/>\n",
              "    <path d=\"M18.56 5.44l.94 2.06.94-2.06 2.06-.94-2.06-.94-.94-2.06-.94 2.06-2.06.94zm-11 1L8.5 8.5l.94-2.06 2.06-.94-2.06-.94L8.5 2.5l-.94 2.06-2.06.94zm10 10l.94 2.06.94-2.06 2.06-.94-2.06-.94-.94-2.06-.94 2.06-2.06.94z\"/><path d=\"M17.41 7.96l-1.37-1.37c-.4-.4-.92-.59-1.43-.59-.52 0-1.04.2-1.43.59L10.3 9.45l-7.72 7.72c-.78.78-.78 2.05 0 2.83L4 21.41c.39.39.9.59 1.41.59.51 0 1.02-.2 1.41-.59l7.78-7.78 2.81-2.81c.8-.78.8-2.07 0-2.86zM5.41 20L4 18.59l7.72-7.72 1.47 1.35L5.41 20z\"/>\n",
              "  </svg>\n",
              "      </button>\n",
              "      \n",
              "  <style>\n",
              "    .colab-df-container {\n",
              "      display:flex;\n",
              "      flex-wrap:wrap;\n",
              "      gap: 12px;\n",
              "    }\n",
              "\n",
              "    .colab-df-convert {\n",
              "      background-color: #E8F0FE;\n",
              "      border: none;\n",
              "      border-radius: 50%;\n",
              "      cursor: pointer;\n",
              "      display: none;\n",
              "      fill: #1967D2;\n",
              "      height: 32px;\n",
              "      padding: 0 0 0 0;\n",
              "      width: 32px;\n",
              "    }\n",
              "\n",
              "    .colab-df-convert:hover {\n",
              "      background-color: #E2EBFA;\n",
              "      box-shadow: 0px 1px 2px rgba(60, 64, 67, 0.3), 0px 1px 3px 1px rgba(60, 64, 67, 0.15);\n",
              "      fill: #174EA6;\n",
              "    }\n",
              "\n",
              "    [theme=dark] .colab-df-convert {\n",
              "      background-color: #3B4455;\n",
              "      fill: #D2E3FC;\n",
              "    }\n",
              "\n",
              "    [theme=dark] .colab-df-convert:hover {\n",
              "      background-color: #434B5C;\n",
              "      box-shadow: 0px 1px 3px 1px rgba(0, 0, 0, 0.15);\n",
              "      filter: drop-shadow(0px 1px 2px rgba(0, 0, 0, 0.3));\n",
              "      fill: #FFFFFF;\n",
              "    }\n",
              "  </style>\n",
              "\n",
              "      <script>\n",
              "        const buttonEl =\n",
              "          document.querySelector('#df-e0d4ed4e-1206-4043-8c07-616fbb40d35c button.colab-df-convert');\n",
              "        buttonEl.style.display =\n",
              "          google.colab.kernel.accessAllowed ? 'block' : 'none';\n",
              "\n",
              "        async function convertToInteractive(key) {\n",
              "          const element = document.querySelector('#df-e0d4ed4e-1206-4043-8c07-616fbb40d35c');\n",
              "          const dataTable =\n",
              "            await google.colab.kernel.invokeFunction('convertToInteractive',\n",
              "                                                     [key], {});\n",
              "          if (!dataTable) return;\n",
              "\n",
              "          const docLinkHtml = 'Like what you see? Visit the ' +\n",
              "            '<a target=\"_blank\" href=https://colab.research.google.com/notebooks/data_table.ipynb>data table notebook</a>'\n",
              "            + ' to learn more about interactive tables.';\n",
              "          element.innerHTML = '';\n",
              "          dataTable['output_type'] = 'display_data';\n",
              "          await google.colab.output.renderOutput(dataTable, element);\n",
              "          const docLink = document.createElement('div');\n",
              "          docLink.innerHTML = docLinkHtml;\n",
              "          element.appendChild(docLink);\n",
              "        }\n",
              "      </script>\n",
              "    </div>\n",
              "  </div>\n",
              "  "
            ]
          },
          "metadata": {},
          "execution_count": 23
        }
      ],
      "source": [
        "preprocess_data(test)"
      ]
    },
    {
      "cell_type": "code",
      "execution_count": 24,
      "metadata": {
        "colab": {
          "base_uri": "https://localhost:8080/"
        },
        "id": "yoJbvvu2GGgN",
        "outputId": "5a50fa0b-b3d1-497a-d32d-9b4888613868"
      },
      "outputs": [
        {
          "output_type": "execute_result",
          "data": {
            "text/plain": [
              "0"
            ]
          },
          "metadata": {},
          "execution_count": 24
        }
      ],
      "source": [
        "train.isna().sum().max()"
      ]
    },
    {
      "cell_type": "code",
      "execution_count": 25,
      "metadata": {
        "colab": {
          "base_uri": "https://localhost:8080/"
        },
        "id": "_S1UVfTqGLy_",
        "outputId": "65adaa33-b59d-4878-db2a-e3c3361b7adb"
      },
      "outputs": [
        {
          "output_type": "execute_result",
          "data": {
            "text/plain": [
              "0"
            ]
          },
          "metadata": {},
          "execution_count": 25
        }
      ],
      "source": [
        "test.isna().sum().max()"
      ]
    },
    {
      "cell_type": "code",
      "execution_count": 26,
      "metadata": {
        "id": "aKgP1w5cGZ5a"
      },
      "outputs": [],
      "source": [
        "X = train.drop(\"Transported\", axis=1)\n",
        "y = train.Transported.values"
      ]
    },
    {
      "cell_type": "code",
      "execution_count": 27,
      "metadata": {
        "colab": {
          "base_uri": "https://localhost:8080/",
          "height": 300
        },
        "id": "D-fmvMQMGorj",
        "outputId": "1ce2613b-2161-48c0-c242-6be228575e26"
      },
      "outputs": [
        {
          "output_type": "execute_result",
          "data": {
            "text/plain": [
              "   PassengerId  HomePlanet  CryoSleep  Cabin  Destination   Age  VIP  \\\n",
              "0            1           2          1    150            3  39.0    1   \n",
              "1            2           1          1   2185            3  24.0    1   \n",
              "2            3           2          1      2            3  58.0    2   \n",
              "3            4           2          1      2            3  33.0    1   \n",
              "4            5           1          1   2187            3  16.0    1   \n",
              "\n",
              "   RoomService  FoodCourt  ShoppingMall  ...  Cabin_is_missing  \\\n",
              "0          0.0        0.0           0.0  ...             False   \n",
              "1        109.0        9.0          25.0  ...             False   \n",
              "2         43.0     3576.0           0.0  ...             False   \n",
              "3          0.0     1283.0         371.0  ...             False   \n",
              "4        303.0       70.0         151.0  ...             False   \n",
              "\n",
              "   Destination_is_missing  Age_is_missing  VIP_is_missing  \\\n",
              "0                   False           False           False   \n",
              "1                   False           False           False   \n",
              "2                   False           False           False   \n",
              "3                   False           False           False   \n",
              "4                   False           False           False   \n",
              "\n",
              "   RoomService_is_missing  FoodCourt_is_missing  ShoppingMall_is_missing  \\\n",
              "0                   False                 False                    False   \n",
              "1                   False                 False                    False   \n",
              "2                   False                 False                    False   \n",
              "3                   False                 False                    False   \n",
              "4                   False                 False                    False   \n",
              "\n",
              "   Spa_is_missing  VRDeck_is_missing  Name_is_missing  \n",
              "0           False              False            False  \n",
              "1           False              False            False  \n",
              "2           False              False            False  \n",
              "3           False              False            False  \n",
              "4           False              False            False  \n",
              "\n",
              "[5 rows x 26 columns]"
            ],
            "text/html": [
              "\n",
              "  <div id=\"df-47b58520-0683-4eb1-983e-99a7b3bb24a6\">\n",
              "    <div class=\"colab-df-container\">\n",
              "      <div>\n",
              "<style scoped>\n",
              "    .dataframe tbody tr th:only-of-type {\n",
              "        vertical-align: middle;\n",
              "    }\n",
              "\n",
              "    .dataframe tbody tr th {\n",
              "        vertical-align: top;\n",
              "    }\n",
              "\n",
              "    .dataframe thead th {\n",
              "        text-align: right;\n",
              "    }\n",
              "</style>\n",
              "<table border=\"1\" class=\"dataframe\">\n",
              "  <thead>\n",
              "    <tr style=\"text-align: right;\">\n",
              "      <th></th>\n",
              "      <th>PassengerId</th>\n",
              "      <th>HomePlanet</th>\n",
              "      <th>CryoSleep</th>\n",
              "      <th>Cabin</th>\n",
              "      <th>Destination</th>\n",
              "      <th>Age</th>\n",
              "      <th>VIP</th>\n",
              "      <th>RoomService</th>\n",
              "      <th>FoodCourt</th>\n",
              "      <th>ShoppingMall</th>\n",
              "      <th>...</th>\n",
              "      <th>Cabin_is_missing</th>\n",
              "      <th>Destination_is_missing</th>\n",
              "      <th>Age_is_missing</th>\n",
              "      <th>VIP_is_missing</th>\n",
              "      <th>RoomService_is_missing</th>\n",
              "      <th>FoodCourt_is_missing</th>\n",
              "      <th>ShoppingMall_is_missing</th>\n",
              "      <th>Spa_is_missing</th>\n",
              "      <th>VRDeck_is_missing</th>\n",
              "      <th>Name_is_missing</th>\n",
              "    </tr>\n",
              "  </thead>\n",
              "  <tbody>\n",
              "    <tr>\n",
              "      <th>0</th>\n",
              "      <td>1</td>\n",
              "      <td>2</td>\n",
              "      <td>1</td>\n",
              "      <td>150</td>\n",
              "      <td>3</td>\n",
              "      <td>39.0</td>\n",
              "      <td>1</td>\n",
              "      <td>0.0</td>\n",
              "      <td>0.0</td>\n",
              "      <td>0.0</td>\n",
              "      <td>...</td>\n",
              "      <td>False</td>\n",
              "      <td>False</td>\n",
              "      <td>False</td>\n",
              "      <td>False</td>\n",
              "      <td>False</td>\n",
              "      <td>False</td>\n",
              "      <td>False</td>\n",
              "      <td>False</td>\n",
              "      <td>False</td>\n",
              "      <td>False</td>\n",
              "    </tr>\n",
              "    <tr>\n",
              "      <th>1</th>\n",
              "      <td>2</td>\n",
              "      <td>1</td>\n",
              "      <td>1</td>\n",
              "      <td>2185</td>\n",
              "      <td>3</td>\n",
              "      <td>24.0</td>\n",
              "      <td>1</td>\n",
              "      <td>109.0</td>\n",
              "      <td>9.0</td>\n",
              "      <td>25.0</td>\n",
              "      <td>...</td>\n",
              "      <td>False</td>\n",
              "      <td>False</td>\n",
              "      <td>False</td>\n",
              "      <td>False</td>\n",
              "      <td>False</td>\n",
              "      <td>False</td>\n",
              "      <td>False</td>\n",
              "      <td>False</td>\n",
              "      <td>False</td>\n",
              "      <td>False</td>\n",
              "    </tr>\n",
              "    <tr>\n",
              "      <th>2</th>\n",
              "      <td>3</td>\n",
              "      <td>2</td>\n",
              "      <td>1</td>\n",
              "      <td>2</td>\n",
              "      <td>3</td>\n",
              "      <td>58.0</td>\n",
              "      <td>2</td>\n",
              "      <td>43.0</td>\n",
              "      <td>3576.0</td>\n",
              "      <td>0.0</td>\n",
              "      <td>...</td>\n",
              "      <td>False</td>\n",
              "      <td>False</td>\n",
              "      <td>False</td>\n",
              "      <td>False</td>\n",
              "      <td>False</td>\n",
              "      <td>False</td>\n",
              "      <td>False</td>\n",
              "      <td>False</td>\n",
              "      <td>False</td>\n",
              "      <td>False</td>\n",
              "    </tr>\n",
              "    <tr>\n",
              "      <th>3</th>\n",
              "      <td>4</td>\n",
              "      <td>2</td>\n",
              "      <td>1</td>\n",
              "      <td>2</td>\n",
              "      <td>3</td>\n",
              "      <td>33.0</td>\n",
              "      <td>1</td>\n",
              "      <td>0.0</td>\n",
              "      <td>1283.0</td>\n",
              "      <td>371.0</td>\n",
              "      <td>...</td>\n",
              "      <td>False</td>\n",
              "      <td>False</td>\n",
              "      <td>False</td>\n",
              "      <td>False</td>\n",
              "      <td>False</td>\n",
              "      <td>False</td>\n",
              "      <td>False</td>\n",
              "      <td>False</td>\n",
              "      <td>False</td>\n",
              "      <td>False</td>\n",
              "    </tr>\n",
              "    <tr>\n",
              "      <th>4</th>\n",
              "      <td>5</td>\n",
              "      <td>1</td>\n",
              "      <td>1</td>\n",
              "      <td>2187</td>\n",
              "      <td>3</td>\n",
              "      <td>16.0</td>\n",
              "      <td>1</td>\n",
              "      <td>303.0</td>\n",
              "      <td>70.0</td>\n",
              "      <td>151.0</td>\n",
              "      <td>...</td>\n",
              "      <td>False</td>\n",
              "      <td>False</td>\n",
              "      <td>False</td>\n",
              "      <td>False</td>\n",
              "      <td>False</td>\n",
              "      <td>False</td>\n",
              "      <td>False</td>\n",
              "      <td>False</td>\n",
              "      <td>False</td>\n",
              "      <td>False</td>\n",
              "    </tr>\n",
              "  </tbody>\n",
              "</table>\n",
              "<p>5 rows × 26 columns</p>\n",
              "</div>\n",
              "      <button class=\"colab-df-convert\" onclick=\"convertToInteractive('df-47b58520-0683-4eb1-983e-99a7b3bb24a6')\"\n",
              "              title=\"Convert this dataframe to an interactive table.\"\n",
              "              style=\"display:none;\">\n",
              "        \n",
              "  <svg xmlns=\"http://www.w3.org/2000/svg\" height=\"24px\"viewBox=\"0 0 24 24\"\n",
              "       width=\"24px\">\n",
              "    <path d=\"M0 0h24v24H0V0z\" fill=\"none\"/>\n",
              "    <path d=\"M18.56 5.44l.94 2.06.94-2.06 2.06-.94-2.06-.94-.94-2.06-.94 2.06-2.06.94zm-11 1L8.5 8.5l.94-2.06 2.06-.94-2.06-.94L8.5 2.5l-.94 2.06-2.06.94zm10 10l.94 2.06.94-2.06 2.06-.94-2.06-.94-.94-2.06-.94 2.06-2.06.94z\"/><path d=\"M17.41 7.96l-1.37-1.37c-.4-.4-.92-.59-1.43-.59-.52 0-1.04.2-1.43.59L10.3 9.45l-7.72 7.72c-.78.78-.78 2.05 0 2.83L4 21.41c.39.39.9.59 1.41.59.51 0 1.02-.2 1.41-.59l7.78-7.78 2.81-2.81c.8-.78.8-2.07 0-2.86zM5.41 20L4 18.59l7.72-7.72 1.47 1.35L5.41 20z\"/>\n",
              "  </svg>\n",
              "      </button>\n",
              "      \n",
              "  <style>\n",
              "    .colab-df-container {\n",
              "      display:flex;\n",
              "      flex-wrap:wrap;\n",
              "      gap: 12px;\n",
              "    }\n",
              "\n",
              "    .colab-df-convert {\n",
              "      background-color: #E8F0FE;\n",
              "      border: none;\n",
              "      border-radius: 50%;\n",
              "      cursor: pointer;\n",
              "      display: none;\n",
              "      fill: #1967D2;\n",
              "      height: 32px;\n",
              "      padding: 0 0 0 0;\n",
              "      width: 32px;\n",
              "    }\n",
              "\n",
              "    .colab-df-convert:hover {\n",
              "      background-color: #E2EBFA;\n",
              "      box-shadow: 0px 1px 2px rgba(60, 64, 67, 0.3), 0px 1px 3px 1px rgba(60, 64, 67, 0.15);\n",
              "      fill: #174EA6;\n",
              "    }\n",
              "\n",
              "    [theme=dark] .colab-df-convert {\n",
              "      background-color: #3B4455;\n",
              "      fill: #D2E3FC;\n",
              "    }\n",
              "\n",
              "    [theme=dark] .colab-df-convert:hover {\n",
              "      background-color: #434B5C;\n",
              "      box-shadow: 0px 1px 3px 1px rgba(0, 0, 0, 0.15);\n",
              "      filter: drop-shadow(0px 1px 2px rgba(0, 0, 0, 0.3));\n",
              "      fill: #FFFFFF;\n",
              "    }\n",
              "  </style>\n",
              "\n",
              "      <script>\n",
              "        const buttonEl =\n",
              "          document.querySelector('#df-47b58520-0683-4eb1-983e-99a7b3bb24a6 button.colab-df-convert');\n",
              "        buttonEl.style.display =\n",
              "          google.colab.kernel.accessAllowed ? 'block' : 'none';\n",
              "\n",
              "        async function convertToInteractive(key) {\n",
              "          const element = document.querySelector('#df-47b58520-0683-4eb1-983e-99a7b3bb24a6');\n",
              "          const dataTable =\n",
              "            await google.colab.kernel.invokeFunction('convertToInteractive',\n",
              "                                                     [key], {});\n",
              "          if (!dataTable) return;\n",
              "\n",
              "          const docLinkHtml = 'Like what you see? Visit the ' +\n",
              "            '<a target=\"_blank\" href=https://colab.research.google.com/notebooks/data_table.ipynb>data table notebook</a>'\n",
              "            + ' to learn more about interactive tables.';\n",
              "          element.innerHTML = '';\n",
              "          dataTable['output_type'] = 'display_data';\n",
              "          await google.colab.output.renderOutput(dataTable, element);\n",
              "          const docLink = document.createElement('div');\n",
              "          docLink.innerHTML = docLinkHtml;\n",
              "          element.appendChild(docLink);\n",
              "        }\n",
              "      </script>\n",
              "    </div>\n",
              "  </div>\n",
              "  "
            ]
          },
          "metadata": {},
          "execution_count": 27
        }
      ],
      "source": [
        "X.head()"
      ]
    },
    {
      "cell_type": "code",
      "execution_count": 28,
      "metadata": {
        "colab": {
          "base_uri": "https://localhost:8080/"
        },
        "id": "qJTNtT_2GwVH",
        "outputId": "12b67cf3-5515-4f5b-e072-8711d8b25b9a"
      },
      "outputs": [
        {
          "output_type": "execute_result",
          "data": {
            "text/plain": [
              "array([False,  True, False, ...,  True, False,  True])"
            ]
          },
          "metadata": {},
          "execution_count": 28
        }
      ],
      "source": [
        "y"
      ]
    },
    {
      "cell_type": "code",
      "execution_count": 29,
      "metadata": {
        "id": "iOA_UzYsGxLa"
      },
      "outputs": [],
      "source": [
        "np.random.seed(42)\n",
        "\n",
        "X_train, X_test, y_train, y_test = train_test_split(X,y,test_size=0.2)"
      ]
    },
    {
      "cell_type": "code",
      "execution_count": 30,
      "metadata": {
        "id": "Vq-xqLzOuyAp"
      },
      "outputs": [],
      "source": [
        "scaler = StandardScaler()\n",
        "scaler.fit(X_train)\n",
        "X_train = scaler.transform(X_train)\n",
        "X_test = scaler.transform(X_test)"
      ]
    },
    {
      "cell_type": "code",
      "execution_count": 31,
      "metadata": {
        "id": "G72bR2B8HROt"
      },
      "outputs": [],
      "source": [
        "models = {'KNN': KNeighborsClassifier(),\n",
        "          'Logistic Regression': LogisticRegression(),\n",
        "          'Random Forest': RandomForestClassifier()}\n",
        "def fit_and_score(models, X_train,X_test, y_train, y_test):\n",
        "    np.random.seed(42)\n",
        "    model_scores = {}\n",
        "    for name, model in models.items():\n",
        "        model.fit(X_train, y_train)\n",
        "        model_scores[name] = model.score(X_test, y_test)\n",
        "    return model_scores"
      ]
    },
    {
      "cell_type": "code",
      "execution_count": 32,
      "metadata": {
        "colab": {
          "base_uri": "https://localhost:8080/"
        },
        "id": "Lovl5ClOIRbE",
        "outputId": "7c77867d-a42f-4441-f223-396a841ea5de"
      },
      "outputs": [
        {
          "output_type": "execute_result",
          "data": {
            "text/plain": [
              "{'KNN': 0.7487061529614721,\n",
              " 'Logistic Regression': 0.7625071880391029,\n",
              " 'Random Forest': 0.7855089131684876}"
            ]
          },
          "metadata": {},
          "execution_count": 32
        }
      ],
      "source": [
        "model_scores = fit_and_score(models=models,\n",
        "                             X_train=X_train,\n",
        "                             X_test=X_test,\n",
        "                             y_train=y_train,\n",
        "                             y_test=y_test)\n",
        "model_scores"
      ]
    },
    {
      "cell_type": "code",
      "execution_count": 33,
      "metadata": {
        "colab": {
          "base_uri": "https://localhost:8080/",
          "height": 351
        },
        "id": "L7BnrrwqIkGC",
        "outputId": "21636546-a290-452a-ab7b-44ac15e6260f"
      },
      "outputs": [
        {
          "output_type": "display_data",
          "data": {
            "text/plain": [
              "<Figure size 432x288 with 1 Axes>"
            ],
            "image/png": "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\n"
          },
          "metadata": {
            "needs_background": "light"
          }
        }
      ],
      "source": [
        "model_compare = pd.DataFrame(model_scores, index=['accuracy'])\n",
        "model_compare.T.plot.bar();"
      ]
    },
    {
      "cell_type": "markdown",
      "metadata": {
        "id": "0o5K3cZ7cD1R"
      },
      "source": [
        "### Hyperparameter tuning and cross-validation"
      ]
    },
    {
      "cell_type": "code",
      "execution_count": 34,
      "metadata": {
        "id": "woNroJJncUCR"
      },
      "outputs": [],
      "source": [
        "train_scores = []\n",
        "test_scores = []\n",
        "\n",
        "neighbors = range(1,21)\n",
        "knn = KNeighborsClassifier()\n",
        "\n",
        "for i in neighbors:\n",
        "    knn.set_params(n_neighbors = i)\n",
        "    knn.fit(X_train, y_train)\n",
        "    train_scores.append(knn.score(X_train, y_train))\n",
        "    test_scores.append(knn.score(X_test, y_test))"
      ]
    },
    {
      "cell_type": "code",
      "execution_count": 35,
      "metadata": {
        "colab": {
          "base_uri": "https://localhost:8080/"
        },
        "id": "UXj2rfpTc5Ce",
        "outputId": "60bd7d4a-b653-4ef7-fc36-3956c5488258"
      },
      "outputs": [
        {
          "output_type": "execute_result",
          "data": {
            "text/plain": [
              "[1.0,\n",
              " 0.8569168823698591,\n",
              " 0.8636755823986195,\n",
              " 0.8300258843830889,\n",
              " 0.8329019269485188,\n",
              " 0.8183779119930975,\n",
              " 0.8218291630716135,\n",
              " 0.8077365545010066,\n",
              " 0.808455565142364,\n",
              " 0.8002588438308887,\n",
              " 0.8041415012942191,\n",
              " 0.7940753523152143,\n",
              " 0.7956571757262008,\n",
              " 0.7878918607995399,\n",
              " 0.7923497267759563,\n",
              " 0.7847282139775669,\n",
              " 0.7874604544147253,\n",
              " 0.7857348288754673,\n",
              " 0.7861662352602818,\n",
              " 0.7822835777969513]"
            ]
          },
          "metadata": {},
          "execution_count": 35
        }
      ],
      "source": [
        "train_scores"
      ]
    },
    {
      "cell_type": "code",
      "execution_count": 36,
      "metadata": {
        "colab": {
          "base_uri": "https://localhost:8080/"
        },
        "id": "qKEv8aWBdEtE",
        "outputId": "7d681c52-3aef-4cce-d8f9-2510b4d858fe"
      },
      "outputs": [
        {
          "output_type": "execute_result",
          "data": {
            "text/plain": [
              "76.13571017826337"
            ]
          },
          "metadata": {},
          "execution_count": 36
        }
      ],
      "source": [
        "max(test_scores)*100"
      ]
    },
    {
      "cell_type": "markdown",
      "metadata": {
        "id": "UDIxfAMSdbWo"
      },
      "source": [
        "### Tunning models with RandomizedSearchCV"
      ]
    },
    {
      "cell_type": "code",
      "execution_count": 37,
      "metadata": {
        "id": "g4XnMLJleEpe"
      },
      "outputs": [],
      "source": [
        "# Different LogisticRegression hyperparameters\n",
        "log_reg_grid = {'C': np.logspace(-4,4,20),\n",
        "                'solver': ['liblinear']}\n",
        "# Different RandomForestClassifier hyperparameters\n",
        "rf_grid = {'n_estimators': np.arange(10, 1000, 50),\n",
        "           'max_depth': [None, 3, 5, 10],\n",
        "           'min_samples_split': np.arange(2, 20,2),\n",
        "           'min_samples_leaf': np.arange(1, 20, 2)}"
      ]
    },
    {
      "cell_type": "code",
      "execution_count": 38,
      "metadata": {
        "colab": {
          "base_uri": "https://localhost:8080/"
        },
        "id": "QO_YgZ4MexG4",
        "outputId": "eb2bd291-88a8-4993-c25d-c82de7668e75"
      },
      "outputs": [
        {
          "output_type": "stream",
          "name": "stdout",
          "text": [
            "Fitting 5 folds for each of 20 candidates, totalling 100 fits\n"
          ]
        }
      ],
      "source": [
        "np.random.seed(42)\n",
        "# Setup random hyperparameter search for LogisticRegression\n",
        "rs_log_reg = RandomizedSearchCV(LogisticRegression(),\n",
        "                                param_distributions=log_reg_grid,\n",
        "                                cv=5,\n",
        "                                n_iter=20,\n",
        "                                verbose=True)\n",
        "# Fit random hyperparameter search model\n",
        "rs_log_reg.fit(X_train, y_train);"
      ]
    },
    {
      "cell_type": "code",
      "execution_count": 39,
      "metadata": {
        "colab": {
          "base_uri": "https://localhost:8080/"
        },
        "id": "G-8KPmMGfzOq",
        "outputId": "afd8c689-7388-4338-b920-83cde6571758"
      },
      "outputs": [
        {
          "output_type": "execute_result",
          "data": {
            "text/plain": [
              "{'solver': 'liblinear', 'C': 1.623776739188721}"
            ]
          },
          "metadata": {},
          "execution_count": 39
        }
      ],
      "source": [
        "rs_log_reg.best_params_"
      ]
    },
    {
      "cell_type": "code",
      "execution_count": 40,
      "metadata": {
        "colab": {
          "base_uri": "https://localhost:8080/"
        },
        "id": "ajsNU6WtgAVu",
        "outputId": "1beb6d8f-a612-4acf-fc04-032ecfb1b69d"
      },
      "outputs": [
        {
          "output_type": "execute_result",
          "data": {
            "text/plain": [
              "0.7625071880391029"
            ]
          },
          "metadata": {},
          "execution_count": 40
        }
      ],
      "source": [
        "rs_log_reg.score(X_test, y_test)"
      ]
    },
    {
      "cell_type": "code",
      "execution_count": 41,
      "metadata": {
        "colab": {
          "base_uri": "https://localhost:8080/"
        },
        "id": "jsUq0vNogF9D",
        "outputId": "8d1e6a02-c642-4a92-dcc6-93824daf8e79"
      },
      "outputs": [
        {
          "output_type": "stream",
          "name": "stdout",
          "text": [
            "Fitting 5 folds for each of 20 candidates, totalling 100 fits\n"
          ]
        }
      ],
      "source": [
        "np.random.seed(42)\n",
        "# Setup random hyperparameter search for RandomForestClassifier\n",
        "rs_rf = RandomizedSearchCV(RandomForestClassifier(),\n",
        "                                param_distributions=rf_grid,\n",
        "                                cv=5,\n",
        "                                n_iter=20,\n",
        "                                verbose=True)\n",
        "# Fit random hyperparameter search model\n",
        "rs_rf.fit(X_train, y_train);"
      ]
    },
    {
      "cell_type": "code",
      "execution_count": 42,
      "metadata": {
        "colab": {
          "base_uri": "https://localhost:8080/"
        },
        "id": "doUURSYtghXR",
        "outputId": "f4d80925-099c-433d-d4d9-daac47e585f6"
      },
      "outputs": [
        {
          "output_type": "execute_result",
          "data": {
            "text/plain": [
              "{'n_estimators': 460,\n",
              " 'min_samples_split': 6,\n",
              " 'min_samples_leaf': 9,\n",
              " 'max_depth': None}"
            ]
          },
          "metadata": {},
          "execution_count": 42
        }
      ],
      "source": [
        "rs_rf.best_params_"
      ]
    },
    {
      "cell_type": "code",
      "execution_count": 43,
      "metadata": {
        "colab": {
          "base_uri": "https://localhost:8080/"
        },
        "id": "u6MOC899gk52",
        "outputId": "51d1612c-4786-4c8b-a000-cb8756ad5b65"
      },
      "outputs": [
        {
          "output_type": "execute_result",
          "data": {
            "text/plain": [
              "0.7878090856814262"
            ]
          },
          "metadata": {},
          "execution_count": 43
        }
      ],
      "source": [
        "rs_rf.score(X_test, y_test)"
      ]
    },
    {
      "cell_type": "code",
      "execution_count": 44,
      "metadata": {
        "colab": {
          "base_uri": "https://localhost:8080/"
        },
        "id": "4kjHqCyk0mXJ",
        "outputId": "b3f3ccb4-0a5d-46eb-e14d-f92d55a0cb62"
      },
      "outputs": [
        {
          "output_type": "stream",
          "name": "stdout",
          "text": [
            "Fitting 5 folds for each of 20 candidates, totalling 100 fits\n",
            "Fitting 5 folds for each of 20 candidates, totalling 100 fits\n",
            "Fitting 5 folds for each of 20 candidates, totalling 100 fits\n"
          ]
        },
        {
          "output_type": "execute_result",
          "data": {
            "text/plain": [
              "array([0.79594478, 0.79551337, 0.80629853])"
            ]
          },
          "metadata": {},
          "execution_count": 44
        }
      ],
      "source": [
        "cross_val_score(rs_rf,X_train,y_train,cv=3,scoring='accuracy')"
      ]
    },
    {
      "cell_type": "code",
      "execution_count": 45,
      "metadata": {
        "id": "FHW4DlYC1H0l"
      },
      "outputs": [],
      "source": [
        "y_preds = rs_rf.predict(X_test)"
      ]
    },
    {
      "cell_type": "markdown",
      "metadata": {
        "id": "nwH3w-nk18eS"
      },
      "source": [
        "### ROC Curve and AUC Scores"
      ]
    },
    {
      "cell_type": "code",
      "execution_count": 46,
      "metadata": {
        "colab": {
          "base_uri": "https://localhost:8080/",
          "height": 334
        },
        "id": "vut8TIwr2V4S",
        "outputId": "1382c7d5-3029-40a4-ab85-bd8aef134987"
      },
      "outputs": [
        {
          "output_type": "stream",
          "name": "stderr",
          "text": [
            "/usr/local/lib/python3.7/dist-packages/sklearn/utils/deprecation.py:87: FutureWarning: Function plot_roc_curve is deprecated; Function :func:`plot_roc_curve` is deprecated in 1.0 and will be removed in 1.2. Use one of the class methods: :meth:`sklearn.metric.RocCurveDisplay.from_predictions` or :meth:`sklearn.metric.RocCurveDisplay.from_estimator`.\n",
            "  warnings.warn(msg, category=FutureWarning)\n"
          ]
        },
        {
          "output_type": "display_data",
          "data": {
            "text/plain": [
              "<Figure size 432x288 with 1 Axes>"
            ],
            "image/png": "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\n"
          },
          "metadata": {
            "needs_background": "light"
          }
        }
      ],
      "source": [
        "from sklearn.metrics import plot_roc_curve\n",
        "plot_roc_curve(rs_rf,X_test,y_test);"
      ]
    },
    {
      "cell_type": "code",
      "execution_count": 47,
      "metadata": {
        "id": "5kRv6MRQ3feT",
        "colab": {
          "base_uri": "https://localhost:8080/"
        },
        "outputId": "958cb838-de92-46a3-d9d6-45483d676d28"
      },
      "outputs": [
        {
          "output_type": "stream",
          "name": "stdout",
          "text": [
            "[[647 214]\n",
            " [155 723]]\n"
          ]
        }
      ],
      "source": [
        "print(confusion_matrix(y_test, y_preds))"
      ]
    },
    {
      "cell_type": "markdown",
      "source": [
        "### Classification report"
      ],
      "metadata": {
        "id": "kvQIaMU_5Vnj"
      }
    },
    {
      "cell_type": "code",
      "source": [
        "print(classification_report(y_test, y_preds))"
      ],
      "metadata": {
        "colab": {
          "base_uri": "https://localhost:8080/"
        },
        "id": "oBPq3Jty51Sg",
        "outputId": "22703c26-74e5-4f25-e3a1-e96184a81abc"
      },
      "execution_count": 48,
      "outputs": [
        {
          "output_type": "stream",
          "name": "stdout",
          "text": [
            "              precision    recall  f1-score   support\n",
            "\n",
            "       False       0.81      0.75      0.78       861\n",
            "        True       0.77      0.82      0.80       878\n",
            "\n",
            "    accuracy                           0.79      1739\n",
            "   macro avg       0.79      0.79      0.79      1739\n",
            "weighted avg       0.79      0.79      0.79      1739\n",
            "\n"
          ]
        }
      ]
    },
    {
      "cell_type": "code",
      "source": [
        "rs_rf.best_params_"
      ],
      "metadata": {
        "colab": {
          "base_uri": "https://localhost:8080/"
        },
        "id": "NYTE7QGE560t",
        "outputId": "87407da6-7a89-45cd-95fd-5a7f7ffcfe1a"
      },
      "execution_count": 49,
      "outputs": [
        {
          "output_type": "execute_result",
          "data": {
            "text/plain": [
              "{'n_estimators': 460,\n",
              " 'min_samples_split': 6,\n",
              " 'min_samples_leaf': 9,\n",
              " 'max_depth': None}"
            ]
          },
          "metadata": {},
          "execution_count": 49
        }
      ]
    },
    {
      "cell_type": "code",
      "source": [
        "from sklearn.model_selection import cross_val_score\n",
        "clf = RandomForestClassifier(n_estimators=460,\n",
        "                             min_samples_split=6,\n",
        "                             min_samples_leaf=9,\n",
        "                             max_depth=None)"
      ],
      "metadata": {
        "id": "KQKkahEF6KOp"
      },
      "execution_count": 50,
      "outputs": []
    },
    {
      "cell_type": "code",
      "source": [
        "cv_acc = cross_val_score(clf,\n",
        "                         X,\n",
        "                         y,\n",
        "                         cv=5,\n",
        "                         scoring='accuracy')\n",
        "cv_acc"
      ],
      "metadata": {
        "colab": {
          "base_uri": "https://localhost:8080/"
        },
        "id": "WwYSl-rM6iD1",
        "outputId": "7712528f-8b3d-41b2-819f-d2657204f75d"
      },
      "execution_count": 51,
      "outputs": [
        {
          "output_type": "execute_result",
          "data": {
            "text/plain": [
              "array([0.72512938, 0.7533065 , 0.79010926, 0.82220944, 0.78481013])"
            ]
          },
          "metadata": {},
          "execution_count": 51
        }
      ]
    },
    {
      "cell_type": "code",
      "source": [
        "cv_acc = np.mean(cv_acc)\n",
        "cv_acc"
      ],
      "metadata": {
        "colab": {
          "base_uri": "https://localhost:8080/"
        },
        "id": "ZqvTm8b06xTN",
        "outputId": "d0b18111-1ee2-4515-cd75-82e38b6bd1dc"
      },
      "execution_count": 52,
      "outputs": [
        {
          "output_type": "execute_result",
          "data": {
            "text/plain": [
              "0.7751129407202664"
            ]
          },
          "metadata": {},
          "execution_count": 52
        }
      ]
    },
    {
      "cell_type": "code",
      "source": [
        "cv_precision = np.mean(cross_val_score(clf,\n",
        "                                      X,\n",
        "                                      y,\n",
        "                                      cv=5,\n",
        "                                      scoring='precision'))\n",
        "cv_precision"
      ],
      "metadata": {
        "colab": {
          "base_uri": "https://localhost:8080/"
        },
        "id": "hVf80SMo62f9",
        "outputId": "233902b8-44e3-47b5-a688-af1ab62d4951"
      },
      "execution_count": 53,
      "outputs": [
        {
          "output_type": "execute_result",
          "data": {
            "text/plain": [
              "0.8364300633721449"
            ]
          },
          "metadata": {},
          "execution_count": 53
        }
      ]
    },
    {
      "cell_type": "code",
      "source": [
        "cv_recall = np.mean(cross_val_score(clf,\n",
        "                                    X,\n",
        "                                    y,\n",
        "                                    cv=5,\n",
        "                                    scoring='recall'))\n",
        "cv_recall"
      ],
      "metadata": {
        "colab": {
          "base_uri": "https://localhost:8080/"
        },
        "id": "uVzzcM-H7ceV",
        "outputId": "0f040618-da04-41b2-be1b-ad32b3766d48"
      },
      "execution_count": 54,
      "outputs": [
        {
          "output_type": "execute_result",
          "data": {
            "text/plain": [
              "0.7062927592954991"
            ]
          },
          "metadata": {},
          "execution_count": 54
        }
      ]
    },
    {
      "cell_type": "code",
      "source": [
        "cv_f1 = np.mean(cross_val_score(clf,\n",
        "                                    X,\n",
        "                                    y,\n",
        "                                    cv=5,\n",
        "                                    scoring='f1'))\n",
        "cv_recall"
      ],
      "metadata": {
        "colab": {
          "base_uri": "https://localhost:8080/"
        },
        "id": "Blb7avdj7wb2",
        "outputId": "ed2569db-fb34-49c2-d94c-9bd9f3d4c709"
      },
      "execution_count": 55,
      "outputs": [
        {
          "output_type": "execute_result",
          "data": {
            "text/plain": [
              "0.7062927592954991"
            ]
          },
          "metadata": {},
          "execution_count": 55
        }
      ]
    },
    {
      "cell_type": "code",
      "source": [
        "# Visualizing cross-validated metrics\n",
        "cv_metrics = pd.DataFrame({'Accuracy': cv_acc,\n",
        "                           'Precision': cv_precision,\n",
        "                           'Recall': cv_recall,\n",
        "                           'F1': cv_f1},\n",
        "                          index=[0])\n",
        "cv_metrics.T.plot.bar(title='Cross-Validated Metrics', legend=False);"
      ],
      "metadata": {
        "colab": {
          "base_uri": "https://localhost:8080/",
          "height": 317
        },
        "id": "NO2xLOUI758i",
        "outputId": "644c161a-a26e-4e01-de50-3aae22651e34"
      },
      "execution_count": 56,
      "outputs": [
        {
          "output_type": "display_data",
          "data": {
            "text/plain": [
              "<Figure size 432x288 with 1 Axes>"
            ],
            "image/png": "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\n"
          },
          "metadata": {
            "needs_background": "light"
          }
        }
      ]
    },
    {
      "cell_type": "markdown",
      "source": [
        "## Prediction and Submission"
      ],
      "metadata": {
        "id": "cAoHH7ME8qAD"
      }
    },
    {
      "cell_type": "code",
      "source": [
        "preds = rs_rf.predict(test)"
      ],
      "metadata": {
        "colab": {
          "base_uri": "https://localhost:8080/"
        },
        "id": "kHb4SX3R9nR4",
        "outputId": "92e45d64-8227-46da-d292-43f1c69e84d9"
      },
      "execution_count": 57,
      "outputs": [
        {
          "output_type": "stream",
          "name": "stderr",
          "text": [
            "/usr/local/lib/python3.7/dist-packages/sklearn/base.py:444: UserWarning: X has feature names, but RandomForestClassifier was fitted without feature names\n",
            "  f\"X has feature names, but {self.__class__.__name__} was fitted without\"\n"
          ]
        }
      ]
    },
    {
      "cell_type": "code",
      "source": [
        "df = pd.DataFrame()\n",
        "df['PassengerId'] = test_tmp['PassengerId']\n",
        "df['Transported'] = preds\n",
        "df"
      ],
      "metadata": {
        "colab": {
          "base_uri": "https://localhost:8080/",
          "height": 424
        },
        "id": "PyPCWnjaCiLS",
        "outputId": "de7a664b-b97f-4129-e7ef-b85acc6c8a7d"
      },
      "execution_count": 58,
      "outputs": [
        {
          "output_type": "execute_result",
          "data": {
            "text/plain": [
              "     PassengerId  Transported\n",
              "0        0013_01         True\n",
              "1        0018_01        False\n",
              "2        0019_01        False\n",
              "3        0021_01        False\n",
              "4        0023_01        False\n",
              "...          ...          ...\n",
              "4272     9266_02         True\n",
              "4273     9269_01        False\n",
              "4274     9271_01        False\n",
              "4275     9273_01        False\n",
              "4276     9277_01         True\n",
              "\n",
              "[4277 rows x 2 columns]"
            ],
            "text/html": [
              "\n",
              "  <div id=\"df-9d17d247-d174-4fe9-8a51-e0bd12f6ada6\">\n",
              "    <div class=\"colab-df-container\">\n",
              "      <div>\n",
              "<style scoped>\n",
              "    .dataframe tbody tr th:only-of-type {\n",
              "        vertical-align: middle;\n",
              "    }\n",
              "\n",
              "    .dataframe tbody tr th {\n",
              "        vertical-align: top;\n",
              "    }\n",
              "\n",
              "    .dataframe thead th {\n",
              "        text-align: right;\n",
              "    }\n",
              "</style>\n",
              "<table border=\"1\" class=\"dataframe\">\n",
              "  <thead>\n",
              "    <tr style=\"text-align: right;\">\n",
              "      <th></th>\n",
              "      <th>PassengerId</th>\n",
              "      <th>Transported</th>\n",
              "    </tr>\n",
              "  </thead>\n",
              "  <tbody>\n",
              "    <tr>\n",
              "      <th>0</th>\n",
              "      <td>0013_01</td>\n",
              "      <td>True</td>\n",
              "    </tr>\n",
              "    <tr>\n",
              "      <th>1</th>\n",
              "      <td>0018_01</td>\n",
              "      <td>False</td>\n",
              "    </tr>\n",
              "    <tr>\n",
              "      <th>2</th>\n",
              "      <td>0019_01</td>\n",
              "      <td>False</td>\n",
              "    </tr>\n",
              "    <tr>\n",
              "      <th>3</th>\n",
              "      <td>0021_01</td>\n",
              "      <td>False</td>\n",
              "    </tr>\n",
              "    <tr>\n",
              "      <th>4</th>\n",
              "      <td>0023_01</td>\n",
              "      <td>False</td>\n",
              "    </tr>\n",
              "    <tr>\n",
              "      <th>...</th>\n",
              "      <td>...</td>\n",
              "      <td>...</td>\n",
              "    </tr>\n",
              "    <tr>\n",
              "      <th>4272</th>\n",
              "      <td>9266_02</td>\n",
              "      <td>True</td>\n",
              "    </tr>\n",
              "    <tr>\n",
              "      <th>4273</th>\n",
              "      <td>9269_01</td>\n",
              "      <td>False</td>\n",
              "    </tr>\n",
              "    <tr>\n",
              "      <th>4274</th>\n",
              "      <td>9271_01</td>\n",
              "      <td>False</td>\n",
              "    </tr>\n",
              "    <tr>\n",
              "      <th>4275</th>\n",
              "      <td>9273_01</td>\n",
              "      <td>False</td>\n",
              "    </tr>\n",
              "    <tr>\n",
              "      <th>4276</th>\n",
              "      <td>9277_01</td>\n",
              "      <td>True</td>\n",
              "    </tr>\n",
              "  </tbody>\n",
              "</table>\n",
              "<p>4277 rows × 2 columns</p>\n",
              "</div>\n",
              "      <button class=\"colab-df-convert\" onclick=\"convertToInteractive('df-9d17d247-d174-4fe9-8a51-e0bd12f6ada6')\"\n",
              "              title=\"Convert this dataframe to an interactive table.\"\n",
              "              style=\"display:none;\">\n",
              "        \n",
              "  <svg xmlns=\"http://www.w3.org/2000/svg\" height=\"24px\"viewBox=\"0 0 24 24\"\n",
              "       width=\"24px\">\n",
              "    <path d=\"M0 0h24v24H0V0z\" fill=\"none\"/>\n",
              "    <path d=\"M18.56 5.44l.94 2.06.94-2.06 2.06-.94-2.06-.94-.94-2.06-.94 2.06-2.06.94zm-11 1L8.5 8.5l.94-2.06 2.06-.94-2.06-.94L8.5 2.5l-.94 2.06-2.06.94zm10 10l.94 2.06.94-2.06 2.06-.94-2.06-.94-.94-2.06-.94 2.06-2.06.94z\"/><path d=\"M17.41 7.96l-1.37-1.37c-.4-.4-.92-.59-1.43-.59-.52 0-1.04.2-1.43.59L10.3 9.45l-7.72 7.72c-.78.78-.78 2.05 0 2.83L4 21.41c.39.39.9.59 1.41.59.51 0 1.02-.2 1.41-.59l7.78-7.78 2.81-2.81c.8-.78.8-2.07 0-2.86zM5.41 20L4 18.59l7.72-7.72 1.47 1.35L5.41 20z\"/>\n",
              "  </svg>\n",
              "      </button>\n",
              "      \n",
              "  <style>\n",
              "    .colab-df-container {\n",
              "      display:flex;\n",
              "      flex-wrap:wrap;\n",
              "      gap: 12px;\n",
              "    }\n",
              "\n",
              "    .colab-df-convert {\n",
              "      background-color: #E8F0FE;\n",
              "      border: none;\n",
              "      border-radius: 50%;\n",
              "      cursor: pointer;\n",
              "      display: none;\n",
              "      fill: #1967D2;\n",
              "      height: 32px;\n",
              "      padding: 0 0 0 0;\n",
              "      width: 32px;\n",
              "    }\n",
              "\n",
              "    .colab-df-convert:hover {\n",
              "      background-color: #E2EBFA;\n",
              "      box-shadow: 0px 1px 2px rgba(60, 64, 67, 0.3), 0px 1px 3px 1px rgba(60, 64, 67, 0.15);\n",
              "      fill: #174EA6;\n",
              "    }\n",
              "\n",
              "    [theme=dark] .colab-df-convert {\n",
              "      background-color: #3B4455;\n",
              "      fill: #D2E3FC;\n",
              "    }\n",
              "\n",
              "    [theme=dark] .colab-df-convert:hover {\n",
              "      background-color: #434B5C;\n",
              "      box-shadow: 0px 1px 3px 1px rgba(0, 0, 0, 0.15);\n",
              "      filter: drop-shadow(0px 1px 2px rgba(0, 0, 0, 0.3));\n",
              "      fill: #FFFFFF;\n",
              "    }\n",
              "  </style>\n",
              "\n",
              "      <script>\n",
              "        const buttonEl =\n",
              "          document.querySelector('#df-9d17d247-d174-4fe9-8a51-e0bd12f6ada6 button.colab-df-convert');\n",
              "        buttonEl.style.display =\n",
              "          google.colab.kernel.accessAllowed ? 'block' : 'none';\n",
              "\n",
              "        async function convertToInteractive(key) {\n",
              "          const element = document.querySelector('#df-9d17d247-d174-4fe9-8a51-e0bd12f6ada6');\n",
              "          const dataTable =\n",
              "            await google.colab.kernel.invokeFunction('convertToInteractive',\n",
              "                                                     [key], {});\n",
              "          if (!dataTable) return;\n",
              "\n",
              "          const docLinkHtml = 'Like what you see? Visit the ' +\n",
              "            '<a target=\"_blank\" href=https://colab.research.google.com/notebooks/data_table.ipynb>data table notebook</a>'\n",
              "            + ' to learn more about interactive tables.';\n",
              "          element.innerHTML = '';\n",
              "          dataTable['output_type'] = 'display_data';\n",
              "          await google.colab.output.renderOutput(dataTable, element);\n",
              "          const docLink = document.createElement('div');\n",
              "          docLink.innerHTML = docLinkHtml;\n",
              "          element.appendChild(docLink);\n",
              "        }\n",
              "      </script>\n",
              "    </div>\n",
              "  </div>\n",
              "  "
            ]
          },
          "metadata": {},
          "execution_count": 58
        }
      ]
    },
    {
      "cell_type": "code",
      "source": [
        "df.to_csv('/content/drive/MyDrive/Project/submission')"
      ],
      "metadata": {
        "id": "Wueg6zhF_d2a"
      },
      "execution_count": 59,
      "outputs": []
    },
    {
      "cell_type": "markdown",
      "source": [
        "### Feature importance"
      ],
      "metadata": {
        "id": "T52K1jjXI4EU"
      }
    },
    {
      "cell_type": "code",
      "source": [
        "clf.fit(X_train,y_train)"
      ],
      "metadata": {
        "colab": {
          "base_uri": "https://localhost:8080/"
        },
        "id": "BGOxsJ_4MhRb",
        "outputId": "a725f9a3-d4e9-4198-c464-666025e8e775"
      },
      "execution_count": 60,
      "outputs": [
        {
          "output_type": "execute_result",
          "data": {
            "text/plain": [
              "RandomForestClassifier(min_samples_leaf=9, min_samples_split=6,\n",
              "                       n_estimators=460)"
            ]
          },
          "metadata": {},
          "execution_count": 60
        }
      ]
    },
    {
      "cell_type": "code",
      "source": [
        "clf.feature_importances_"
      ],
      "metadata": {
        "colab": {
          "base_uri": "https://localhost:8080/"
        },
        "id": "BTS4z9HtJElQ",
        "outputId": "c4154d05-27c3-4ad5-a42d-23ce6cee4f86"
      },
      "execution_count": 61,
      "outputs": [
        {
          "output_type": "execute_result",
          "data": {
            "text/plain": [
              "array([3.94282909e-02, 5.00609874e-02, 1.73749696e-01, 8.53080933e-02,\n",
              "       1.27255691e-02, 4.22076849e-02, 8.58047067e-04, 1.33463331e-01,\n",
              "       9.75989514e-02, 7.59305165e-02, 1.34268120e-01, 1.17629255e-01,\n",
              "       3.02287361e-02, 0.00000000e+00, 7.34573177e-04, 2.09434545e-03,\n",
              "       7.17543398e-04, 1.53133605e-04, 1.85417128e-04, 3.77361442e-04,\n",
              "       4.77866712e-04, 2.73356594e-04, 4.58858180e-04, 3.99658023e-04,\n",
              "       3.83539412e-04, 2.87068021e-04])"
            ]
          },
          "metadata": {},
          "execution_count": 61
        }
      ]
    },
    {
      "cell_type": "code",
      "source": [
        "import seaborn as sns\n",
        "def plot_features(columns, importances, n=20):\n",
        "    df = (pd.DataFrame({'features':columns,\n",
        "                        'feature_importance':importances})\n",
        "          .sort_values('feature_importance', ascending=False)\n",
        "          .reset_index(drop=True))\n",
        "    sns.barplot(x='feature_importance',\n",
        "                y='features',\n",
        "                data=df[:n],\n",
        "                orient='h')"
      ],
      "metadata": {
        "id": "EWcFIvFlPoWy"
      },
      "execution_count": 62,
      "outputs": []
    },
    {
      "cell_type": "code",
      "source": [
        "X_train = pd.DataFrame(X_train, columns = X.columns)"
      ],
      "metadata": {
        "id": "iUMzCdztkuMA"
      },
      "execution_count": 67,
      "outputs": []
    },
    {
      "cell_type": "code",
      "source": [
        "plot_features(X_train.columns, clf.feature_importances_)"
      ],
      "metadata": {
        "colab": {
          "base_uri": "https://localhost:8080/",
          "height": 280
        },
        "id": "HbcZTGwxSOGN",
        "outputId": "3c13a0e1-1a72-4994-87c3-ccd02b41f711"
      },
      "execution_count": 66,
      "outputs": [
        {
          "output_type": "display_data",
          "data": {
            "text/plain": [
              "<Figure size 432x288 with 1 Axes>"
            ],
            "image/png": "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\n"
          },
          "metadata": {
            "needs_background": "light"
          }
        }
      ]
    }
  ],
  "metadata": {
    "colab": {
      "collapsed_sections": [],
      "provenance": [],
      "toc_visible": true,
      "mount_file_id": "1lQmbc-8ezOEobnTGh6KHoYLUCMmVlwKj",
      "authorship_tag": "ABX9TyNxDPFAeCHeDFk+DEgQcZPJ",
      "include_colab_link": true
    },
    "kernelspec": {
      "display_name": "Python 3",
      "name": "python3"
    },
    "language_info": {
      "name": "python"
    }
  },
  "nbformat": 4,
  "nbformat_minor": 0
}
