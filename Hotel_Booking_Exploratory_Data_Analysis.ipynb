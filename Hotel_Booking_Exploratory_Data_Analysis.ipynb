{
  "nbformat": 4,
  "nbformat_minor": 0,
  "metadata": {
    "colab": {
      "provenance": [],
      "mount_file_id": "185Va9yBhgOdtltGB_h4iXuUE9OMekISu",
      "authorship_tag": "ABX9TyN1WaXxay1uvGmQfAyMua32",
      "include_colab_link": true
    },
    "kernelspec": {
      "name": "python3",
      "display_name": "Python 3"
    },
    "language_info": {
      "name": "python"
    }
  },
  "cells": [
    {
      "cell_type": "markdown",
      "metadata": {
        "id": "view-in-github",
        "colab_type": "text"
      },
      "source": [
        "<a href=\"https://colab.research.google.com/github/jaamike/Project1/blob/main/Hotel_Booking_Exploratory_Data_Analysis.ipynb\" target=\"_parent\"><img src=\"https://colab.research.google.com/assets/colab-badge.svg\" alt=\"Open In Colab\"/></a>"
      ]
    },
    {
      "cell_type": "markdown",
      "source": [
        "We will use the Hotel Booking Demand dataset from the Kaggle. The data file 02_hotel_booking.csv has been attached to this assignment. This data set contains booking information for a city hotel and a resort hotel and includes information such as when the booking was made, lead time, length of stay, the number of adults, children, and/or babies, and the number of available parking spaces, among other things. Descriptions for every column in the data set has made available with this assignment as well."
      ],
      "metadata": {
        "id": "k_3vLxXRlHRD"
      }
    },
    {
      "cell_type": "markdown",
      "source": [
        "##Import Required Packages"
      ],
      "metadata": {
        "id": "y0whHcr2lOrB"
      }
    },
    {
      "cell_type": "code",
      "execution_count": 1,
      "metadata": {
        "id": "MH6MddsGTycz"
      },
      "outputs": [],
      "source": [
        "import numpy as np\n",
        "import pandas as pd\n",
        "import matplotlib.pyplot as plt\n",
        "import seaborn as sns\n",
        "import warnings\n",
        "warnings.filterwarnings('ignore')\n",
        "%matplotlib inline"
      ]
    },
    {
      "cell_type": "markdown",
      "source": [
        "## Data cleansing"
      ],
      "metadata": {
        "id": "QeM8_edYlVK5"
      }
    },
    {
      "cell_type": "code",
      "source": [
        "booking = pd.read_csv('/content/drive/MyDrive/Assign2/02_hotel_bookings - 02_hotel_bookings.csv')"
      ],
      "metadata": {
        "id": "moOr7EJmVK_b"
      },
      "execution_count": 2,
      "outputs": []
    },
    {
      "cell_type": "markdown",
      "source": [
        "####Summary Information About Data Set"
      ],
      "metadata": {
        "id": "TRLk5cD6aMkE"
      }
    },
    {
      "cell_type": "code",
      "source": [
        "booking.info()"
      ],
      "metadata": {
        "colab": {
          "base_uri": "https://localhost:8080/"
        },
        "id": "QyKiqh8XVPJh",
        "outputId": "ab35fe98-4455-4d97-a2ed-2ee8c1d1c124"
      },
      "execution_count": 3,
      "outputs": [
        {
          "output_type": "stream",
          "name": "stdout",
          "text": [
            "<class 'pandas.core.frame.DataFrame'>\n",
            "RangeIndex: 119390 entries, 0 to 119389\n",
            "Data columns (total 32 columns):\n",
            " #   Column                          Non-Null Count   Dtype  \n",
            "---  ------                          --------------   -----  \n",
            " 0   hotel                           119390 non-null  object \n",
            " 1   is_canceled                     119390 non-null  int64  \n",
            " 2   lead_time                       119390 non-null  int64  \n",
            " 3   arrival_date_year               119390 non-null  int64  \n",
            " 4   arrival_date_month              119390 non-null  object \n",
            " 5   arrival_date_week_number        119390 non-null  int64  \n",
            " 6   arrival_date_day_of_month       119390 non-null  int64  \n",
            " 7   stays_in_weekend_nights         119390 non-null  int64  \n",
            " 8   stays_in_week_nights            119390 non-null  int64  \n",
            " 9   adults                          119390 non-null  int64  \n",
            " 10  children                        119386 non-null  float64\n",
            " 11  babies                          119390 non-null  int64  \n",
            " 12  meal                            119390 non-null  object \n",
            " 13  country                         118902 non-null  object \n",
            " 14  market_segment                  119390 non-null  object \n",
            " 15  distribution_channel            119390 non-null  object \n",
            " 16  is_repeated_guest               119390 non-null  int64  \n",
            " 17  previous_cancellations          119390 non-null  int64  \n",
            " 18  previous_bookings_not_canceled  119390 non-null  int64  \n",
            " 19  reserved_room_type              119390 non-null  object \n",
            " 20  assigned_room_type              119390 non-null  object \n",
            " 21  booking_changes                 119390 non-null  int64  \n",
            " 22  deposit_type                    119390 non-null  object \n",
            " 23  agent                           103050 non-null  float64\n",
            " 24  company                         6797 non-null    float64\n",
            " 25  days_in_waiting_list            119390 non-null  int64  \n",
            " 26  customer_type                   119390 non-null  object \n",
            " 27  adr                             119390 non-null  float64\n",
            " 28  required_car_parking_spaces     119390 non-null  int64  \n",
            " 29  total_of_special_requests       119390 non-null  int64  \n",
            " 30  reservation_status              119390 non-null  object \n",
            " 31  reservation_status_date         119390 non-null  object \n",
            "dtypes: float64(4), int64(16), object(12)\n",
            "memory usage: 29.1+ MB\n"
          ]
        }
      ]
    },
    {
      "cell_type": "code",
      "source": [
        "booking.describe()"
      ],
      "metadata": {
        "colab": {
          "base_uri": "https://localhost:8080/",
          "height": 364
        },
        "id": "S4hWx8jPVukQ",
        "outputId": "51b71d03-3aa3-466a-e741-4393794fb052"
      },
      "execution_count": 4,
      "outputs": [
        {
          "output_type": "execute_result",
          "data": {
            "text/plain": [
              "         is_canceled      lead_time  arrival_date_year  \\\n",
              "count  119390.000000  119390.000000      119390.000000   \n",
              "mean        0.370416     104.011416        2016.156554   \n",
              "std         0.482918     106.863097           0.707476   \n",
              "min         0.000000       0.000000        2015.000000   \n",
              "25%         0.000000      18.000000        2016.000000   \n",
              "50%         0.000000      69.000000        2016.000000   \n",
              "75%         1.000000     160.000000        2017.000000   \n",
              "max         1.000000     737.000000        2017.000000   \n",
              "\n",
              "       arrival_date_week_number  arrival_date_day_of_month  \\\n",
              "count             119390.000000              119390.000000   \n",
              "mean                  27.165173                  15.798241   \n",
              "std                   13.605138                   8.780829   \n",
              "min                    1.000000                   1.000000   \n",
              "25%                   16.000000                   8.000000   \n",
              "50%                   28.000000                  16.000000   \n",
              "75%                   38.000000                  23.000000   \n",
              "max                   53.000000                  31.000000   \n",
              "\n",
              "       stays_in_weekend_nights  stays_in_week_nights         adults  \\\n",
              "count            119390.000000         119390.000000  119390.000000   \n",
              "mean                  0.927599              2.500302       1.856403   \n",
              "std                   0.998613              1.908286       0.579261   \n",
              "min                   0.000000              0.000000       0.000000   \n",
              "25%                   0.000000              1.000000       2.000000   \n",
              "50%                   1.000000              2.000000       2.000000   \n",
              "75%                   2.000000              3.000000       2.000000   \n",
              "max                  19.000000             50.000000      55.000000   \n",
              "\n",
              "            children         babies  is_repeated_guest  \\\n",
              "count  119386.000000  119390.000000      119390.000000   \n",
              "mean        0.103890       0.007949           0.031912   \n",
              "std         0.398561       0.097436           0.175767   \n",
              "min         0.000000       0.000000           0.000000   \n",
              "25%         0.000000       0.000000           0.000000   \n",
              "50%         0.000000       0.000000           0.000000   \n",
              "75%         0.000000       0.000000           0.000000   \n",
              "max        10.000000      10.000000           1.000000   \n",
              "\n",
              "       previous_cancellations  previous_bookings_not_canceled  \\\n",
              "count           119390.000000                   119390.000000   \n",
              "mean                 0.087118                        0.137097   \n",
              "std                  0.844336                        1.497437   \n",
              "min                  0.000000                        0.000000   \n",
              "25%                  0.000000                        0.000000   \n",
              "50%                  0.000000                        0.000000   \n",
              "75%                  0.000000                        0.000000   \n",
              "max                 26.000000                       72.000000   \n",
              "\n",
              "       booking_changes          agent      company  days_in_waiting_list  \\\n",
              "count    119390.000000  103050.000000  6797.000000         119390.000000   \n",
              "mean          0.221124      86.693382   189.266735              2.321149   \n",
              "std           0.652306     110.774548   131.655015             17.594721   \n",
              "min           0.000000       1.000000     6.000000              0.000000   \n",
              "25%           0.000000       9.000000    62.000000              0.000000   \n",
              "50%           0.000000      14.000000   179.000000              0.000000   \n",
              "75%           0.000000     229.000000   270.000000              0.000000   \n",
              "max          21.000000     535.000000   543.000000            391.000000   \n",
              "\n",
              "                 adr  required_car_parking_spaces  total_of_special_requests  \n",
              "count  119390.000000                119390.000000              119390.000000  \n",
              "mean      101.831122                     0.062518                   0.571363  \n",
              "std        50.535790                     0.245291                   0.792798  \n",
              "min        -6.380000                     0.000000                   0.000000  \n",
              "25%        69.290000                     0.000000                   0.000000  \n",
              "50%        94.575000                     0.000000                   0.000000  \n",
              "75%       126.000000                     0.000000                   1.000000  \n",
              "max      5400.000000                     8.000000                   5.000000  "
            ],
            "text/html": [
              "\n",
              "  <div id=\"df-1d3d476d-88e0-4a2b-918b-468428d2afe0\">\n",
              "    <div class=\"colab-df-container\">\n",
              "      <div>\n",
              "<style scoped>\n",
              "    .dataframe tbody tr th:only-of-type {\n",
              "        vertical-align: middle;\n",
              "    }\n",
              "\n",
              "    .dataframe tbody tr th {\n",
              "        vertical-align: top;\n",
              "    }\n",
              "\n",
              "    .dataframe thead th {\n",
              "        text-align: right;\n",
              "    }\n",
              "</style>\n",
              "<table border=\"1\" class=\"dataframe\">\n",
              "  <thead>\n",
              "    <tr style=\"text-align: right;\">\n",
              "      <th></th>\n",
              "      <th>is_canceled</th>\n",
              "      <th>lead_time</th>\n",
              "      <th>arrival_date_year</th>\n",
              "      <th>arrival_date_week_number</th>\n",
              "      <th>arrival_date_day_of_month</th>\n",
              "      <th>stays_in_weekend_nights</th>\n",
              "      <th>stays_in_week_nights</th>\n",
              "      <th>adults</th>\n",
              "      <th>children</th>\n",
              "      <th>babies</th>\n",
              "      <th>is_repeated_guest</th>\n",
              "      <th>previous_cancellations</th>\n",
              "      <th>previous_bookings_not_canceled</th>\n",
              "      <th>booking_changes</th>\n",
              "      <th>agent</th>\n",
              "      <th>company</th>\n",
              "      <th>days_in_waiting_list</th>\n",
              "      <th>adr</th>\n",
              "      <th>required_car_parking_spaces</th>\n",
              "      <th>total_of_special_requests</th>\n",
              "    </tr>\n",
              "  </thead>\n",
              "  <tbody>\n",
              "    <tr>\n",
              "      <th>count</th>\n",
              "      <td>119390.000000</td>\n",
              "      <td>119390.000000</td>\n",
              "      <td>119390.000000</td>\n",
              "      <td>119390.000000</td>\n",
              "      <td>119390.000000</td>\n",
              "      <td>119390.000000</td>\n",
              "      <td>119390.000000</td>\n",
              "      <td>119390.000000</td>\n",
              "      <td>119386.000000</td>\n",
              "      <td>119390.000000</td>\n",
              "      <td>119390.000000</td>\n",
              "      <td>119390.000000</td>\n",
              "      <td>119390.000000</td>\n",
              "      <td>119390.000000</td>\n",
              "      <td>103050.000000</td>\n",
              "      <td>6797.000000</td>\n",
              "      <td>119390.000000</td>\n",
              "      <td>119390.000000</td>\n",
              "      <td>119390.000000</td>\n",
              "      <td>119390.000000</td>\n",
              "    </tr>\n",
              "    <tr>\n",
              "      <th>mean</th>\n",
              "      <td>0.370416</td>\n",
              "      <td>104.011416</td>\n",
              "      <td>2016.156554</td>\n",
              "      <td>27.165173</td>\n",
              "      <td>15.798241</td>\n",
              "      <td>0.927599</td>\n",
              "      <td>2.500302</td>\n",
              "      <td>1.856403</td>\n",
              "      <td>0.103890</td>\n",
              "      <td>0.007949</td>\n",
              "      <td>0.031912</td>\n",
              "      <td>0.087118</td>\n",
              "      <td>0.137097</td>\n",
              "      <td>0.221124</td>\n",
              "      <td>86.693382</td>\n",
              "      <td>189.266735</td>\n",
              "      <td>2.321149</td>\n",
              "      <td>101.831122</td>\n",
              "      <td>0.062518</td>\n",
              "      <td>0.571363</td>\n",
              "    </tr>\n",
              "    <tr>\n",
              "      <th>std</th>\n",
              "      <td>0.482918</td>\n",
              "      <td>106.863097</td>\n",
              "      <td>0.707476</td>\n",
              "      <td>13.605138</td>\n",
              "      <td>8.780829</td>\n",
              "      <td>0.998613</td>\n",
              "      <td>1.908286</td>\n",
              "      <td>0.579261</td>\n",
              "      <td>0.398561</td>\n",
              "      <td>0.097436</td>\n",
              "      <td>0.175767</td>\n",
              "      <td>0.844336</td>\n",
              "      <td>1.497437</td>\n",
              "      <td>0.652306</td>\n",
              "      <td>110.774548</td>\n",
              "      <td>131.655015</td>\n",
              "      <td>17.594721</td>\n",
              "      <td>50.535790</td>\n",
              "      <td>0.245291</td>\n",
              "      <td>0.792798</td>\n",
              "    </tr>\n",
              "    <tr>\n",
              "      <th>min</th>\n",
              "      <td>0.000000</td>\n",
              "      <td>0.000000</td>\n",
              "      <td>2015.000000</td>\n",
              "      <td>1.000000</td>\n",
              "      <td>1.000000</td>\n",
              "      <td>0.000000</td>\n",
              "      <td>0.000000</td>\n",
              "      <td>0.000000</td>\n",
              "      <td>0.000000</td>\n",
              "      <td>0.000000</td>\n",
              "      <td>0.000000</td>\n",
              "      <td>0.000000</td>\n",
              "      <td>0.000000</td>\n",
              "      <td>0.000000</td>\n",
              "      <td>1.000000</td>\n",
              "      <td>6.000000</td>\n",
              "      <td>0.000000</td>\n",
              "      <td>-6.380000</td>\n",
              "      <td>0.000000</td>\n",
              "      <td>0.000000</td>\n",
              "    </tr>\n",
              "    <tr>\n",
              "      <th>25%</th>\n",
              "      <td>0.000000</td>\n",
              "      <td>18.000000</td>\n",
              "      <td>2016.000000</td>\n",
              "      <td>16.000000</td>\n",
              "      <td>8.000000</td>\n",
              "      <td>0.000000</td>\n",
              "      <td>1.000000</td>\n",
              "      <td>2.000000</td>\n",
              "      <td>0.000000</td>\n",
              "      <td>0.000000</td>\n",
              "      <td>0.000000</td>\n",
              "      <td>0.000000</td>\n",
              "      <td>0.000000</td>\n",
              "      <td>0.000000</td>\n",
              "      <td>9.000000</td>\n",
              "      <td>62.000000</td>\n",
              "      <td>0.000000</td>\n",
              "      <td>69.290000</td>\n",
              "      <td>0.000000</td>\n",
              "      <td>0.000000</td>\n",
              "    </tr>\n",
              "    <tr>\n",
              "      <th>50%</th>\n",
              "      <td>0.000000</td>\n",
              "      <td>69.000000</td>\n",
              "      <td>2016.000000</td>\n",
              "      <td>28.000000</td>\n",
              "      <td>16.000000</td>\n",
              "      <td>1.000000</td>\n",
              "      <td>2.000000</td>\n",
              "      <td>2.000000</td>\n",
              "      <td>0.000000</td>\n",
              "      <td>0.000000</td>\n",
              "      <td>0.000000</td>\n",
              "      <td>0.000000</td>\n",
              "      <td>0.000000</td>\n",
              "      <td>0.000000</td>\n",
              "      <td>14.000000</td>\n",
              "      <td>179.000000</td>\n",
              "      <td>0.000000</td>\n",
              "      <td>94.575000</td>\n",
              "      <td>0.000000</td>\n",
              "      <td>0.000000</td>\n",
              "    </tr>\n",
              "    <tr>\n",
              "      <th>75%</th>\n",
              "      <td>1.000000</td>\n",
              "      <td>160.000000</td>\n",
              "      <td>2017.000000</td>\n",
              "      <td>38.000000</td>\n",
              "      <td>23.000000</td>\n",
              "      <td>2.000000</td>\n",
              "      <td>3.000000</td>\n",
              "      <td>2.000000</td>\n",
              "      <td>0.000000</td>\n",
              "      <td>0.000000</td>\n",
              "      <td>0.000000</td>\n",
              "      <td>0.000000</td>\n",
              "      <td>0.000000</td>\n",
              "      <td>0.000000</td>\n",
              "      <td>229.000000</td>\n",
              "      <td>270.000000</td>\n",
              "      <td>0.000000</td>\n",
              "      <td>126.000000</td>\n",
              "      <td>0.000000</td>\n",
              "      <td>1.000000</td>\n",
              "    </tr>\n",
              "    <tr>\n",
              "      <th>max</th>\n",
              "      <td>1.000000</td>\n",
              "      <td>737.000000</td>\n",
              "      <td>2017.000000</td>\n",
              "      <td>53.000000</td>\n",
              "      <td>31.000000</td>\n",
              "      <td>19.000000</td>\n",
              "      <td>50.000000</td>\n",
              "      <td>55.000000</td>\n",
              "      <td>10.000000</td>\n",
              "      <td>10.000000</td>\n",
              "      <td>1.000000</td>\n",
              "      <td>26.000000</td>\n",
              "      <td>72.000000</td>\n",
              "      <td>21.000000</td>\n",
              "      <td>535.000000</td>\n",
              "      <td>543.000000</td>\n",
              "      <td>391.000000</td>\n",
              "      <td>5400.000000</td>\n",
              "      <td>8.000000</td>\n",
              "      <td>5.000000</td>\n",
              "    </tr>\n",
              "  </tbody>\n",
              "</table>\n",
              "</div>\n",
              "      <button class=\"colab-df-convert\" onclick=\"convertToInteractive('df-1d3d476d-88e0-4a2b-918b-468428d2afe0')\"\n",
              "              title=\"Convert this dataframe to an interactive table.\"\n",
              "              style=\"display:none;\">\n",
              "        \n",
              "  <svg xmlns=\"http://www.w3.org/2000/svg\" height=\"24px\"viewBox=\"0 0 24 24\"\n",
              "       width=\"24px\">\n",
              "    <path d=\"M0 0h24v24H0V0z\" fill=\"none\"/>\n",
              "    <path d=\"M18.56 5.44l.94 2.06.94-2.06 2.06-.94-2.06-.94-.94-2.06-.94 2.06-2.06.94zm-11 1L8.5 8.5l.94-2.06 2.06-.94-2.06-.94L8.5 2.5l-.94 2.06-2.06.94zm10 10l.94 2.06.94-2.06 2.06-.94-2.06-.94-.94-2.06-.94 2.06-2.06.94z\"/><path d=\"M17.41 7.96l-1.37-1.37c-.4-.4-.92-.59-1.43-.59-.52 0-1.04.2-1.43.59L10.3 9.45l-7.72 7.72c-.78.78-.78 2.05 0 2.83L4 21.41c.39.39.9.59 1.41.59.51 0 1.02-.2 1.41-.59l7.78-7.78 2.81-2.81c.8-.78.8-2.07 0-2.86zM5.41 20L4 18.59l7.72-7.72 1.47 1.35L5.41 20z\"/>\n",
              "  </svg>\n",
              "      </button>\n",
              "      \n",
              "  <style>\n",
              "    .colab-df-container {\n",
              "      display:flex;\n",
              "      flex-wrap:wrap;\n",
              "      gap: 12px;\n",
              "    }\n",
              "\n",
              "    .colab-df-convert {\n",
              "      background-color: #E8F0FE;\n",
              "      border: none;\n",
              "      border-radius: 50%;\n",
              "      cursor: pointer;\n",
              "      display: none;\n",
              "      fill: #1967D2;\n",
              "      height: 32px;\n",
              "      padding: 0 0 0 0;\n",
              "      width: 32px;\n",
              "    }\n",
              "\n",
              "    .colab-df-convert:hover {\n",
              "      background-color: #E2EBFA;\n",
              "      box-shadow: 0px 1px 2px rgba(60, 64, 67, 0.3), 0px 1px 3px 1px rgba(60, 64, 67, 0.15);\n",
              "      fill: #174EA6;\n",
              "    }\n",
              "\n",
              "    [theme=dark] .colab-df-convert {\n",
              "      background-color: #3B4455;\n",
              "      fill: #D2E3FC;\n",
              "    }\n",
              "\n",
              "    [theme=dark] .colab-df-convert:hover {\n",
              "      background-color: #434B5C;\n",
              "      box-shadow: 0px 1px 3px 1px rgba(0, 0, 0, 0.15);\n",
              "      filter: drop-shadow(0px 1px 2px rgba(0, 0, 0, 0.3));\n",
              "      fill: #FFFFFF;\n",
              "    }\n",
              "  </style>\n",
              "\n",
              "      <script>\n",
              "        const buttonEl =\n",
              "          document.querySelector('#df-1d3d476d-88e0-4a2b-918b-468428d2afe0 button.colab-df-convert');\n",
              "        buttonEl.style.display =\n",
              "          google.colab.kernel.accessAllowed ? 'block' : 'none';\n",
              "\n",
              "        async function convertToInteractive(key) {\n",
              "          const element = document.querySelector('#df-1d3d476d-88e0-4a2b-918b-468428d2afe0');\n",
              "          const dataTable =\n",
              "            await google.colab.kernel.invokeFunction('convertToInteractive',\n",
              "                                                     [key], {});\n",
              "          if (!dataTable) return;\n",
              "\n",
              "          const docLinkHtml = 'Like what you see? Visit the ' +\n",
              "            '<a target=\"_blank\" href=https://colab.research.google.com/notebooks/data_table.ipynb>data table notebook</a>'\n",
              "            + ' to learn more about interactive tables.';\n",
              "          element.innerHTML = '';\n",
              "          dataTable['output_type'] = 'display_data';\n",
              "          await google.colab.output.renderOutput(dataTable, element);\n",
              "          const docLink = document.createElement('div');\n",
              "          docLink.innerHTML = docLinkHtml;\n",
              "          element.appendChild(docLink);\n",
              "        }\n",
              "      </script>\n",
              "    </div>\n",
              "  </div>\n",
              "  "
            ]
          },
          "metadata": {},
          "execution_count": 4
        }
      ]
    },
    {
      "cell_type": "markdown",
      "source": [
        "#### Handling Missing Values"
      ],
      "metadata": {
        "id": "7L6cUpIiaVTM"
      }
    },
    {
      "cell_type": "code",
      "source": [
        "booking.isnull().sum().sort_values(ascending=False)"
      ],
      "metadata": {
        "colab": {
          "base_uri": "https://localhost:8080/"
        },
        "id": "bZSDGcFEV4YJ",
        "outputId": "7545354e-9bb9-44cb-b06b-75fa1ea35227"
      },
      "execution_count": 5,
      "outputs": [
        {
          "output_type": "execute_result",
          "data": {
            "text/plain": [
              "company                           112593\n",
              "agent                              16340\n",
              "country                              488\n",
              "children                               4\n",
              "reserved_room_type                     0\n",
              "assigned_room_type                     0\n",
              "booking_changes                        0\n",
              "deposit_type                           0\n",
              "hotel                                  0\n",
              "previous_cancellations                 0\n",
              "days_in_waiting_list                   0\n",
              "customer_type                          0\n",
              "adr                                    0\n",
              "required_car_parking_spaces            0\n",
              "total_of_special_requests              0\n",
              "reservation_status                     0\n",
              "previous_bookings_not_canceled         0\n",
              "is_repeated_guest                      0\n",
              "is_canceled                            0\n",
              "distribution_channel                   0\n",
              "market_segment                         0\n",
              "meal                                   0\n",
              "babies                                 0\n",
              "adults                                 0\n",
              "stays_in_week_nights                   0\n",
              "stays_in_weekend_nights                0\n",
              "arrival_date_day_of_month              0\n",
              "arrival_date_week_number               0\n",
              "arrival_date_month                     0\n",
              "arrival_date_year                      0\n",
              "lead_time                              0\n",
              "reservation_status_date                0\n",
              "dtype: int64"
            ]
          },
          "metadata": {},
          "execution_count": 5
        }
      ]
    },
    {
      "cell_type": "code",
      "source": [
        "# we use isnull() to check if there are NaNs\n",
        "# all(axis=1), all() for every values , axis=1 in rows\n",
        "df1 = booking.isnull().all(axis=1) \n",
        "\n",
        "# Count number of True (all NaNs in the rows) \n",
        "num_rows = len(df1[df1 == True].index)\n",
        "# print output \n",
        "print('Number of rows with all NaNs = ', num_rows)"
      ],
      "metadata": {
        "colab": {
          "base_uri": "https://localhost:8080/"
        },
        "id": "C2U4MvaEVw-h",
        "outputId": "c241d943-16e5-4ba4-aed1-f7786bc8a88f"
      },
      "execution_count": 6,
      "outputs": [
        {
          "output_type": "stream",
          "name": "stdout",
          "text": [
            "Number of rows with all NaNs =  0\n"
          ]
        }
      ]
    },
    {
      "cell_type": "code",
      "source": [
        "# Since we want to fill missing values in every column with 0 except the 'country' and 'children' column.\n",
        "\n",
        "# 1. we will remove these except 2 columns in another variable (df2).\n",
        "df2 = booking.drop(['country','children'],axis=1)\n",
        "# 2. we will fill missing values with 0 in every columns except the 'country' and 'children' \n",
        "booking[df2.columns] = booking[df2.columns].fillna(0)\n",
        "# 3. show that all NaN values in the specified columns have been replaced.\n",
        "booking.head().T"
      ],
      "metadata": {
        "colab": {
          "base_uri": "https://localhost:8080/",
          "height": 1000
        },
        "id": "Alf34WrgV9VQ",
        "outputId": "c5836fe2-f003-4e97-ef70-ed6f9a63743f"
      },
      "execution_count": 7,
      "outputs": [
        {
          "output_type": "execute_result",
          "data": {
            "text/plain": [
              "                                           0             1             2  \\\n",
              "hotel                           Resort Hotel  Resort Hotel  Resort Hotel   \n",
              "is_canceled                                0             0             0   \n",
              "lead_time                                342           737             7   \n",
              "arrival_date_year                       2015          2015          2015   \n",
              "arrival_date_month                      July          July          July   \n",
              "arrival_date_week_number                  27            27            27   \n",
              "arrival_date_day_of_month                  1             1             1   \n",
              "stays_in_weekend_nights                    0             0             0   \n",
              "stays_in_week_nights                       0             0             1   \n",
              "adults                                     2             2             1   \n",
              "children                                 0.0           0.0           0.0   \n",
              "babies                                     0             0             0   \n",
              "meal                                      BB            BB            BB   \n",
              "country                                  PRT           PRT           GBR   \n",
              "market_segment                        Direct        Direct        Direct   \n",
              "distribution_channel                  Direct        Direct        Direct   \n",
              "is_repeated_guest                          0             0             0   \n",
              "previous_cancellations                     0             0             0   \n",
              "previous_bookings_not_canceled             0             0             0   \n",
              "reserved_room_type                         C             C             A   \n",
              "assigned_room_type                         C             C             C   \n",
              "booking_changes                            3             4             0   \n",
              "deposit_type                      No Deposit    No Deposit    No Deposit   \n",
              "agent                                    0.0           0.0           0.0   \n",
              "company                                  0.0           0.0           0.0   \n",
              "days_in_waiting_list                       0             0             0   \n",
              "customer_type                      Transient     Transient     Transient   \n",
              "adr                                      0.0           0.0          75.0   \n",
              "required_car_parking_spaces                0             0             0   \n",
              "total_of_special_requests                  0             0             0   \n",
              "reservation_status                 Check-Out     Check-Out     Check-Out   \n",
              "reservation_status_date           2015-07-01    2015-07-01    2015-07-02   \n",
              "\n",
              "                                           3             4  \n",
              "hotel                           Resort Hotel  Resort Hotel  \n",
              "is_canceled                                0             0  \n",
              "lead_time                                 13            14  \n",
              "arrival_date_year                       2015          2015  \n",
              "arrival_date_month                      July          July  \n",
              "arrival_date_week_number                  27            27  \n",
              "arrival_date_day_of_month                  1             1  \n",
              "stays_in_weekend_nights                    0             0  \n",
              "stays_in_week_nights                       1             2  \n",
              "adults                                     1             2  \n",
              "children                                 0.0           0.0  \n",
              "babies                                     0             0  \n",
              "meal                                      BB            BB  \n",
              "country                                  GBR           GBR  \n",
              "market_segment                     Corporate     Online TA  \n",
              "distribution_channel               Corporate         TA/TO  \n",
              "is_repeated_guest                          0             0  \n",
              "previous_cancellations                     0             0  \n",
              "previous_bookings_not_canceled             0             0  \n",
              "reserved_room_type                         A             A  \n",
              "assigned_room_type                         A             A  \n",
              "booking_changes                            0             0  \n",
              "deposit_type                      No Deposit    No Deposit  \n",
              "agent                                  304.0         240.0  \n",
              "company                                  0.0           0.0  \n",
              "days_in_waiting_list                       0             0  \n",
              "customer_type                      Transient     Transient  \n",
              "adr                                     75.0          98.0  \n",
              "required_car_parking_spaces                0             0  \n",
              "total_of_special_requests                  0             1  \n",
              "reservation_status                 Check-Out     Check-Out  \n",
              "reservation_status_date           2015-07-02    2015-07-03  "
            ],
            "text/html": [
              "\n",
              "  <div id=\"df-4e2128f8-3252-4b40-8d5f-0768621b8d79\">\n",
              "    <div class=\"colab-df-container\">\n",
              "      <div>\n",
              "<style scoped>\n",
              "    .dataframe tbody tr th:only-of-type {\n",
              "        vertical-align: middle;\n",
              "    }\n",
              "\n",
              "    .dataframe tbody tr th {\n",
              "        vertical-align: top;\n",
              "    }\n",
              "\n",
              "    .dataframe thead th {\n",
              "        text-align: right;\n",
              "    }\n",
              "</style>\n",
              "<table border=\"1\" class=\"dataframe\">\n",
              "  <thead>\n",
              "    <tr style=\"text-align: right;\">\n",
              "      <th></th>\n",
              "      <th>0</th>\n",
              "      <th>1</th>\n",
              "      <th>2</th>\n",
              "      <th>3</th>\n",
              "      <th>4</th>\n",
              "    </tr>\n",
              "  </thead>\n",
              "  <tbody>\n",
              "    <tr>\n",
              "      <th>hotel</th>\n",
              "      <td>Resort Hotel</td>\n",
              "      <td>Resort Hotel</td>\n",
              "      <td>Resort Hotel</td>\n",
              "      <td>Resort Hotel</td>\n",
              "      <td>Resort Hotel</td>\n",
              "    </tr>\n",
              "    <tr>\n",
              "      <th>is_canceled</th>\n",
              "      <td>0</td>\n",
              "      <td>0</td>\n",
              "      <td>0</td>\n",
              "      <td>0</td>\n",
              "      <td>0</td>\n",
              "    </tr>\n",
              "    <tr>\n",
              "      <th>lead_time</th>\n",
              "      <td>342</td>\n",
              "      <td>737</td>\n",
              "      <td>7</td>\n",
              "      <td>13</td>\n",
              "      <td>14</td>\n",
              "    </tr>\n",
              "    <tr>\n",
              "      <th>arrival_date_year</th>\n",
              "      <td>2015</td>\n",
              "      <td>2015</td>\n",
              "      <td>2015</td>\n",
              "      <td>2015</td>\n",
              "      <td>2015</td>\n",
              "    </tr>\n",
              "    <tr>\n",
              "      <th>arrival_date_month</th>\n",
              "      <td>July</td>\n",
              "      <td>July</td>\n",
              "      <td>July</td>\n",
              "      <td>July</td>\n",
              "      <td>July</td>\n",
              "    </tr>\n",
              "    <tr>\n",
              "      <th>arrival_date_week_number</th>\n",
              "      <td>27</td>\n",
              "      <td>27</td>\n",
              "      <td>27</td>\n",
              "      <td>27</td>\n",
              "      <td>27</td>\n",
              "    </tr>\n",
              "    <tr>\n",
              "      <th>arrival_date_day_of_month</th>\n",
              "      <td>1</td>\n",
              "      <td>1</td>\n",
              "      <td>1</td>\n",
              "      <td>1</td>\n",
              "      <td>1</td>\n",
              "    </tr>\n",
              "    <tr>\n",
              "      <th>stays_in_weekend_nights</th>\n",
              "      <td>0</td>\n",
              "      <td>0</td>\n",
              "      <td>0</td>\n",
              "      <td>0</td>\n",
              "      <td>0</td>\n",
              "    </tr>\n",
              "    <tr>\n",
              "      <th>stays_in_week_nights</th>\n",
              "      <td>0</td>\n",
              "      <td>0</td>\n",
              "      <td>1</td>\n",
              "      <td>1</td>\n",
              "      <td>2</td>\n",
              "    </tr>\n",
              "    <tr>\n",
              "      <th>adults</th>\n",
              "      <td>2</td>\n",
              "      <td>2</td>\n",
              "      <td>1</td>\n",
              "      <td>1</td>\n",
              "      <td>2</td>\n",
              "    </tr>\n",
              "    <tr>\n",
              "      <th>children</th>\n",
              "      <td>0.0</td>\n",
              "      <td>0.0</td>\n",
              "      <td>0.0</td>\n",
              "      <td>0.0</td>\n",
              "      <td>0.0</td>\n",
              "    </tr>\n",
              "    <tr>\n",
              "      <th>babies</th>\n",
              "      <td>0</td>\n",
              "      <td>0</td>\n",
              "      <td>0</td>\n",
              "      <td>0</td>\n",
              "      <td>0</td>\n",
              "    </tr>\n",
              "    <tr>\n",
              "      <th>meal</th>\n",
              "      <td>BB</td>\n",
              "      <td>BB</td>\n",
              "      <td>BB</td>\n",
              "      <td>BB</td>\n",
              "      <td>BB</td>\n",
              "    </tr>\n",
              "    <tr>\n",
              "      <th>country</th>\n",
              "      <td>PRT</td>\n",
              "      <td>PRT</td>\n",
              "      <td>GBR</td>\n",
              "      <td>GBR</td>\n",
              "      <td>GBR</td>\n",
              "    </tr>\n",
              "    <tr>\n",
              "      <th>market_segment</th>\n",
              "      <td>Direct</td>\n",
              "      <td>Direct</td>\n",
              "      <td>Direct</td>\n",
              "      <td>Corporate</td>\n",
              "      <td>Online TA</td>\n",
              "    </tr>\n",
              "    <tr>\n",
              "      <th>distribution_channel</th>\n",
              "      <td>Direct</td>\n",
              "      <td>Direct</td>\n",
              "      <td>Direct</td>\n",
              "      <td>Corporate</td>\n",
              "      <td>TA/TO</td>\n",
              "    </tr>\n",
              "    <tr>\n",
              "      <th>is_repeated_guest</th>\n",
              "      <td>0</td>\n",
              "      <td>0</td>\n",
              "      <td>0</td>\n",
              "      <td>0</td>\n",
              "      <td>0</td>\n",
              "    </tr>\n",
              "    <tr>\n",
              "      <th>previous_cancellations</th>\n",
              "      <td>0</td>\n",
              "      <td>0</td>\n",
              "      <td>0</td>\n",
              "      <td>0</td>\n",
              "      <td>0</td>\n",
              "    </tr>\n",
              "    <tr>\n",
              "      <th>previous_bookings_not_canceled</th>\n",
              "      <td>0</td>\n",
              "      <td>0</td>\n",
              "      <td>0</td>\n",
              "      <td>0</td>\n",
              "      <td>0</td>\n",
              "    </tr>\n",
              "    <tr>\n",
              "      <th>reserved_room_type</th>\n",
              "      <td>C</td>\n",
              "      <td>C</td>\n",
              "      <td>A</td>\n",
              "      <td>A</td>\n",
              "      <td>A</td>\n",
              "    </tr>\n",
              "    <tr>\n",
              "      <th>assigned_room_type</th>\n",
              "      <td>C</td>\n",
              "      <td>C</td>\n",
              "      <td>C</td>\n",
              "      <td>A</td>\n",
              "      <td>A</td>\n",
              "    </tr>\n",
              "    <tr>\n",
              "      <th>booking_changes</th>\n",
              "      <td>3</td>\n",
              "      <td>4</td>\n",
              "      <td>0</td>\n",
              "      <td>0</td>\n",
              "      <td>0</td>\n",
              "    </tr>\n",
              "    <tr>\n",
              "      <th>deposit_type</th>\n",
              "      <td>No Deposit</td>\n",
              "      <td>No Deposit</td>\n",
              "      <td>No Deposit</td>\n",
              "      <td>No Deposit</td>\n",
              "      <td>No Deposit</td>\n",
              "    </tr>\n",
              "    <tr>\n",
              "      <th>agent</th>\n",
              "      <td>0.0</td>\n",
              "      <td>0.0</td>\n",
              "      <td>0.0</td>\n",
              "      <td>304.0</td>\n",
              "      <td>240.0</td>\n",
              "    </tr>\n",
              "    <tr>\n",
              "      <th>company</th>\n",
              "      <td>0.0</td>\n",
              "      <td>0.0</td>\n",
              "      <td>0.0</td>\n",
              "      <td>0.0</td>\n",
              "      <td>0.0</td>\n",
              "    </tr>\n",
              "    <tr>\n",
              "      <th>days_in_waiting_list</th>\n",
              "      <td>0</td>\n",
              "      <td>0</td>\n",
              "      <td>0</td>\n",
              "      <td>0</td>\n",
              "      <td>0</td>\n",
              "    </tr>\n",
              "    <tr>\n",
              "      <th>customer_type</th>\n",
              "      <td>Transient</td>\n",
              "      <td>Transient</td>\n",
              "      <td>Transient</td>\n",
              "      <td>Transient</td>\n",
              "      <td>Transient</td>\n",
              "    </tr>\n",
              "    <tr>\n",
              "      <th>adr</th>\n",
              "      <td>0.0</td>\n",
              "      <td>0.0</td>\n",
              "      <td>75.0</td>\n",
              "      <td>75.0</td>\n",
              "      <td>98.0</td>\n",
              "    </tr>\n",
              "    <tr>\n",
              "      <th>required_car_parking_spaces</th>\n",
              "      <td>0</td>\n",
              "      <td>0</td>\n",
              "      <td>0</td>\n",
              "      <td>0</td>\n",
              "      <td>0</td>\n",
              "    </tr>\n",
              "    <tr>\n",
              "      <th>total_of_special_requests</th>\n",
              "      <td>0</td>\n",
              "      <td>0</td>\n",
              "      <td>0</td>\n",
              "      <td>0</td>\n",
              "      <td>1</td>\n",
              "    </tr>\n",
              "    <tr>\n",
              "      <th>reservation_status</th>\n",
              "      <td>Check-Out</td>\n",
              "      <td>Check-Out</td>\n",
              "      <td>Check-Out</td>\n",
              "      <td>Check-Out</td>\n",
              "      <td>Check-Out</td>\n",
              "    </tr>\n",
              "    <tr>\n",
              "      <th>reservation_status_date</th>\n",
              "      <td>2015-07-01</td>\n",
              "      <td>2015-07-01</td>\n",
              "      <td>2015-07-02</td>\n",
              "      <td>2015-07-02</td>\n",
              "      <td>2015-07-03</td>\n",
              "    </tr>\n",
              "  </tbody>\n",
              "</table>\n",
              "</div>\n",
              "      <button class=\"colab-df-convert\" onclick=\"convertToInteractive('df-4e2128f8-3252-4b40-8d5f-0768621b8d79')\"\n",
              "              title=\"Convert this dataframe to an interactive table.\"\n",
              "              style=\"display:none;\">\n",
              "        \n",
              "  <svg xmlns=\"http://www.w3.org/2000/svg\" height=\"24px\"viewBox=\"0 0 24 24\"\n",
              "       width=\"24px\">\n",
              "    <path d=\"M0 0h24v24H0V0z\" fill=\"none\"/>\n",
              "    <path d=\"M18.56 5.44l.94 2.06.94-2.06 2.06-.94-2.06-.94-.94-2.06-.94 2.06-2.06.94zm-11 1L8.5 8.5l.94-2.06 2.06-.94-2.06-.94L8.5 2.5l-.94 2.06-2.06.94zm10 10l.94 2.06.94-2.06 2.06-.94-2.06-.94-.94-2.06-.94 2.06-2.06.94z\"/><path d=\"M17.41 7.96l-1.37-1.37c-.4-.4-.92-.59-1.43-.59-.52 0-1.04.2-1.43.59L10.3 9.45l-7.72 7.72c-.78.78-.78 2.05 0 2.83L4 21.41c.39.39.9.59 1.41.59.51 0 1.02-.2 1.41-.59l7.78-7.78 2.81-2.81c.8-.78.8-2.07 0-2.86zM5.41 20L4 18.59l7.72-7.72 1.47 1.35L5.41 20z\"/>\n",
              "  </svg>\n",
              "      </button>\n",
              "      \n",
              "  <style>\n",
              "    .colab-df-container {\n",
              "      display:flex;\n",
              "      flex-wrap:wrap;\n",
              "      gap: 12px;\n",
              "    }\n",
              "\n",
              "    .colab-df-convert {\n",
              "      background-color: #E8F0FE;\n",
              "      border: none;\n",
              "      border-radius: 50%;\n",
              "      cursor: pointer;\n",
              "      display: none;\n",
              "      fill: #1967D2;\n",
              "      height: 32px;\n",
              "      padding: 0 0 0 0;\n",
              "      width: 32px;\n",
              "    }\n",
              "\n",
              "    .colab-df-convert:hover {\n",
              "      background-color: #E2EBFA;\n",
              "      box-shadow: 0px 1px 2px rgba(60, 64, 67, 0.3), 0px 1px 3px 1px rgba(60, 64, 67, 0.15);\n",
              "      fill: #174EA6;\n",
              "    }\n",
              "\n",
              "    [theme=dark] .colab-df-convert {\n",
              "      background-color: #3B4455;\n",
              "      fill: #D2E3FC;\n",
              "    }\n",
              "\n",
              "    [theme=dark] .colab-df-convert:hover {\n",
              "      background-color: #434B5C;\n",
              "      box-shadow: 0px 1px 3px 1px rgba(0, 0, 0, 0.15);\n",
              "      filter: drop-shadow(0px 1px 2px rgba(0, 0, 0, 0.3));\n",
              "      fill: #FFFFFF;\n",
              "    }\n",
              "  </style>\n",
              "\n",
              "      <script>\n",
              "        const buttonEl =\n",
              "          document.querySelector('#df-4e2128f8-3252-4b40-8d5f-0768621b8d79 button.colab-df-convert');\n",
              "        buttonEl.style.display =\n",
              "          google.colab.kernel.accessAllowed ? 'block' : 'none';\n",
              "\n",
              "        async function convertToInteractive(key) {\n",
              "          const element = document.querySelector('#df-4e2128f8-3252-4b40-8d5f-0768621b8d79');\n",
              "          const dataTable =\n",
              "            await google.colab.kernel.invokeFunction('convertToInteractive',\n",
              "                                                     [key], {});\n",
              "          if (!dataTable) return;\n",
              "\n",
              "          const docLinkHtml = 'Like what you see? Visit the ' +\n",
              "            '<a target=\"_blank\" href=https://colab.research.google.com/notebooks/data_table.ipynb>data table notebook</a>'\n",
              "            + ' to learn more about interactive tables.';\n",
              "          element.innerHTML = '';\n",
              "          dataTable['output_type'] = 'display_data';\n",
              "          await google.colab.output.renderOutput(dataTable, element);\n",
              "          const docLink = document.createElement('div');\n",
              "          docLink.innerHTML = docLinkHtml;\n",
              "          element.appendChild(docLink);\n",
              "        }\n",
              "      </script>\n",
              "    </div>\n",
              "  </div>\n",
              "  "
            ]
          },
          "metadata": {},
          "execution_count": 7
        }
      ]
    },
    {
      "cell_type": "code",
      "source": [
        "booking.isnull().sum().sort_values(ascending=False)"
      ],
      "metadata": {
        "colab": {
          "base_uri": "https://localhost:8080/"
        },
        "id": "1DRGMr1cWEOY",
        "outputId": "83ef13aa-17e2-4c34-beb8-4e8dcf6a7714"
      },
      "execution_count": 8,
      "outputs": [
        {
          "output_type": "execute_result",
          "data": {
            "text/plain": [
              "country                           488\n",
              "children                            4\n",
              "hotel                               0\n",
              "agent                               0\n",
              "reserved_room_type                  0\n",
              "assigned_room_type                  0\n",
              "booking_changes                     0\n",
              "deposit_type                        0\n",
              "company                             0\n",
              "previous_cancellations              0\n",
              "days_in_waiting_list                0\n",
              "customer_type                       0\n",
              "adr                                 0\n",
              "required_car_parking_spaces         0\n",
              "total_of_special_requests           0\n",
              "reservation_status                  0\n",
              "previous_bookings_not_canceled      0\n",
              "is_repeated_guest                   0\n",
              "is_canceled                         0\n",
              "distribution_channel                0\n",
              "market_segment                      0\n",
              "meal                                0\n",
              "babies                              0\n",
              "adults                              0\n",
              "stays_in_week_nights                0\n",
              "stays_in_weekend_nights             0\n",
              "arrival_date_day_of_month           0\n",
              "arrival_date_week_number            0\n",
              "arrival_date_month                  0\n",
              "arrival_date_year                   0\n",
              "lead_time                           0\n",
              "reservation_status_date             0\n",
              "dtype: int64"
            ]
          },
          "metadata": {},
          "execution_count": 8
        }
      ]
    },
    {
      "cell_type": "code",
      "source": [
        "booking['country'] = booking['country'].fillna(booking['country'].mode()[0])\n",
        "booking['children'] = booking['children'].fillna(round(booking['children'].mean()))"
      ],
      "metadata": {
        "id": "vNEI7akMWLKQ"
      },
      "execution_count": 9,
      "outputs": []
    },
    {
      "cell_type": "code",
      "source": [
        "booking['children'] = booking['children'].astype(int)\n",
        "booking['agent'] = booking['agent'].astype(int)\n",
        "booking['company'] = booking['company'].astype(int)"
      ],
      "metadata": {
        "id": "6sOLCtNsWdvQ"
      },
      "execution_count": 10,
      "outputs": []
    },
    {
      "cell_type": "code",
      "source": [
        "booking.isnull().sum()"
      ],
      "metadata": {
        "colab": {
          "base_uri": "https://localhost:8080/"
        },
        "id": "DULeMKFRWem4",
        "outputId": "48e7ef49-65ce-4a2a-a2ce-8e630396b551"
      },
      "execution_count": 11,
      "outputs": [
        {
          "output_type": "execute_result",
          "data": {
            "text/plain": [
              "hotel                             0\n",
              "is_canceled                       0\n",
              "lead_time                         0\n",
              "arrival_date_year                 0\n",
              "arrival_date_month                0\n",
              "arrival_date_week_number          0\n",
              "arrival_date_day_of_month         0\n",
              "stays_in_weekend_nights           0\n",
              "stays_in_week_nights              0\n",
              "adults                            0\n",
              "children                          0\n",
              "babies                            0\n",
              "meal                              0\n",
              "country                           0\n",
              "market_segment                    0\n",
              "distribution_channel              0\n",
              "is_repeated_guest                 0\n",
              "previous_cancellations            0\n",
              "previous_bookings_not_canceled    0\n",
              "reserved_room_type                0\n",
              "assigned_room_type                0\n",
              "booking_changes                   0\n",
              "deposit_type                      0\n",
              "agent                             0\n",
              "company                           0\n",
              "days_in_waiting_list              0\n",
              "customer_type                     0\n",
              "adr                               0\n",
              "required_car_parking_spaces       0\n",
              "total_of_special_requests         0\n",
              "reservation_status                0\n",
              "reservation_status_date           0\n",
              "dtype: int64"
            ]
          },
          "metadata": {},
          "execution_count": 11
        }
      ]
    },
    {
      "cell_type": "markdown",
      "source": [
        "####Handling Duplicates"
      ],
      "metadata": {
        "id": "I8vQYXVzacrX"
      }
    },
    {
      "cell_type": "code",
      "source": [
        "# print how many duplicate rows in the dataframe\n",
        "print(\"Number of duplicate rows = \", booking.duplicated().sum())"
      ],
      "metadata": {
        "colab": {
          "base_uri": "https://localhost:8080/"
        },
        "id": "0BetXR4bWoc4",
        "outputId": "87d284e7-8701-4f75-8da3-a8c2e511eb05"
      },
      "execution_count": 12,
      "outputs": [
        {
          "output_type": "stream",
          "name": "stdout",
          "text": [
            "Number of duplicate rows =  32013\n"
          ]
        }
      ]
    },
    {
      "cell_type": "code",
      "source": [
        "# drop all duplicated rows\n",
        "booking= booking.drop_duplicates()\n",
        "\n",
        "# Verify also that all duplicate rows have been removed.\n",
        "print(\"Number of duplicate rows = \", booking.duplicated().sum())"
      ],
      "metadata": {
        "colab": {
          "base_uri": "https://localhost:8080/"
        },
        "id": "aUxOmpBLWrbg",
        "outputId": "921899d1-2742-464d-deea-f06e651463ca"
      },
      "execution_count": 13,
      "outputs": [
        {
          "output_type": "stream",
          "name": "stdout",
          "text": [
            "Number of duplicate rows =  0\n"
          ]
        }
      ]
    },
    {
      "cell_type": "markdown",
      "source": [
        "#### Data Validity"
      ],
      "metadata": {
        "id": "viIqEacyahkc"
      }
    },
    {
      "cell_type": "code",
      "source": [
        "sum_rows = booking[['adults','children','babies']].apply(sum,axis=1)\n",
        "print(\"Number of rows with total 0 guests = \", (sum_rows == 0).sum())"
      ],
      "metadata": {
        "colab": {
          "base_uri": "https://localhost:8080/"
        },
        "id": "McYaxCKUWtbg",
        "outputId": "3c9d5878-ae40-4714-c5a9-8413ffc1ef74"
      },
      "execution_count": 14,
      "outputs": [
        {
          "output_type": "stream",
          "name": "stdout",
          "text": [
            "Number of rows with total 0 guests =  166\n"
          ]
        }
      ]
    },
    {
      "cell_type": "code",
      "source": [
        "w = sum_rows.index[sum_rows == 0]\n",
        "x = len(sum_rows.loc[sum_rows == 0])\n",
        "\n",
        "print(\"Indices of \", x ,\"row with total 0 guests are as follows:\",w)"
      ],
      "metadata": {
        "colab": {
          "base_uri": "https://localhost:8080/"
        },
        "id": "btTykdzWWwpo",
        "outputId": "1526d5ba-929e-4e4a-c3c9-af414dbe6faa"
      },
      "execution_count": 15,
      "outputs": [
        {
          "output_type": "stream",
          "name": "stdout",
          "text": [
            "Indices of  166 row with total 0 guests are as follows: Int64Index([  2224,   2409,   3181,   3684,   3708,   4127,   9376,  31765,\n",
            "             32029,  32827,\n",
            "            ...\n",
            "            112471, 112558, 113188, 114583, 114908, 115029, 115091, 116251,\n",
            "            116534, 117087],\n",
            "           dtype='int64', length=166)\n"
          ]
        }
      ]
    },
    {
      "cell_type": "code",
      "source": [
        "booking = booking.drop(booking[(booking['adults']+booking['children']+booking['babies']) == 0].index)"
      ],
      "metadata": {
        "id": "3AEBbsn6W1rI"
      },
      "execution_count": 17,
      "outputs": []
    },
    {
      "cell_type": "code",
      "source": [
        "print(\"Number of rows with children or babies guests, but zero adults = \", (booking['adults']==0).sum())"
      ],
      "metadata": {
        "colab": {
          "base_uri": "https://localhost:8080/"
        },
        "id": "SL4YZWXZW6CX",
        "outputId": "ccc41429-c1f6-4512-c3c7-c7f584de0f4b"
      },
      "execution_count": 18,
      "outputs": [
        {
          "output_type": "stream",
          "name": "stdout",
          "text": [
            "Number of rows with children or babies guests, but zero adults =  219\n"
          ]
        }
      ]
    },
    {
      "cell_type": "code",
      "source": [
        "booking =booking.drop(booking[(booking['adults']==0)].index)"
      ],
      "metadata": {
        "id": "f7ygBKulW__H"
      },
      "execution_count": 19,
      "outputs": []
    },
    {
      "cell_type": "code",
      "source": [
        "hotel_booking_cleaned = booking.to_csv('/content/drive/MyDrive/hotel_booking_cleaned.csv',index=False)"
      ],
      "metadata": {
        "id": "ipQ8ixBIXD8v"
      },
      "execution_count": 20,
      "outputs": []
    },
    {
      "cell_type": "markdown",
      "source": [
        "## Exploratory Data Analysis (Part I)"
      ],
      "metadata": {
        "id": "IBePnzUkYCNA"
      }
    },
    {
      "cell_type": "code",
      "source": [
        "hotel_booking = pd.read_csv('/content/drive/MyDrive/hotel_booking_cleaned.csv')"
      ],
      "metadata": {
        "id": "xCuVqLR8XHsH"
      },
      "execution_count": 22,
      "outputs": []
    },
    {
      "cell_type": "markdown",
      "source": [
        "#### How many booking were cancelled?"
      ],
      "metadata": {
        "id": "ZAhtgRdFZsQN"
      }
    },
    {
      "cell_type": "code",
      "source": [
        "print(\"out of\", len(hotel_booking),'booking, There were', np.count_nonzero(hotel_booking.is_canceled),'which were cancelled.')\n",
        "print(f\"which account for {np.count_nonzero(hotel_booking.is_canceled)/len(hotel_booking)*100:.2f} percent.\")\n",
        "\n",
        "# Plot\n",
        "vs = {\"none-cancelled\": len(hotel_booking) - np.count_nonzero(hotel_booking.is_canceled),\n",
        "      \"cancelled\": np.count_nonzero(hotel_booking.is_canceled)}\n",
        "\n",
        "fig, ax = plt.subplots(figsize=(4,4))\n",
        "ax.bar(vs.keys(), vs.values(),color=[\"b\", \"orange\"])\n",
        "ax.set(title=\"Number of booking: Cancelled VS None-cancelled\",\n",
        "       xlabel=\"Booking Types\",\n",
        "       ylabel=\"Number of booking\");"
      ],
      "metadata": {
        "colab": {
          "base_uri": "https://localhost:8080/",
          "height": 330
        },
        "id": "URrw5bhpYNaO",
        "outputId": "38bdcf11-e4eb-4643-f4e8-fc96eb6dfd4f"
      },
      "execution_count": 23,
      "outputs": [
        {
          "output_type": "stream",
          "name": "stdout",
          "text": [
            "out of 86992 booking, There were 23927 which were cancelled.\n",
            "which account for 27.50 percent.\n"
          ]
        },
        {
          "output_type": "display_data",
          "data": {
            "text/plain": [
              "<Figure size 288x288 with 1 Axes>"
            ],
            "image/png": "[encoded data removed]"
          },
          "metadata": {
            "needs_background": "light"
          }
        }
      ]
    },
    {
      "cell_type": "markdown",
      "source": [
        "#### What is the booking ratio between Resort Hotel and City Hotel?"
      ],
      "metadata": {
        "id": "M2h0XIDcZwNv"
      }
    },
    {
      "cell_type": "code",
      "source": [
        "tt =len(hotel_booking[hotel_booking['reservation_status']=='Check-Out'])\n",
        "resort = round((len(hotel_booking[(hotel_booking['hotel']=='Resort Hotel') & (hotel_booking['reservation_status']=='Check-Out')]))/tt*100,2)\n",
        "city = round((len(hotel_booking[(hotel_booking['hotel']=='City Hotel') & (hotel_booking['reservation_status']=='Check-Out')]))/tt*100,2)\n",
        "print(\"The booking ratio between resort hotels and city hotels is\",resort,\"% and\", city,\"%\")\n",
        "# Plot \n",
        "x = ['Hotel','']\n",
        "rss = [resort,0]\n",
        "ctt = [city,0]\n",
        "fig, ax = plt.subplots(figsize=(4,4))\n",
        "plt.bar(x, rss,width=0.8,color='orange')\n",
        "plt.bar(x, ctt,bottom=resort, width=0.8,color='b')\n",
        "plt.ylabel(\"Percentage of Booking\")\n",
        "plt.legend([\"Resort\",\"City\"])\n",
        "plt.title(\"Hotel Type Ratio: Resort vs. City Hotels\")\n",
        "plt.margins(x=0.35)\n",
        "plt.show()"
      ],
      "metadata": {
        "colab": {
          "base_uri": "https://localhost:8080/",
          "height": 298
        },
        "id": "e42Kyb0AYNxW",
        "outputId": "c388c01f-ac45-400d-deec-e967868380f4"
      },
      "execution_count": 24,
      "outputs": [
        {
          "output_type": "stream",
          "name": "stdout",
          "text": [
            "The booking ratio between resort hotels and city hotels is 41.17 % and 58.83 %\n"
          ]
        },
        {
          "output_type": "display_data",
          "data": {
            "text/plain": [
              "<Figure size 288x288 with 1 Axes>"
            ],
            "image/png": "[encoded data removed]"
          },
          "metadata": {
            "needs_background": "light"
          }
        }
      ]
    },
    {
      "cell_type": "markdown",
      "source": [
        "#### Let's analyzing hotel booking data for each year"
      ],
      "metadata": {
        "id": "EU4tZGqeZ0J1"
      }
    },
    {
      "cell_type": "code",
      "source": [
        "yr = {\"2015\": len(hotel_booking[hotel_booking.arrival_date_year == 2015]),\n",
        "      \"2016\": len(hotel_booking[hotel_booking.arrival_date_year == 2016]),\n",
        "      \"2017\": len(hotel_booking[hotel_booking.arrival_date_year == 2017])}\n",
        "\n",
        "fig, ax = plt.subplots()\n",
        "p1 = ax.bar(yr.keys(), yr.values(),color=[\"b\", \"orange\", \"green\"])\n",
        "ax.set(title=\"Total Number of Booking By Years\",\n",
        "       xlabel=\"Years\",\n",
        "       ylabel=\"Number of booking\");\n",
        "\n",
        "for rect1 in p1:\n",
        "    height = rect1.get_height()\n",
        "    plt.annotate(\"{:.2f}%\".format(height/len(hotel_booking)*100), (rect1.get_x()+rect1.get_width()/2,height+0.5),ha='center',va='bottom',fontsize=11)\n",
        "plt.show()"
      ],
      "metadata": {
        "colab": {
          "base_uri": "https://localhost:8080/",
          "height": 295
        },
        "id": "w_nVrYx3YTVm",
        "outputId": "88917604-bf2f-40e6-a815-97d34d35ba1b"
      },
      "execution_count": 25,
      "outputs": [
        {
          "output_type": "display_data",
          "data": {
            "text/plain": [
              "<Figure size 432x288 with 1 Axes>"
            ],
            "image/png": "[encoded data removed]"
          },
          "metadata": {
            "needs_background": "light"
          }
        }
      ]
    },
    {
      "cell_type": "code",
      "source": [
        "print(hotel_booking.groupby(\"arrival_date_year\")[\"is_canceled\"].value_counts())\n",
        "\n",
        "X = ['2015','2016','2017']\n",
        "yy = [ len(hotel_booking[(hotel_booking.arrival_date_year==2015)]),\n",
        "       len(hotel_booking[(hotel_booking.arrival_date_year==2016)]),\n",
        "       len(hotel_booking[(hotel_booking.arrival_date_year==2017)])\n",
        "        ]\n",
        "check = {'2015': len(hotel_booking[(hotel_booking.arrival_date_year==2015) & (hotel_booking['reservation_status']=='Check-Out')]),\n",
        "         '2016': len(hotel_booking[(hotel_booking.arrival_date_year==2016) & (hotel_booking['reservation_status']=='Check-Out')]),\n",
        "         '2017': len(hotel_booking[(hotel_booking.arrival_date_year==2017) & (hotel_booking['reservation_status']=='Check-Out')])\n",
        "         }\n",
        "can = {'2015': len(hotel_booking[(hotel_booking.arrival_date_year==2015) & (hotel_booking['reservation_status']!='Check-Out')]),\n",
        "       '2016': len(hotel_booking[(hotel_booking.arrival_date_year==2016) & (hotel_booking['reservation_status']!='Check-Out')]),\n",
        "       '2017': len(hotel_booking[(hotel_booking.arrival_date_year==2017) & (hotel_booking['reservation_status']!='Check-Out')])\n",
        "         }\n",
        "X_axis = np.arange(len(X))\n",
        "fig, ax = plt.subplots(figsize=(6,6))\n",
        "pl1 = ax.bar(X_axis -0.15, check.values(),width=0.3,color='b')\n",
        "pl2 = ax.bar(X_axis + 0.15, can.values(),width=0.3,color='orange')\n",
        "ax.set(title=\"Number of Booking By Years and Booking Types\",\n",
        "       xlabel=\"Years\",\n",
        "       ylabel=\"Number of booking\")\n",
        "plt.xticks(X_axis, X)\n",
        "plt.legend([\"checked-In\",\"canceled\"],loc='upper right')\n",
        "\n",
        "i=0\n",
        "for rect1 in pl1:\n",
        "    height = rect1.get_height()\n",
        "    plt.annotate(\"{:.2f}%\".format((height/ yy[i]) *100), (rect1.get_x()+rect1.get_width()/2,height+0.5),ha='center',va='bottom',fontsize=11)\n",
        "    i+=1\n",
        "j=0\n",
        "for rect2 in pl2:\n",
        "    height = rect2.get_height()\n",
        "    plt.annotate(\"{:.2f}%\".format((height/yy[j])*100), (rect2.get_x()+rect2.get_width()/2,height+0.5),ha='center',va='bottom',fontsize=11)\n",
        "    j+=1\n",
        "\n",
        "plt.show()"
      ],
      "metadata": {
        "colab": {
          "base_uri": "https://localhost:8080/",
          "height": 543
        },
        "id": "1vuLVfcXYV7I",
        "outputId": "f21cc546-5c89-4093-9827-2b45e2b3e198"
      },
      "execution_count": 26,
      "outputs": [
        {
          "output_type": "stream",
          "name": "stdout",
          "text": [
            "arrival_date_year  is_canceled\n",
            "2015               0              10570\n",
            "                   1               2698\n",
            "2016               0              31005\n",
            "                   1              11152\n",
            "2017               0              21490\n",
            "                   1              10077\n",
            "Name: is_canceled, dtype: int64\n"
          ]
        },
        {
          "output_type": "display_data",
          "data": {
            "text/plain": [
              "<Figure size 432x432 with 1 Axes>"
            ],
            "image/png": "[encoded data removed]"
          },
          "metadata": {
            "needs_background": "light"
          }
        }
      ]
    },
    {
      "cell_type": "markdown",
      "source": [
        "#### Compute, print, and plot the number of checked-in booking by years and Hotel Types (City Hotels vs. Resort Hotels)"
      ],
      "metadata": {
        "id": "nIVKtHw5Z5K9"
      }
    },
    {
      "cell_type": "code",
      "source": [
        "booking = hotel_booking.query('is_canceled == 0').filter(['arrival_date_year','hotel']).groupby(['arrival_date_year','hotel'])['hotel'].count()\n",
        "\n",
        "y15 = len(hotel_booking[(hotel_booking.arrival_date_year==2015)& (hotel_booking['reservation_status']=='Check-Out')])\n",
        "y16 = len(hotel_booking[(hotel_booking.arrival_date_year==2016)& (hotel_booking['reservation_status']=='Check-Out')])\n",
        "y17 = len(hotel_booking[(hotel_booking.arrival_date_year==2017)& (hotel_booking['reservation_status']=='Check-Out')])\n",
        "\n",
        "r1 = len(hotel_booking[(hotel_booking.arrival_date_year==2015) & (hotel_booking['reservation_status']=='Check-Out') & (hotel_booking['hotel']=='Resort Hotel')])\n",
        "r2 = len(hotel_booking[(hotel_booking.arrival_date_year==2016) & (hotel_booking['reservation_status']=='Check-Out') & (hotel_booking['hotel']=='Resort Hotel')])\n",
        "r3 = len(hotel_booking[(hotel_booking.arrival_date_year==2017) & (hotel_booking['reservation_status']=='Check-Out') & (hotel_booking['hotel']=='Resort Hotel')])\n",
        "\n",
        "c1 = len(hotel_booking[(hotel_booking.arrival_date_year==2015) & (hotel_booking['reservation_status']=='Check-Out') & (hotel_booking['hotel']=='City Hotel')])\n",
        "c2 = len(hotel_booking[(hotel_booking.arrival_date_year==2016) & (hotel_booking['reservation_status']=='Check-Out') & (hotel_booking['hotel']=='City Hotel')])\n",
        "c3 = len(hotel_booking[(hotel_booking.arrival_date_year==2017) & (hotel_booking['reservation_status']=='Check-Out') & (hotel_booking['hotel']=='City Hotel')])\n",
        "\n",
        "cc = [c1,c2,c3]\n",
        "rr= [r1,r2,r3]\n",
        "yy = [y15,y16,y17]\n",
        "\n",
        "resort = [round(r1/y15*100,2), round(r2/y16*100,2), round(r3/y17*100,2)]\n",
        "city = [round(c1/y15*100,2), round(c2/y16*100,2), round(c3/y17*100,2)]\n",
        "\n",
        "X = ['2015','2016','2017']\n",
        "\n",
        "fig, ax = plt.subplots(figsize=(4.5,5))\n",
        "pl1 = ax.bar(X, city,width=0.35,bottom=resort,color='b')\n",
        "pl2 = ax.bar(X, resort,width=0.35,color='orange')\n",
        "ax.set(title=\"Total Number of Booking By Year\",\n",
        "       xlabel=\"Years\",\n",
        "       ylabel=\"Number of booking\",)\n",
        "plt.legend([\"Resort\",\"City\"],loc='upper right')\n",
        "plt.subplots_adjust(left=0.1,right=1.8,top=0.9,bottom=0.1)\n",
        "plt.margins(x=0.3)\n",
        "i=0\n",
        "for rect1 in pl1:\n",
        "    height = rect1.get_height()\n",
        "    width = rect1.get_width()\n",
        "    x, y = rect1.get_xy()\n",
        "    plt.annotate(\"{:.2f}%\".format(city[i]), (x + width/2,y+ height*0.6),ha='center',va='bottom',fontsize=8,color='w',weight='bold')\n",
        "    i+=1\n",
        "j=0\n",
        "for rect2 in pl2:\n",
        "    height = rect2.get_height()\n",
        "    width = rect2.get_width()\n",
        "    x, y = rect2.get_xy()\n",
        "    plt.annotate(\"{:.2f}%\".format(resort[j]), (x + width/2,y+height*0.7),ha='center',va='bottom',fontsize=8,color='black',weight='bold')\n",
        "    j+=1\n",
        "i=0\n",
        "for rect1 in pl1:\n",
        "    height = rect1.get_height()\n",
        "    width = rect1.get_width()\n",
        "    x, y = rect1.get_xy()\n",
        "    plt.annotate(\"{:,}\".format(cc[i]), (x + width/2,y+ height*0.7),ha='center',va='bottom',fontsize=8,color='w',weight='bold')\n",
        "    i+=1\n",
        "j=0\n",
        "for rect2 in pl2:\n",
        "    height = rect2.get_height()\n",
        "    width = rect2.get_width()\n",
        "    x, y = rect2.get_xy()\n",
        "    plt.annotate(\"{:,}\".format(rr[j]), (x + width/2,y+height*0.8),ha='center',va='bottom',fontsize=8,color='black',weight='bold')\n",
        "    j+=1\n",
        "\n",
        "print(booking)\n",
        "plt.show()"
      ],
      "metadata": {
        "colab": {
          "base_uri": "https://localhost:8080/",
          "height": 505
        },
        "id": "w3RvNHkFYZZu",
        "outputId": "b54df7a1-87b2-48e8-b737-cabdd00a2c2f"
      },
      "execution_count": 27,
      "outputs": [
        {
          "output_type": "stream",
          "name": "stdout",
          "text": [
            "arrival_date_year  hotel       \n",
            "2015               City Hotel       5096\n",
            "                   Resort Hotel     5474\n",
            "2016               City Hotel      18804\n",
            "                   Resort Hotel    12201\n",
            "2017               City Hotel      13201\n",
            "                   Resort Hotel     8289\n",
            "Name: hotel, dtype: int64\n"
          ]
        },
        {
          "output_type": "display_data",
          "data": {
            "text/plain": [
              "<Figure size 324x360 with 1 Axes>"
            ],
            "image/png": "[encoded data removed]"
          },
          "metadata": {
            "needs_background": "light"
          }
        }
      ]
    },
    {
      "cell_type": "markdown",
      "source": [
        "#### From which country most hotel guests come?"
      ],
      "metadata": {
        "id": "A8xTwwagZ-hl"
      }
    },
    {
      "cell_type": "code",
      "source": [
        "!pip install pycountry\n",
        "import pycountry "
      ],
      "metadata": {
        "colab": {
          "base_uri": "https://localhost:8080/"
        },
        "id": "DpvkZJ4dYduO",
        "outputId": "be160d5a-f121-46ed-efdc-47595c17211b"
      },
      "execution_count": 28,
      "outputs": [
        {
          "output_type": "stream",
          "name": "stdout",
          "text": [
            "Looking in indexes: https://pypi.org/simple, https://us-python.pkg.dev/colab-wheels/public/simple/\n",
            "Collecting pycountry\n",
            "  Downloading pycountry-22.3.5.tar.gz (10.1 MB)\n",
            "\u001b[2K     \u001b[90m━━━━━━━━━━━━━━━━━━━━━━━━━━━━━━━━━━━━━━━━\u001b[0m \u001b[32m10.1/10.1 MB\u001b[0m \u001b[31m88.8 MB/s\u001b[0m eta \u001b[36m0:00:00\u001b[0m\n",
            "\u001b[?25h  Installing build dependencies ... \u001b[?25l\u001b[?25hdone\n",
            "  Getting requirements to build wheel ... \u001b[?25l\u001b[?25hdone\n",
            "  Preparing metadata (pyproject.toml) ... \u001b[?25l\u001b[?25hdone\n",
            "Requirement already satisfied: setuptools in /usr/local/lib/python3.8/dist-packages (from pycountry) (57.4.0)\n",
            "Building wheels for collected packages: pycountry\n",
            "  Building wheel for pycountry (pyproject.toml) ... \u001b[?25l\u001b[?25hdone\n",
            "  Created wheel for pycountry: filename=pycountry-22.3.5-py2.py3-none-any.whl size=10681845 sha256=ceb9c739ba9d6908d899f292abfab30593c9b58c5c67a54f4bc74a303165d4cc\n",
            "  Stored in directory: /root/.cache/pip/wheels/e2/aa/0f/c224e473b464387170b83ca7c66947b4a7e33e8d903a679748\n",
            "Successfully built pycountry\n",
            "Installing collected packages: pycountry\n",
            "Successfully installed pycountry-22.3.5\n"
          ]
        }
      ]
    },
    {
      "cell_type": "code",
      "source": [
        "hotel_booking.country.replace(to_replace = '0 PRT', value = 'PRT',inplace=True)\n",
        "hotel_booking.country.replace(to_replace = 'CN', value = 'CHN',inplace=True)\n",
        "hotel_booking.to_csv('/content/drive/MyDrive/hotel_booking_cleaned_further.csv',index=False)\n",
        "bf = hotel_booking.drop((hotel_booking.index[hotel_booking[['is_canceled']].sum(axis=1)==1]))\n",
        "clean = bf[['country']]\n",
        "#----------\n",
        "z = pd.DataFrame(clean.country.value_counts().reset_index().values, columns=[\"country\", \"NumGuests\"])\n",
        "df = z.sort_index(axis = 0, ascending=True).head(10)\n",
        "# add country name by use pycountry \n",
        "df['country_name'] = df.country.apply(lambda x: pycountry.countries.get(alpha_3=x).name)\n",
        "df['NumGuests_percent'] = df['NumGuests'] / len(clean) * 100\n",
        "# Plot \n",
        "fig, ax = plt.subplots(figsize=(15,5))\n",
        "plz = ax.bar(df['country_name'], df['NumGuests_percent'],width=0.6,color='b')\n",
        "ax.set(title=\"Countries with Top-10 Most Hotel Guests\",\n",
        "       xlabel=\"Countries\",\n",
        "       ylabel=\"Number of Guests (Percentage)\",\n",
        "       ylim=([0,40]));\n",
        "i=0\n",
        "for rect1 in plz:\n",
        "    height = rect1.get_height()\n",
        "    width = rect1.get_width()\n",
        "    x, y = rect1.get_xy()\n",
        "    plt.annotate(\"{:.2f}%\".format(df['NumGuests_percent'].values[i]), (x+width/2,height),ha='center',va='bottom',fontsize=8,color='black')\n",
        "    i+=1\n",
        "j=0\n",
        "for rect1 in plz:\n",
        "    height = rect1.get_height()\n",
        "    width = rect1.get_width()\n",
        "    x, y = rect1.get_xy()\n",
        "    plt.annotate(\"{:,}\".format(df['NumGuests'].values[j]), (x+width/2,height+1.5),ha='center',va='bottom',fontsize=8,color='black')\n",
        "    j+=1\n",
        "print(df)\n",
        "plt.show()"
      ],
      "metadata": {
        "colab": {
          "base_uri": "https://localhost:8080/",
          "height": 494
        },
        "id": "L-3h2fXOYh0l",
        "outputId": "d13bc3ad-dd81-4a9d-9dff-13d37e38dbf9"
      },
      "execution_count": 29,
      "outputs": [
        {
          "output_type": "stream",
          "name": "stdout",
          "text": [
            "  country NumGuests    country_name NumGuests_percent\n",
            "0     PRT     17942        Portugal         28.450012\n",
            "1     GBR      8428  United Kingdom          13.36399\n",
            "2     FRA      7071          France         11.212241\n",
            "3     ESP      5372           Spain          8.518196\n",
            "4     DEU      4322         Germany          6.853247\n",
            "5     IRL      2345         Ireland          3.718386\n",
            "6     ITA      1982           Italy          3.142789\n",
            "7     BEL      1657         Belgium          2.627448\n",
            "8     NLD      1556     Netherlands          2.467296\n",
            "9     USA      1408   United States          2.232617\n"
          ]
        },
        {
          "output_type": "display_data",
          "data": {
            "text/plain": [
              "<Figure size 1080x360 with 1 Axes>"
            ],
            "image/png": "[encoded data removed]"
          },
          "metadata": {
            "needs_background": "light"
          }
        }
      ]
    },
    {
      "cell_type": "markdown",
      "source": [
        " ## Exploratory Data Analysis (Part II)"
      ],
      "metadata": {
        "id": "lNaNC_zgY0Cf"
      }
    },
    {
      "cell_type": "code",
      "source": [
        "df = pd.read_csv('/content/drive/MyDrive/hotel_booking_cleaned_further.csv')"
      ],
      "metadata": {
        "id": "WIuuDLHNYnvF"
      },
      "execution_count": 31,
      "outputs": []
    },
    {
      "cell_type": "code",
      "source": [
        "df = df.drop((df.index[df[['is_canceled']].sum(axis=1)==1]))\n",
        "bf = df[(df['reservation_status']=='Check-Out') & (df.stays_in_week_nights==0) & (df.stays_in_weekend_nights==0)]\n",
        "print(\"Before, there are\", len(bf) ,\"rows corresponding to checked-in bookings but with total number of nights stayed equal to 0.\")\n",
        "\n",
        "df = df.drop(df[(df['reservation_status']=='Check-Out') & (df.stays_in_week_nights==0) & (df.stays_in_weekend_nights==0)].index)\n",
        "af = df[(df['reservation_status']=='Check-Out') & (df.stays_in_week_nights==0) & (df.stays_in_weekend_nights==0)]\n",
        "\n",
        "print(\"After, there are\",len(af) ,\"rows corresponding to checked-in bookings but with total number of nights stayed equal to 0.\")"
      ],
      "metadata": {
        "colab": {
          "base_uri": "https://localhost:8080/"
        },
        "id": "OGu08osIY48t",
        "outputId": "e569ed3a-dbc7-4897-d2a8-6d727ec0703e"
      },
      "execution_count": 32,
      "outputs": [
        {
          "output_type": "stream",
          "name": "stdout",
          "text": [
            "Before, there are 568 rows corresponding to checked-in bookings but with total number of nights stayed equal to 0.\n",
            "After, there are 0 rows corresponding to checked-in bookings but with total number of nights stayed equal to 0.\n"
          ]
        }
      ]
    },
    {
      "cell_type": "markdown",
      "source": [
        "#### Find the busiest month for hotels"
      ],
      "metadata": {
        "id": "xhq0Zws5Y7sV"
      }
    },
    {
      "cell_type": "code",
      "source": [
        "rh = df.loc[(df[\"hotel\"] == \"Resort Hotel\")]\n",
        "ch = df.loc[(df[\"hotel\"] == \"City Hotel\")]\n",
        "resort_guests_monthly = rh.groupby(\"arrival_date_month\")[\"hotel\"].count()\n",
        "city_guests_monthly = ch.groupby(\"arrival_date_month\")[\"hotel\"].count()\n",
        "cr = city_guests_monthly.values+resort_guests_monthly.values\n",
        "t = df.groupby(\"arrival_date_month\")[\"hotel\"].count().sum()\n",
        "m2 = pd.DataFrame({\n",
        " 'arrival_date_month' : (resort_guests_monthly.index),\n",
        " 'City Hotel' : (city_guests_monthly.values),\n",
        " 'Resort Hotel' : (resort_guests_monthly.values),\n",
        " 'NumBookings' : (cr),\n",
        " 'NumBookingPercent':(cr/t*100)}, index = [' ', ' ', ' ', ' ', ' ', ' ', ' ', ' ', ' ', ' ', ' ', ' '])\n",
        "months = [\"January\", \"February\", \"March\", \"April\", \"May\", \"June\", \"July\", \"August\", \"September\", \"October\", \"November\", \"December\"]\n",
        "m2[\"arrival_date_month\"] = pd.Categorical(m2[\"arrival_date_month\"], categories=months, ordered=True)\n",
        "m2 = m2.sort_values(by = \"arrival_date_month\")\n",
        "#plot\n",
        "fig, ax = plt.subplots(figsize=(17,10))\n",
        "plz = ax.bar(months, m2.NumBookings,width=0.6,color='b')\n",
        "ax.set(title=\"Hotel Booking (Confirmed Only) By Months\",\n",
        "       xlabel=\"arrival_date_month\",\n",
        "       ylabel=\"Number of Bookings\")\n",
        "w = plt.plot(months, m2['City Hotel'], color = 'orange', marker = 'o')\n",
        "plt.legend(['City Hotel'],loc='upper right')\n",
        "i=0\n",
        "for rect1 in plz:\n",
        "    height = rect1.get_height()\n",
        "    width = rect1.get_width()\n",
        "    x, y = rect1.get_xy()\n",
        "    plt.annotate(\"{:.2f}%\".format(m2.NumBookings[i]/t*100), (x+width/2,height),ha='center',va='bottom',fontsize=7.5,color='black')\n",
        "    i+=1\n",
        "j=0\n",
        "for rect1 in plz:\n",
        "    height = rect1.get_height()\n",
        "    width = rect1.get_width()\n",
        "    x, y = rect1.get_xy()\n",
        "    plt.annotate(\"{:,}\".format(m2.NumBookings[j]), (x+width/2,height+200),ha='center',va='bottom',fontsize=7.5,color='black')\n",
        "    j+=1\n",
        "for x,y in zip(months, m2['City Hotel']):\n",
        "  label = \"{:,}\".format(y)\n",
        "  plt.annotate(label,\n",
        "               (x,y),\n",
        "               textcoords=\"offset points\",\n",
        "               xytext=(0,10),\n",
        "               ha = 'center', fontsize = 7, color = 'white', weight = 'bold')\n",
        "#---busiest month\n",
        "mydict = {}\n",
        "for A, B in zip(months, m2['City Hotel']):\n",
        "    mydict[A] = B\n",
        "max_value = max(mydict, key=mydict.get)\n",
        "print('Based on the total number of bookings', max_value,'is the busiest month for hotel business.')\n",
        "print(\"\\nHotel Booking (Confirmed Only) By Months (Sorted by Calender Months):\")\n",
        "print(m2)\n",
        "plt.show()"
      ],
      "metadata": {
        "colab": {
          "base_uri": "https://localhost:8080/",
          "height": 751
        },
        "id": "QjSmaYl0ZDTN",
        "outputId": "dbf79ab2-8743-4d0f-d041-c26da555e6dd"
      },
      "execution_count": 33,
      "outputs": [
        {
          "output_type": "stream",
          "name": "stdout",
          "text": [
            "Based on the total number of bookings August is the busiest month for hotel business.\n",
            "\n",
            "Hotel Booking (Confirmed Only) By Months (Sorted by Calender Months):\n",
            "  arrival_date_month  City Hotel  Resort Hotel  NumBookings  NumBookingPercent\n",
            "             January        1931          1657         3588           5.741076\n",
            "            February        2580          2027         4607           7.371554\n",
            "               March        3443          2161         5604           8.966830\n",
            "               April        3303          2149         5452           8.723619\n",
            "                 May        3636          2212         5848           9.357249\n",
            "                June        3459          1903         5362           8.579612\n",
            "                July        3795          2974         6769          10.830920\n",
            "              August        4431          3120         7551          12.082180\n",
            "           September        3148          1867         5015           8.024385\n",
            "             October        3017          2168         5185           8.296398\n",
            "            November        2150          1713         3863           6.181097\n",
            "            December        1990          1663         3653           5.845081\n"
          ]
        },
        {
          "output_type": "display_data",
          "data": {
            "text/plain": [
              "<Figure size 1224x720 with 1 Axes>"
            ],
            "image/png": "[encoded data removed]"
          },
          "metadata": {
            "needs_background": "light"
          }
        }
      ]
    },
    {
      "cell_type": "markdown",
      "source": [
        "#### Compute how long people stay in hotels."
      ],
      "metadata": {
        "id": "7FO6OMunZD0N"
      }
    },
    {
      "cell_type": "code",
      "source": [
        "stay = df.groupby(df.stays_in_week_nights + df.stays_in_weekend_nights).size().reset_index(name='Numbookings')\n",
        "stay.rename(columns = {'index':'stay_in_total_nights'}, inplace = True)\n",
        "sdf = stay.sort_values(by='Numbookings',ascending=False).head(10)\n",
        "sdf = sdf.sort_values(by='stay_in_total_nights',ascending=True).head(10)\n",
        "t = stay.Numbookings.sum()\n",
        "sdf['Numbookings_percent'] = sdf['Numbookings'] / t*100\n",
        "#------\n",
        "r = sdf['stay_in_total_nights'].tolist()\n",
        "fig, ax = plt.subplots(figsize=(13,7))\n",
        "plz = ax.bar(np.array([str(x) for x in r]),sdf['Numbookings_percent'],width=0.5,color='b',align='center')\n",
        "ax.set(title=\"Hotel Booking (Confirmed Only) By Nights Stay Durations (Top-Ten)\",\n",
        "       xlabel=\"Total Number of Nights Stay in Hotels\",\n",
        "       ylabel=\"Number of Bookings (Percentage)\")\n",
        "plt.xticks(np.array([str(x) for x in r]))\n",
        "i=0\n",
        "for rect1 in plz:\n",
        "    height = rect1.get_height()\n",
        "    width = rect1.get_width()\n",
        "    x, y = rect1.get_xy()\n",
        "    plt.annotate(\"{:.2f}%\".format(sdf['Numbookings_percent'].values[i]), (x+width/2,height+0.05),ha='center',va='bottom',fontsize=7,color='black')\n",
        "    i+=1\n",
        "j=0\n",
        "for rect1 in plz:\n",
        "    height = rect1.get_height()\n",
        "    width = rect1.get_width()\n",
        "    x, y = rect1.get_xy()\n",
        "    plt.annotate(\"{:,}\".format(sdf['Numbookings'].values[j]), (x+width/2,height+0.5),ha='center',va='bottom',fontsize=7,color='black')\n",
        "    j+=1\n",
        "k = np.arange(4)\n",
        "fo = round(sdf['Numbookings_percent'].values[k].sum(),2)\n",
        "print('Most of bookings stay for one, two, three or four nights.')\n",
        "print(fo,'percents fall into these durations of stay. \\n')\n",
        "print(sdf)\n",
        "plt.show()"
      ],
      "metadata": {
        "colab": {
          "base_uri": "https://localhost:8080/",
          "height": 694
        },
        "id": "1y_zQ2YjZKul",
        "outputId": "1d1767ea-9977-4a64-f6d8-4909b16dffcc"
      },
      "execution_count": 34,
      "outputs": [
        {
          "output_type": "stream",
          "name": "stdout",
          "text": [
            "Most of bookings stay for one, two, three or four nights.\n",
            "75.72 percents fall into these durations of stay. \n",
            "\n",
            "    stay_in_total_nights  Numbookings  Numbookings_percent\n",
            "0                      1        13975            22.361073\n",
            "1                      2        11505            18.408884\n",
            "2                      3        12445            19.912956\n",
            "3                      4         9396            15.034322\n",
            "4                      5         4664             7.462758\n",
            "5                      6         2131             3.409764\n",
            "6                      7         5208             8.333200\n",
            "7                      8          662             1.059251\n",
            "9                     10          736             1.177657\n",
            "13                    14          636             1.017649\n"
          ]
        },
        {
          "output_type": "display_data",
          "data": {
            "text/plain": [
              "<Figure size 936x504 with 1 Axes>"
            ],
            "image/png": "[encoded data removed]"
          },
          "metadata": {
            "needs_background": "light"
          }
        }
      ]
    },
    {
      "cell_type": "markdown",
      "source": [
        "#### Analyze hotel stay durations in more details."
      ],
      "metadata": {
        "id": "gXHCarHjZLKl"
      }
    },
    {
      "cell_type": "code",
      "source": [
        "df['total_nights'] = df['stays_in_weekend_nights'] + df['stays_in_week_nights']\n",
        "showdf = df.groupby(['total_nights', 'hotel'])[['stays_in_weekend_nights','stays_in_week_nights']].agg('sum').head(20)\n",
        "\n",
        "cwk = df.groupby(['total_nights']).apply(lambda x: x[x['hotel'] == 'City Hotel' ]['stays_in_weekend_nights'].sum()).head(10)\n",
        "cw= df.groupby(['total_nights']).apply(lambda x: x[x['hotel'] == 'City Hotel' ]['stays_in_week_nights'].sum()).head(10)\n",
        "rwk = df.groupby(['total_nights']).apply(lambda x: x[x['hotel'] == 'Resort Hotel' ]['stays_in_weekend_nights'].sum()).head(10)\n",
        "rw= df.groupby(['total_nights']).apply(lambda x: x[x['hotel'] == 'Resort Hotel' ]['stays_in_week_nights'].sum()).head(10)\n",
        "\n",
        "res = pd.DataFrame({\"hotel\": \"Resort hotel\", \n",
        "                    \"wk\": rwk, \n",
        "                    \"w\": rw})\n",
        "cty = pd.DataFrame({\"hotel\": \"City hotel\", \n",
        "                    \"wk\": cwk, \n",
        "                    \"w\": cw})\n",
        "#Plot\n",
        "ind = np.array([str(x) for x in np.arange(1,11)])\n",
        "fig,ax = plt.subplots(figsize=(17, 7))\n",
        "c1 = ax.bar(ind, cty.wk, align='edge',width= -0.2,color='mediumblue',label='weekend_night_count - City Hotel')\n",
        "c2 = ax.bar(ind, cty.w, align='edge',width= -0.2,bottom=cty.wk,color='salmon',label='weeknight_count - City Hotel')\n",
        "r1 = ax.bar(ind, res.wk, align='edge', width= 0.2,color='sienna',label='weekend_night_count - Resort Hotel')\n",
        "r2 = ax.bar(ind, res.w, align='edge', width= 0.2,bottom=res.wk,color='teal',label='week_night_count - Resort Hotel')\n",
        "ax.set(title=\"Hotel Wise and Night Wise Stay Duration(1 - 10 Nights Only)\",\n",
        "       xlabel=\"Total Number of Nights Stayed in Hotels (Stay Duration)\",\n",
        "       ylabel=\"Night Counts\",\n",
        "       ylim=(0,30000))\n",
        "ax.legend(loc='upper right')\n",
        "print(showdf)\n",
        "plt.show()"
      ],
      "metadata": {
        "colab": {
          "base_uri": "https://localhost:8080/",
          "height": 729
        },
        "id": "dQBfm9bmZk9V",
        "outputId": "6c46f6bf-f006-46a1-aa2f-4a6d5fb3525a"
      },
      "execution_count": 35,
      "outputs": [
        {
          "output_type": "stream",
          "name": "stdout",
          "text": [
            "                           stays_in_weekend_nights  stays_in_week_nights\n",
            "total_nights hotel                                                      \n",
            "1            City Hotel                       1891                  6059\n",
            "             Resort Hotel                     1355                  4670\n",
            "2            City Hotel                       3793                 11421\n",
            "             Resort Hotel                     1893                  5903\n",
            "3            City Hotel                       7874                 19918\n",
            "             Resort Hotel                     2464                  7079\n",
            "4            City Hotel                       7398                 18586\n",
            "             Resort Hotel                     3207                  8393\n",
            "5            City Hotel                       4416                 10009\n",
            "             Resort Hotel                     2451                  6444\n",
            "6            City Hotel                       1728                  4386\n",
            "             Resort Hotel                     1870                  4802\n",
            "7            City Hotel                       2292                  5730\n",
            "             Resort Hotel                     8124                 20310\n",
            "8            City Hotel                        455                  1097\n",
            "             Resort Hotel                     1053                  2691\n",
            "9            City Hotel                        286                   713\n",
            "             Resort Hotel                     1022                  2524\n",
            "10           City Hotel                        207                   573\n",
            "             Resort Hotel                     1953                  4627\n"
          ]
        },
        {
          "output_type": "display_data",
          "data": {
            "text/plain": [
              "<Figure size 1224x504 with 1 Axes>"
            ],
            "image/png": "[encoded data removed]"
          },
          "metadata": {
            "needs_background": "light"
          }
        }
      ]
    }
  ]
}